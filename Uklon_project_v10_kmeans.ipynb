{
 "cells": [
  {
   "cell_type": "code",
   "execution_count": 1,
   "metadata": {},
   "outputs": [],
   "source": [
    "import pandas as pd\n",
    "import numpy as np\n",
    "from sklearn.preprocessing import MinMaxScaler\n",
    "from sklearn.model_selection import train_test_split\n",
    "from sklearn import linear_model\n",
    "from sklearn.metrics import mean_squared_error, r2_score\n",
    "from sklearn.model_selection import GridSearchCV"
   ]
  },
  {
   "cell_type": "code",
   "execution_count": 2,
   "metadata": {},
   "outputs": [],
   "source": [
    "import matplotlib.pyplot as plt\n",
    "%matplotlib inline"
   ]
  },
  {
   "cell_type": "code",
   "execution_count": 3,
   "metadata": {},
   "outputs": [],
   "source": [
    "import lightgbm as lgb\n",
    "import xgboost as xgb"
   ]
  },
  {
   "cell_type": "code",
   "execution_count": 4,
   "metadata": {},
   "outputs": [],
   "source": [
    "from sklearn.ensemble import RandomForestRegressor\n",
    "from sklearn.ensemble import ExtraTreesRegressor\n",
    "from sklearn.pipeline import make_pipeline, make_union\n",
    "from sklearn.cluster import DBSCAN"
   ]
  },
  {
   "cell_type": "code",
   "execution_count": 5,
   "metadata": {},
   "outputs": [],
   "source": [
    "from tpot.builtins import StackingEstimator"
   ]
  },
  {
   "cell_type": "code",
   "execution_count": 6,
   "metadata": {},
   "outputs": [],
   "source": [
    "from sklearn.cluster import KMeans"
   ]
  },
  {
   "cell_type": "code",
   "execution_count": 7,
   "metadata": {},
   "outputs": [],
   "source": [
    "filename = \"uklon_sample_3_months_dropnan_driver_id.csv\""
   ]
  },
  {
   "cell_type": "code",
   "execution_count": 8,
   "metadata": {},
   "outputs": [],
   "source": [
    "parse_dates = ['created_at']"
   ]
  },
  {
   "cell_type": "code",
   "execution_count": 9,
   "metadata": {},
   "outputs": [
    {
     "name": "stderr",
     "output_type": "stream",
     "text": [
      "/home/temenid/.local/lib/python3.5/site-packages/IPython/core/interactiveshell.py:2785: DtypeWarning: Columns (19) have mixed types. Specify dtype option on import or set low_memory=False.\n",
      "  interactivity=interactivity, compiler=compiler, result=result)\n"
     ]
    }
   ],
   "source": [
    "df = pd.read_csv(filename, delimiter=\",\", parse_dates=parse_dates)"
   ]
  },
  {
   "cell_type": "code",
   "execution_count": 10,
   "metadata": {},
   "outputs": [
    {
     "data": {
      "text/html": [
       "<div>\n",
       "<style scoped>\n",
       "    .dataframe tbody tr th:only-of-type {\n",
       "        vertical-align: middle;\n",
       "    }\n",
       "\n",
       "    .dataframe tbody tr th {\n",
       "        vertical-align: top;\n",
       "    }\n",
       "\n",
       "    .dataframe thead th {\n",
       "        text-align: right;\n",
       "    }\n",
       "</style>\n",
       "<table border=\"1\" class=\"dataframe\">\n",
       "  <thead>\n",
       "    <tr style=\"text-align: right;\">\n",
       "      <th></th>\n",
       "      <th>order_id</th>\n",
       "      <th>ride_id</th>\n",
       "      <th>created_at</th>\n",
       "      <th>pickup_lat</th>\n",
       "      <th>pickup_lon</th>\n",
       "      <th>dropoff_lat</th>\n",
       "      <th>dropoff_lon</th>\n",
       "      <th>user_id</th>\n",
       "      <th>driver_id</th>\n",
       "      <th>ride_distance</th>\n",
       "      <th>...</th>\n",
       "      <th>ooExtraCost</th>\n",
       "      <th>ooInitialCost</th>\n",
       "      <th>ooIdleCost</th>\n",
       "      <th>oapAzureMlCost</th>\n",
       "      <th>oapAzureMlCostBid</th>\n",
       "      <th>oapCostProvider</th>\n",
       "      <th>ooSurgeMultiplier</th>\n",
       "      <th>driver_lat</th>\n",
       "      <th>driver_lon</th>\n",
       "      <th>dtTaxiDriver_tdID</th>\n",
       "    </tr>\n",
       "  </thead>\n",
       "  <tbody>\n",
       "    <tr>\n",
       "      <th>0</th>\n",
       "      <td>88314768</td>\n",
       "      <td>764A34A6-5C92-4A0C-90E8-82BDA5A5F9C1</td>\n",
       "      <td>2017-10-31 23:59:59.143</td>\n",
       "      <td>50.448906</td>\n",
       "      <td>30.386448</td>\n",
       "      <td>50.410267</td>\n",
       "      <td>30.412216</td>\n",
       "      <td>420361.0</td>\n",
       "      <td>568114.0</td>\n",
       "      <td>9.10</td>\n",
       "      <td>...</td>\n",
       "      <td>1.0</td>\n",
       "      <td>115.0</td>\n",
       "      <td>0.0</td>\n",
       "      <td>114.0</td>\n",
       "      <td>1.0</td>\n",
       "      <td>AzureML</td>\n",
       "      <td>1.35</td>\n",
       "      <td>50.437012</td>\n",
       "      <td>30.383680</td>\n",
       "      <td>568114.0</td>\n",
       "    </tr>\n",
       "    <tr>\n",
       "      <th>1</th>\n",
       "      <td>88314766</td>\n",
       "      <td>299E8328-8BE6-4097-AF81-4834478B4D51</td>\n",
       "      <td>2017-10-31 23:59:58.577</td>\n",
       "      <td>50.446000</td>\n",
       "      <td>30.576200</td>\n",
       "      <td>50.414604</td>\n",
       "      <td>30.384350</td>\n",
       "      <td>722883.0</td>\n",
       "      <td>553135.0</td>\n",
       "      <td>19.74</td>\n",
       "      <td>...</td>\n",
       "      <td>0.0</td>\n",
       "      <td>146.0</td>\n",
       "      <td>0.0</td>\n",
       "      <td>146.0</td>\n",
       "      <td>0.0</td>\n",
       "      <td>AzureML</td>\n",
       "      <td>1.00</td>\n",
       "      <td>50.449512</td>\n",
       "      <td>30.595537</td>\n",
       "      <td>553135.0</td>\n",
       "    </tr>\n",
       "    <tr>\n",
       "      <th>2</th>\n",
       "      <td>88314763</td>\n",
       "      <td>4EDC7FB9-5E34-4132-A2B3-B926F81DB439</td>\n",
       "      <td>2017-10-31 23:59:55.050</td>\n",
       "      <td>50.438610</td>\n",
       "      <td>30.459536</td>\n",
       "      <td>50.439339</td>\n",
       "      <td>30.444427</td>\n",
       "      <td>693323.0</td>\n",
       "      <td>568920.0</td>\n",
       "      <td>11.08</td>\n",
       "      <td>...</td>\n",
       "      <td>-7.0</td>\n",
       "      <td>100.0</td>\n",
       "      <td>0.0</td>\n",
       "      <td>107.0</td>\n",
       "      <td>1.0</td>\n",
       "      <td>AzureML</td>\n",
       "      <td>1.09</td>\n",
       "      <td>50.424972</td>\n",
       "      <td>30.458965</td>\n",
       "      <td>568920.0</td>\n",
       "    </tr>\n",
       "    <tr>\n",
       "      <th>3</th>\n",
       "      <td>88314762</td>\n",
       "      <td>D0EE9C9A-CFDD-44F8-906D-7C3A7ED65A1C</td>\n",
       "      <td>2017-10-31 23:59:54.420</td>\n",
       "      <td>50.449707</td>\n",
       "      <td>30.515345</td>\n",
       "      <td>50.459896</td>\n",
       "      <td>30.402002</td>\n",
       "      <td>17563.0</td>\n",
       "      <td>527239.0</td>\n",
       "      <td>9.24</td>\n",
       "      <td>...</td>\n",
       "      <td>0.0</td>\n",
       "      <td>88.0</td>\n",
       "      <td>0.0</td>\n",
       "      <td>88.0</td>\n",
       "      <td>0.0</td>\n",
       "      <td>NaN</td>\n",
       "      <td>1.00</td>\n",
       "      <td>50.455327</td>\n",
       "      <td>30.515555</td>\n",
       "      <td>527239.0</td>\n",
       "    </tr>\n",
       "    <tr>\n",
       "      <th>4</th>\n",
       "      <td>88314759</td>\n",
       "      <td>18B41EC0-B379-4621-BF7A-DD881D16E038</td>\n",
       "      <td>2017-10-31 23:59:50.053</td>\n",
       "      <td>50.397000</td>\n",
       "      <td>30.632500</td>\n",
       "      <td>50.416607</td>\n",
       "      <td>30.633417</td>\n",
       "      <td>754011.0</td>\n",
       "      <td>531709.0</td>\n",
       "      <td>3.73</td>\n",
       "      <td>...</td>\n",
       "      <td>0.0</td>\n",
       "      <td>55.0</td>\n",
       "      <td>0.0</td>\n",
       "      <td>NaN</td>\n",
       "      <td>NaN</td>\n",
       "      <td>NaN</td>\n",
       "      <td>1.01</td>\n",
       "      <td>NaN</td>\n",
       "      <td>NaN</td>\n",
       "      <td>NaN</td>\n",
       "    </tr>\n",
       "  </tbody>\n",
       "</table>\n",
       "<p>5 rows × 24 columns</p>\n",
       "</div>"
      ],
      "text/plain": [
       "   order_id                               ride_id              created_at  \\\n",
       "0  88314768  764A34A6-5C92-4A0C-90E8-82BDA5A5F9C1 2017-10-31 23:59:59.143   \n",
       "1  88314766  299E8328-8BE6-4097-AF81-4834478B4D51 2017-10-31 23:59:58.577   \n",
       "2  88314763  4EDC7FB9-5E34-4132-A2B3-B926F81DB439 2017-10-31 23:59:55.050   \n",
       "3  88314762  D0EE9C9A-CFDD-44F8-906D-7C3A7ED65A1C 2017-10-31 23:59:54.420   \n",
       "4  88314759  18B41EC0-B379-4621-BF7A-DD881D16E038 2017-10-31 23:59:50.053   \n",
       "\n",
       "   pickup_lat  pickup_lon  dropoff_lat  dropoff_lon   user_id  driver_id  \\\n",
       "0   50.448906   30.386448    50.410267    30.412216  420361.0   568114.0   \n",
       "1   50.446000   30.576200    50.414604    30.384350  722883.0   553135.0   \n",
       "2   50.438610   30.459536    50.439339    30.444427  693323.0   568920.0   \n",
       "3   50.449707   30.515345    50.459896    30.402002   17563.0   527239.0   \n",
       "4   50.397000   30.632500    50.416607    30.633417  754011.0   531709.0   \n",
       "\n",
       "   ride_distance        ...         ooExtraCost  ooInitialCost  ooIdleCost  \\\n",
       "0           9.10        ...                 1.0          115.0         0.0   \n",
       "1          19.74        ...                 0.0          146.0         0.0   \n",
       "2          11.08        ...                -7.0          100.0         0.0   \n",
       "3           9.24        ...                 0.0           88.0         0.0   \n",
       "4           3.73        ...                 0.0           55.0         0.0   \n",
       "\n",
       "   oapAzureMlCost  oapAzureMlCostBid  oapCostProvider  ooSurgeMultiplier  \\\n",
       "0           114.0                1.0          AzureML               1.35   \n",
       "1           146.0                0.0          AzureML               1.00   \n",
       "2           107.0                1.0          AzureML               1.09   \n",
       "3            88.0                0.0              NaN               1.00   \n",
       "4             NaN                NaN              NaN               1.01   \n",
       "\n",
       "   driver_lat  driver_lon dtTaxiDriver_tdID  \n",
       "0   50.437012   30.383680          568114.0  \n",
       "1   50.449512   30.595537          553135.0  \n",
       "2   50.424972   30.458965          568920.0  \n",
       "3   50.455327   30.515555          527239.0  \n",
       "4         NaN         NaN               NaN  \n",
       "\n",
       "[5 rows x 24 columns]"
      ]
     },
     "execution_count": 10,
     "metadata": {},
     "output_type": "execute_result"
    }
   ],
   "source": [
    "df.head()"
   ]
  },
  {
   "cell_type": "code",
   "execution_count": 11,
   "metadata": {},
   "outputs": [
    {
     "data": {
      "text/plain": [
       "Index(['order_id', 'ride_id', 'created_at', 'pickup_lat', 'pickup_lon',\n",
       "       'dropoff_lat', 'dropoff_lon', 'user_id', 'driver_id', 'ride_distance',\n",
       "       'ooCancelReason', 'ooSuburbanDistance', 'ooCarSearchTime', 'ooCost',\n",
       "       'ooExtraCost', 'ooInitialCost', 'ooIdleCost', 'oapAzureMlCost',\n",
       "       'oapAzureMlCostBid', 'oapCostProvider', 'ooSurgeMultiplier',\n",
       "       'driver_lat', 'driver_lon', 'dtTaxiDriver_tdID'],\n",
       "      dtype='object')"
      ]
     },
     "execution_count": 11,
     "metadata": {},
     "output_type": "execute_result"
    }
   ],
   "source": [
    "df.columns"
   ]
  },
  {
   "cell_type": "code",
   "execution_count": 12,
   "metadata": {},
   "outputs": [
    {
     "data": {
      "text/plain": [
       "order_id                    0\n",
       "ride_id                     0\n",
       "created_at                  0\n",
       "pickup_lat                565\n",
       "pickup_lon                565\n",
       "dropoff_lat               780\n",
       "dropoff_lon               780\n",
       "user_id                378190\n",
       "driver_id                   0\n",
       "ride_distance               0\n",
       "ooCancelReason              0\n",
       "ooSuburbanDistance          0\n",
       "ooCarSearchTime             0\n",
       "ooCost                      0\n",
       "ooExtraCost                 0\n",
       "ooInitialCost               0\n",
       "ooIdleCost                  0\n",
       "oapAzureMlCost        1521212\n",
       "oapAzureMlCostBid     1521212\n",
       "oapCostProvider       1350984\n",
       "ooSurgeMultiplier           0\n",
       "driver_lat             417486\n",
       "driver_lon             417486\n",
       "dtTaxiDriver_tdID      417486\n",
       "dtype: int64"
      ]
     },
     "execution_count": 12,
     "metadata": {},
     "output_type": "execute_result"
    }
   ],
   "source": [
    "df.isnull().sum()"
   ]
  },
  {
   "cell_type": "code",
   "execution_count": 13,
   "metadata": {},
   "outputs": [
    {
     "data": {
      "text/plain": [
       "(2815393, 24)"
      ]
     },
     "execution_count": 13,
     "metadata": {},
     "output_type": "execute_result"
    }
   ],
   "source": [
    "df.shape"
   ]
  },
  {
   "cell_type": "code",
   "execution_count": 14,
   "metadata": {},
   "outputs": [],
   "source": [
    "df = df.sample(n=1200000)"
   ]
  },
  {
   "cell_type": "code",
   "execution_count": 15,
   "metadata": {},
   "outputs": [
    {
     "data": {
      "text/plain": [
       "(1200000, 24)"
      ]
     },
     "execution_count": 15,
     "metadata": {},
     "output_type": "execute_result"
    }
   ],
   "source": [
    "df.shape"
   ]
  },
  {
   "cell_type": "code",
   "execution_count": 16,
   "metadata": {},
   "outputs": [],
   "source": [
    "# Remove rows with missing values in column 'driver_id'. The order was not accepted. there was no trip\n",
    "new_df = df.dropna(subset=['driver_id','pickup_lat','pickup_lon','dropoff_lat','dropoff_lon'],inplace=False)"
   ]
  },
  {
   "cell_type": "code",
   "execution_count": 17,
   "metadata": {},
   "outputs": [],
   "source": [
    "# leave only uncanceled ride\n",
    "new_df = new_df.loc[df['ooCancelReason'] == 0]"
   ]
  },
  {
   "cell_type": "code",
   "execution_count": 18,
   "metadata": {},
   "outputs": [
    {
     "data": {
      "text/plain": [
       "(1010393, 24)"
      ]
     },
     "execution_count": 18,
     "metadata": {},
     "output_type": "execute_result"
    }
   ],
   "source": [
    "new_df.shape"
   ]
  },
  {
   "cell_type": "code",
   "execution_count": 19,
   "metadata": {},
   "outputs": [],
   "source": [
    "# initialy select the following columns\n",
    "data = new_df[['created_at','ride_distance', 'ooSuburbanDistance', 'ooCarSearchTime', 'ooCost','pickup_lat','pickup_lon','dropoff_lat','dropoff_lon']] # ,'ooIdleCost'"
   ]
  },
  {
   "cell_type": "code",
   "execution_count": 20,
   "metadata": {},
   "outputs": [
    {
     "data": {
      "text/html": [
       "<div>\n",
       "<style scoped>\n",
       "    .dataframe tbody tr th:only-of-type {\n",
       "        vertical-align: middle;\n",
       "    }\n",
       "\n",
       "    .dataframe tbody tr th {\n",
       "        vertical-align: top;\n",
       "    }\n",
       "\n",
       "    .dataframe thead th {\n",
       "        text-align: right;\n",
       "    }\n",
       "</style>\n",
       "<table border=\"1\" class=\"dataframe\">\n",
       "  <thead>\n",
       "    <tr style=\"text-align: right;\">\n",
       "      <th></th>\n",
       "      <th>created_at</th>\n",
       "      <th>ride_distance</th>\n",
       "      <th>ooSuburbanDistance</th>\n",
       "      <th>ooCarSearchTime</th>\n",
       "      <th>ooCost</th>\n",
       "      <th>pickup_lat</th>\n",
       "      <th>pickup_lon</th>\n",
       "      <th>dropoff_lat</th>\n",
       "      <th>dropoff_lon</th>\n",
       "    </tr>\n",
       "  </thead>\n",
       "  <tbody>\n",
       "    <tr>\n",
       "      <th>1349695</th>\n",
       "      <td>2017-09-20 09:48:11.920</td>\n",
       "      <td>2.44</td>\n",
       "      <td>0</td>\n",
       "      <td>3</td>\n",
       "      <td>81.0</td>\n",
       "      <td>50.463005</td>\n",
       "      <td>30.480190</td>\n",
       "      <td>50.469868</td>\n",
       "      <td>30.485641</td>\n",
       "    </tr>\n",
       "    <tr>\n",
       "      <th>1946014</th>\n",
       "      <td>2017-08-31 14:32:10.157</td>\n",
       "      <td>11.09</td>\n",
       "      <td>0</td>\n",
       "      <td>1</td>\n",
       "      <td>100.0</td>\n",
       "      <td>50.484400</td>\n",
       "      <td>30.592100</td>\n",
       "      <td>50.401200</td>\n",
       "      <td>30.652100</td>\n",
       "    </tr>\n",
       "    <tr>\n",
       "      <th>1369000</th>\n",
       "      <td>2017-09-19 18:03:28.987</td>\n",
       "      <td>11.64</td>\n",
       "      <td>0</td>\n",
       "      <td>8</td>\n",
       "      <td>125.0</td>\n",
       "      <td>50.413185</td>\n",
       "      <td>30.635839</td>\n",
       "      <td>50.440018</td>\n",
       "      <td>30.523884</td>\n",
       "    </tr>\n",
       "    <tr>\n",
       "      <th>349678</th>\n",
       "      <td>2017-10-21 09:45:53.640</td>\n",
       "      <td>14.91</td>\n",
       "      <td>0</td>\n",
       "      <td>10</td>\n",
       "      <td>150.0</td>\n",
       "      <td>50.442287</td>\n",
       "      <td>30.598545</td>\n",
       "      <td>50.333172</td>\n",
       "      <td>30.559622</td>\n",
       "    </tr>\n",
       "    <tr>\n",
       "      <th>671032</th>\n",
       "      <td>2017-10-11 16:02:16.757</td>\n",
       "      <td>3.33</td>\n",
       "      <td>0</td>\n",
       "      <td>64</td>\n",
       "      <td>52.0</td>\n",
       "      <td>50.452682</td>\n",
       "      <td>30.446417</td>\n",
       "      <td>50.439117</td>\n",
       "      <td>30.442051</td>\n",
       "    </tr>\n",
       "  </tbody>\n",
       "</table>\n",
       "</div>"
      ],
      "text/plain": [
       "                     created_at  ride_distance  ooSuburbanDistance  \\\n",
       "1349695 2017-09-20 09:48:11.920           2.44                   0   \n",
       "1946014 2017-08-31 14:32:10.157          11.09                   0   \n",
       "1369000 2017-09-19 18:03:28.987          11.64                   0   \n",
       "349678  2017-10-21 09:45:53.640          14.91                   0   \n",
       "671032  2017-10-11 16:02:16.757           3.33                   0   \n",
       "\n",
       "         ooCarSearchTime  ooCost  pickup_lat  pickup_lon  dropoff_lat  \\\n",
       "1349695                3    81.0   50.463005   30.480190    50.469868   \n",
       "1946014                1   100.0   50.484400   30.592100    50.401200   \n",
       "1369000                8   125.0   50.413185   30.635839    50.440018   \n",
       "349678                10   150.0   50.442287   30.598545    50.333172   \n",
       "671032                64    52.0   50.452682   30.446417    50.439117   \n",
       "\n",
       "         dropoff_lon  \n",
       "1349695    30.485641  \n",
       "1946014    30.652100  \n",
       "1369000    30.523884  \n",
       "349678     30.559622  \n",
       "671032     30.442051  "
      ]
     },
     "execution_count": 20,
     "metadata": {},
     "output_type": "execute_result"
    }
   ],
   "source": [
    "data.head()"
   ]
  },
  {
   "cell_type": "code",
   "execution_count": 21,
   "metadata": {},
   "outputs": [
    {
     "data": {
      "text/plain": [
       "created_at            0\n",
       "ride_distance         0\n",
       "ooSuburbanDistance    0\n",
       "ooCarSearchTime       0\n",
       "ooCost                0\n",
       "pickup_lat            0\n",
       "pickup_lon            0\n",
       "dropoff_lat           0\n",
       "dropoff_lon           0\n",
       "dtype: int64"
      ]
     },
     "execution_count": 21,
     "metadata": {},
     "output_type": "execute_result"
    }
   ],
   "source": [
    "# count the NaN values in a columns\n",
    "data.isnull().sum()"
   ]
  },
  {
   "cell_type": "code",
   "execution_count": 22,
   "metadata": {},
   "outputs": [
    {
     "name": "stderr",
     "output_type": "stream",
     "text": [
      "/home/temenid/.local/lib/python3.5/site-packages/ipykernel_launcher.py:3: SettingWithCopyWarning: \n",
      "A value is trying to be set on a copy of a slice from a DataFrame.\n",
      "Try using .loc[row_indexer,col_indexer] = value instead\n",
      "\n",
      "See the caveats in the documentation: http://pandas.pydata.org/pandas-docs/stable/indexing.html#indexing-view-versus-copy\n",
      "  This is separate from the ipykernel package so we can avoid doing imports until\n",
      "/home/temenid/.local/lib/python3.5/site-packages/ipykernel_launcher.py:4: SettingWithCopyWarning: \n",
      "A value is trying to be set on a copy of a slice from a DataFrame.\n",
      "Try using .loc[row_indexer,col_indexer] = value instead\n",
      "\n",
      "See the caveats in the documentation: http://pandas.pydata.org/pandas-docs/stable/indexing.html#indexing-view-versus-copy\n",
      "  after removing the cwd from sys.path.\n",
      "/home/temenid/.local/lib/python3.5/site-packages/ipykernel_launcher.py:5: SettingWithCopyWarning: \n",
      "A value is trying to be set on a copy of a slice from a DataFrame.\n",
      "Try using .loc[row_indexer,col_indexer] = value instead\n",
      "\n",
      "See the caveats in the documentation: http://pandas.pydata.org/pandas-docs/stable/indexing.html#indexing-view-versus-copy\n",
      "  \"\"\"\n",
      "/home/temenid/.local/lib/python3.5/site-packages/ipykernel_launcher.py:6: SettingWithCopyWarning: \n",
      "A value is trying to be set on a copy of a slice from a DataFrame.\n",
      "Try using .loc[row_indexer,col_indexer] = value instead\n",
      "\n",
      "See the caveats in the documentation: http://pandas.pydata.org/pandas-docs/stable/indexing.html#indexing-view-versus-copy\n",
      "  \n",
      "/home/temenid/.local/lib/python3.5/site-packages/ipykernel_launcher.py:7: SettingWithCopyWarning: \n",
      "A value is trying to be set on a copy of a slice from a DataFrame.\n",
      "Try using .loc[row_indexer,col_indexer] = value instead\n",
      "\n",
      "See the caveats in the documentation: http://pandas.pydata.org/pandas-docs/stable/indexing.html#indexing-view-versus-copy\n",
      "  import sys\n",
      "/home/temenid/.local/lib/python3.5/site-packages/ipykernel_launcher.py:8: SettingWithCopyWarning: \n",
      "A value is trying to be set on a copy of a slice from a DataFrame.\n",
      "Try using .loc[row_indexer,col_indexer] = value instead\n",
      "\n",
      "See the caveats in the documentation: http://pandas.pydata.org/pandas-docs/stable/indexing.html#indexing-view-versus-copy\n",
      "  \n"
     ]
    }
   ],
   "source": [
    "# some simple feature engineering with date\n",
    "# as categorical\n",
    "data['quarter'] = data['created_at'].dt.quarter.astype(str)\n",
    "data['month'] = data['created_at'].dt.month.astype(str)\n",
    "data['day'] = data['created_at'].dt.day.astype(str)\n",
    "data['dayofweek'] = data['created_at'].dt.dayofweek.astype(str)\n",
    "data['hour'] = data['created_at'].dt.hour.astype(str)\n",
    "data['date'] = data['created_at'].dt.strftime('%Y-%m-%d')"
   ]
  },
  {
   "cell_type": "code",
   "execution_count": 23,
   "metadata": {},
   "outputs": [
    {
     "name": "stderr",
     "output_type": "stream",
     "text": [
      "/home/temenid/.local/lib/python3.5/site-packages/ipykernel_launcher.py:2: SettingWithCopyWarning: \n",
      "A value is trying to be set on a copy of a slice from a DataFrame.\n",
      "Try using .loc[row_indexer,col_indexer] = value instead\n",
      "\n",
      "See the caveats in the documentation: http://pandas.pydata.org/pandas-docs/stable/indexing.html#indexing-view-versus-copy\n",
      "  \n",
      "/home/temenid/.local/lib/python3.5/site-packages/ipykernel_launcher.py:3: SettingWithCopyWarning: \n",
      "A value is trying to be set on a copy of a slice from a DataFrame.\n",
      "Try using .loc[row_indexer,col_indexer] = value instead\n",
      "\n",
      "See the caveats in the documentation: http://pandas.pydata.org/pandas-docs/stable/indexing.html#indexing-view-versus-copy\n",
      "  This is separate from the ipykernel package so we can avoid doing imports until\n",
      "/home/temenid/.local/lib/python3.5/site-packages/ipykernel_launcher.py:4: SettingWithCopyWarning: \n",
      "A value is trying to be set on a copy of a slice from a DataFrame.\n",
      "Try using .loc[row_indexer,col_indexer] = value instead\n",
      "\n",
      "See the caveats in the documentation: http://pandas.pydata.org/pandas-docs/stable/indexing.html#indexing-view-versus-copy\n",
      "  after removing the cwd from sys.path.\n",
      "/home/temenid/.local/lib/python3.5/site-packages/ipykernel_launcher.py:5: SettingWithCopyWarning: \n",
      "A value is trying to be set on a copy of a slice from a DataFrame.\n",
      "Try using .loc[row_indexer,col_indexer] = value instead\n",
      "\n",
      "See the caveats in the documentation: http://pandas.pydata.org/pandas-docs/stable/indexing.html#indexing-view-versus-copy\n",
      "  \"\"\"\n",
      "/home/temenid/.local/lib/python3.5/site-packages/ipykernel_launcher.py:6: SettingWithCopyWarning: \n",
      "A value is trying to be set on a copy of a slice from a DataFrame.\n",
      "Try using .loc[row_indexer,col_indexer] = value instead\n",
      "\n",
      "See the caveats in the documentation: http://pandas.pydata.org/pandas-docs/stable/indexing.html#indexing-view-versus-copy\n",
      "  \n"
     ]
    }
   ],
   "source": [
    "# as categorical\n",
    "data['quarter_int'] = data['created_at'].dt.quarter.astype(int)\n",
    "data['month_int'] = data['created_at'].dt.month.astype(int)\n",
    "data['day_int'] = data['created_at'].dt.day.astype(int)\n",
    "data['dayofweek_int'] = data['created_at'].dt.dayofweek.astype(int)\n",
    "data['hour_int'] = data['created_at'].dt.hour.astype(int)"
   ]
  },
  {
   "cell_type": "code",
   "execution_count": 24,
   "metadata": {},
   "outputs": [],
   "source": [
    "dt = {'date': ['2017-08-24', '2017-10-14'], \n",
    "        'isHolidays': [1, 1]}\n",
    "holidays = pd.DataFrame(dt, columns = ['date', 'isHolidays'])"
   ]
  },
  {
   "cell_type": "code",
   "execution_count": 25,
   "metadata": {},
   "outputs": [],
   "source": [
    "data = pd.merge(data, holidays, on='date', how='left')"
   ]
  },
  {
   "cell_type": "code",
   "execution_count": 26,
   "metadata": {},
   "outputs": [],
   "source": [
    "data['isHolidays'].fillna(value=0, inplace=True)"
   ]
  },
  {
   "cell_type": "code",
   "execution_count": 27,
   "metadata": {},
   "outputs": [
    {
     "data": {
      "text/plain": [
       "(1010393, 21)"
      ]
     },
     "execution_count": 27,
     "metadata": {},
     "output_type": "execute_result"
    }
   ],
   "source": [
    "data.shape"
   ]
  },
  {
   "cell_type": "markdown",
   "metadata": {},
   "source": [
    "### Clusterization"
   ]
  },
  {
   "cell_type": "code",
   "execution_count": 28,
   "metadata": {},
   "outputs": [],
   "source": [
    "pickup_coords = data.loc[:,['pickup_lat','pickup_lon']]\n",
    "dropoff_coords = data.loc[:,['dropoff_lat','dropoff_lon']]\n",
    "ride_coords = data.loc[:,['pickup_lat','pickup_lon','dropoff_lat','dropoff_lon']]"
   ]
  },
  {
   "cell_type": "code",
   "execution_count": 29,
   "metadata": {},
   "outputs": [],
   "source": [
    "num_pickup_clusters = 7\n",
    "num_dropoff_clusters = 7\n",
    "num_ride_clusters = 7"
   ]
  },
  {
   "cell_type": "code",
   "execution_count": 30,
   "metadata": {},
   "outputs": [],
   "source": [
    "pickup_kmeans = KMeans(n_clusters=num_pickup_clusters, random_state=1).fit(pickup_coords)"
   ]
  },
  {
   "cell_type": "code",
   "execution_count": 31,
   "metadata": {},
   "outputs": [],
   "source": [
    "dropoff_kmeans = KMeans(n_clusters=num_dropoff_clusters, random_state=1).fit(dropoff_coords)"
   ]
  },
  {
   "cell_type": "code",
   "execution_count": 32,
   "metadata": {},
   "outputs": [],
   "source": [
    "ride_kmeans = KMeans(n_clusters=num_ride_clusters, random_state=1).fit(ride_coords)"
   ]
  },
  {
   "cell_type": "code",
   "execution_count": 33,
   "metadata": {},
   "outputs": [],
   "source": [
    "id_pickup_label=pickup_kmeans.labels_\n",
    "id_dropoff_label=dropoff_kmeans.labels_\n",
    "id_ride_label=ride_kmeans.labels_"
   ]
  },
  {
   "cell_type": "code",
   "execution_count": 34,
   "metadata": {},
   "outputs": [
    {
     "data": {
      "text/plain": [
       "((1010393,), (1010393,))"
      ]
     },
     "execution_count": 34,
     "metadata": {},
     "output_type": "execute_result"
    }
   ],
   "source": [
    "id_pickup_label.shape, id_dropoff_label.shape"
   ]
  },
  {
   "cell_type": "code",
   "execution_count": 35,
   "metadata": {},
   "outputs": [],
   "source": [
    "data['pickup_cluster'] = id_pickup_label.astype(str)\n",
    "data['dropoff_cluster'] = id_dropoff_label.astype(str)\n",
    "data['ride_cluster'] = id_ride_label.astype(str)"
   ]
  },
  {
   "cell_type": "code",
   "execution_count": 36,
   "metadata": {},
   "outputs": [
    {
     "data": {
      "text/html": [
       "<div>\n",
       "<style scoped>\n",
       "    .dataframe tbody tr th:only-of-type {\n",
       "        vertical-align: middle;\n",
       "    }\n",
       "\n",
       "    .dataframe tbody tr th {\n",
       "        vertical-align: top;\n",
       "    }\n",
       "\n",
       "    .dataframe thead th {\n",
       "        text-align: right;\n",
       "    }\n",
       "</style>\n",
       "<table border=\"1\" class=\"dataframe\">\n",
       "  <thead>\n",
       "    <tr style=\"text-align: right;\">\n",
       "      <th></th>\n",
       "      <th>created_at</th>\n",
       "      <th>ride_distance</th>\n",
       "      <th>ooSuburbanDistance</th>\n",
       "      <th>ooCarSearchTime</th>\n",
       "      <th>ooCost</th>\n",
       "      <th>pickup_lat</th>\n",
       "      <th>pickup_lon</th>\n",
       "      <th>dropoff_lat</th>\n",
       "      <th>dropoff_lon</th>\n",
       "      <th>quarter</th>\n",
       "      <th>...</th>\n",
       "      <th>date</th>\n",
       "      <th>quarter_int</th>\n",
       "      <th>month_int</th>\n",
       "      <th>day_int</th>\n",
       "      <th>dayofweek_int</th>\n",
       "      <th>hour_int</th>\n",
       "      <th>isHolidays</th>\n",
       "      <th>pickup_cluster</th>\n",
       "      <th>dropoff_cluster</th>\n",
       "      <th>ride_cluster</th>\n",
       "    </tr>\n",
       "  </thead>\n",
       "  <tbody>\n",
       "    <tr>\n",
       "      <th>0</th>\n",
       "      <td>2017-09-20 09:48:11.920</td>\n",
       "      <td>2.44</td>\n",
       "      <td>0</td>\n",
       "      <td>3</td>\n",
       "      <td>81.0</td>\n",
       "      <td>50.463005</td>\n",
       "      <td>30.480190</td>\n",
       "      <td>50.469868</td>\n",
       "      <td>30.485641</td>\n",
       "      <td>3</td>\n",
       "      <td>...</td>\n",
       "      <td>2017-09-20</td>\n",
       "      <td>3</td>\n",
       "      <td>9</td>\n",
       "      <td>20</td>\n",
       "      <td>2</td>\n",
       "      <td>9</td>\n",
       "      <td>0.0</td>\n",
       "      <td>2</td>\n",
       "      <td>0</td>\n",
       "      <td>1</td>\n",
       "    </tr>\n",
       "    <tr>\n",
       "      <th>1</th>\n",
       "      <td>2017-08-31 14:32:10.157</td>\n",
       "      <td>11.09</td>\n",
       "      <td>0</td>\n",
       "      <td>1</td>\n",
       "      <td>100.0</td>\n",
       "      <td>50.484400</td>\n",
       "      <td>30.592100</td>\n",
       "      <td>50.401200</td>\n",
       "      <td>30.652100</td>\n",
       "      <td>3</td>\n",
       "      <td>...</td>\n",
       "      <td>2017-08-31</td>\n",
       "      <td>3</td>\n",
       "      <td>8</td>\n",
       "      <td>31</td>\n",
       "      <td>3</td>\n",
       "      <td>14</td>\n",
       "      <td>0.0</td>\n",
       "      <td>1</td>\n",
       "      <td>2</td>\n",
       "      <td>6</td>\n",
       "    </tr>\n",
       "    <tr>\n",
       "      <th>2</th>\n",
       "      <td>2017-09-19 18:03:28.987</td>\n",
       "      <td>11.64</td>\n",
       "      <td>0</td>\n",
       "      <td>8</td>\n",
       "      <td>125.0</td>\n",
       "      <td>50.413185</td>\n",
       "      <td>30.635839</td>\n",
       "      <td>50.440018</td>\n",
       "      <td>30.523884</td>\n",
       "      <td>3</td>\n",
       "      <td>...</td>\n",
       "      <td>2017-09-19</td>\n",
       "      <td>3</td>\n",
       "      <td>9</td>\n",
       "      <td>19</td>\n",
       "      <td>1</td>\n",
       "      <td>18</td>\n",
       "      <td>0.0</td>\n",
       "      <td>6</td>\n",
       "      <td>4</td>\n",
       "      <td>4</td>\n",
       "    </tr>\n",
       "    <tr>\n",
       "      <th>3</th>\n",
       "      <td>2017-10-21 09:45:53.640</td>\n",
       "      <td>14.91</td>\n",
       "      <td>0</td>\n",
       "      <td>10</td>\n",
       "      <td>150.0</td>\n",
       "      <td>50.442287</td>\n",
       "      <td>30.598545</td>\n",
       "      <td>50.333172</td>\n",
       "      <td>30.559622</td>\n",
       "      <td>4</td>\n",
       "      <td>...</td>\n",
       "      <td>2017-10-21</td>\n",
       "      <td>4</td>\n",
       "      <td>10</td>\n",
       "      <td>21</td>\n",
       "      <td>5</td>\n",
       "      <td>9</td>\n",
       "      <td>0.0</td>\n",
       "      <td>1</td>\n",
       "      <td>2</td>\n",
       "      <td>6</td>\n",
       "    </tr>\n",
       "    <tr>\n",
       "      <th>4</th>\n",
       "      <td>2017-10-11 16:02:16.757</td>\n",
       "      <td>3.33</td>\n",
       "      <td>0</td>\n",
       "      <td>64</td>\n",
       "      <td>52.0</td>\n",
       "      <td>50.452682</td>\n",
       "      <td>30.446417</td>\n",
       "      <td>50.439117</td>\n",
       "      <td>30.442051</td>\n",
       "      <td>4</td>\n",
       "      <td>...</td>\n",
       "      <td>2017-10-11</td>\n",
       "      <td>4</td>\n",
       "      <td>10</td>\n",
       "      <td>11</td>\n",
       "      <td>2</td>\n",
       "      <td>16</td>\n",
       "      <td>0.0</td>\n",
       "      <td>0</td>\n",
       "      <td>6</td>\n",
       "      <td>2</td>\n",
       "    </tr>\n",
       "  </tbody>\n",
       "</table>\n",
       "<p>5 rows × 24 columns</p>\n",
       "</div>"
      ],
      "text/plain": [
       "               created_at  ride_distance  ooSuburbanDistance  ooCarSearchTime  \\\n",
       "0 2017-09-20 09:48:11.920           2.44                   0                3   \n",
       "1 2017-08-31 14:32:10.157          11.09                   0                1   \n",
       "2 2017-09-19 18:03:28.987          11.64                   0                8   \n",
       "3 2017-10-21 09:45:53.640          14.91                   0               10   \n",
       "4 2017-10-11 16:02:16.757           3.33                   0               64   \n",
       "\n",
       "   ooCost  pickup_lat  pickup_lon  dropoff_lat  dropoff_lon quarter  \\\n",
       "0    81.0   50.463005   30.480190    50.469868    30.485641       3   \n",
       "1   100.0   50.484400   30.592100    50.401200    30.652100       3   \n",
       "2   125.0   50.413185   30.635839    50.440018    30.523884       3   \n",
       "3   150.0   50.442287   30.598545    50.333172    30.559622       4   \n",
       "4    52.0   50.452682   30.446417    50.439117    30.442051       4   \n",
       "\n",
       "       ...             date quarter_int month_int day_int dayofweek_int  \\\n",
       "0      ...       2017-09-20           3         9      20             2   \n",
       "1      ...       2017-08-31           3         8      31             3   \n",
       "2      ...       2017-09-19           3         9      19             1   \n",
       "3      ...       2017-10-21           4        10      21             5   \n",
       "4      ...       2017-10-11           4        10      11             2   \n",
       "\n",
       "   hour_int  isHolidays  pickup_cluster  dropoff_cluster  ride_cluster  \n",
       "0         9         0.0               2                0             1  \n",
       "1        14         0.0               1                2             6  \n",
       "2        18         0.0               6                4             4  \n",
       "3         9         0.0               1                2             6  \n",
       "4        16         0.0               0                6             2  \n",
       "\n",
       "[5 rows x 24 columns]"
      ]
     },
     "execution_count": 36,
     "metadata": {},
     "output_type": "execute_result"
    }
   ],
   "source": [
    "data.head()"
   ]
  },
  {
   "cell_type": "code",
   "execution_count": 37,
   "metadata": {},
   "outputs": [
    {
     "data": {
      "text/html": [
       "<div>\n",
       "<style scoped>\n",
       "    .dataframe tbody tr th:only-of-type {\n",
       "        vertical-align: middle;\n",
       "    }\n",
       "\n",
       "    .dataframe tbody tr th {\n",
       "        vertical-align: top;\n",
       "    }\n",
       "\n",
       "    .dataframe thead th {\n",
       "        text-align: right;\n",
       "    }\n",
       "</style>\n",
       "<table border=\"1\" class=\"dataframe\">\n",
       "  <thead>\n",
       "    <tr style=\"text-align: right;\">\n",
       "      <th></th>\n",
       "      <th>created_at</th>\n",
       "      <th>ride_distance</th>\n",
       "      <th>ooSuburbanDistance</th>\n",
       "      <th>ooCarSearchTime</th>\n",
       "      <th>ooCost</th>\n",
       "      <th>pickup_lat</th>\n",
       "      <th>pickup_lon</th>\n",
       "      <th>dropoff_lat</th>\n",
       "      <th>dropoff_lon</th>\n",
       "      <th>quarter</th>\n",
       "      <th>...</th>\n",
       "      <th>date</th>\n",
       "      <th>quarter_int</th>\n",
       "      <th>month_int</th>\n",
       "      <th>day_int</th>\n",
       "      <th>dayofweek_int</th>\n",
       "      <th>hour_int</th>\n",
       "      <th>isHolidays</th>\n",
       "      <th>pickup_cluster</th>\n",
       "      <th>dropoff_cluster</th>\n",
       "      <th>ride_cluster</th>\n",
       "    </tr>\n",
       "  </thead>\n",
       "  <tbody>\n",
       "    <tr>\n",
       "      <th>1010388</th>\n",
       "      <td>2017-09-29 07:03:32.867</td>\n",
       "      <td>8.16</td>\n",
       "      <td>0</td>\n",
       "      <td>59</td>\n",
       "      <td>90.0</td>\n",
       "      <td>50.502899</td>\n",
       "      <td>30.492081</td>\n",
       "      <td>50.470196</td>\n",
       "      <td>30.466887</td>\n",
       "      <td>3</td>\n",
       "      <td>...</td>\n",
       "      <td>2017-09-29</td>\n",
       "      <td>3</td>\n",
       "      <td>9</td>\n",
       "      <td>29</td>\n",
       "      <td>4</td>\n",
       "      <td>7</td>\n",
       "      <td>0.0</td>\n",
       "      <td>2</td>\n",
       "      <td>0</td>\n",
       "      <td>1</td>\n",
       "    </tr>\n",
       "    <tr>\n",
       "      <th>1010389</th>\n",
       "      <td>2017-08-24 19:16:29.180</td>\n",
       "      <td>14.50</td>\n",
       "      <td>0</td>\n",
       "      <td>67</td>\n",
       "      <td>130.0</td>\n",
       "      <td>50.472130</td>\n",
       "      <td>30.580027</td>\n",
       "      <td>50.441437</td>\n",
       "      <td>30.528309</td>\n",
       "      <td>3</td>\n",
       "      <td>...</td>\n",
       "      <td>2017-08-24</td>\n",
       "      <td>3</td>\n",
       "      <td>8</td>\n",
       "      <td>24</td>\n",
       "      <td>3</td>\n",
       "      <td>19</td>\n",
       "      <td>1.0</td>\n",
       "      <td>1</td>\n",
       "      <td>4</td>\n",
       "      <td>4</td>\n",
       "    </tr>\n",
       "    <tr>\n",
       "      <th>1010390</th>\n",
       "      <td>2017-08-03 14:23:58.903</td>\n",
       "      <td>7.69</td>\n",
       "      <td>0</td>\n",
       "      <td>1</td>\n",
       "      <td>68.0</td>\n",
       "      <td>50.484749</td>\n",
       "      <td>30.466902</td>\n",
       "      <td>50.439453</td>\n",
       "      <td>30.505529</td>\n",
       "      <td>3</td>\n",
       "      <td>...</td>\n",
       "      <td>2017-08-03</td>\n",
       "      <td>3</td>\n",
       "      <td>8</td>\n",
       "      <td>3</td>\n",
       "      <td>3</td>\n",
       "      <td>14</td>\n",
       "      <td>0.0</td>\n",
       "      <td>2</td>\n",
       "      <td>4</td>\n",
       "      <td>1</td>\n",
       "    </tr>\n",
       "    <tr>\n",
       "      <th>1010391</th>\n",
       "      <td>2017-10-12 17:30:26.557</td>\n",
       "      <td>11.04</td>\n",
       "      <td>0</td>\n",
       "      <td>0</td>\n",
       "      <td>95.0</td>\n",
       "      <td>50.526218</td>\n",
       "      <td>30.610609</td>\n",
       "      <td>50.453316</td>\n",
       "      <td>30.586695</td>\n",
       "      <td>4</td>\n",
       "      <td>...</td>\n",
       "      <td>2017-10-12</td>\n",
       "      <td>4</td>\n",
       "      <td>10</td>\n",
       "      <td>12</td>\n",
       "      <td>3</td>\n",
       "      <td>17</td>\n",
       "      <td>0.0</td>\n",
       "      <td>1</td>\n",
       "      <td>1</td>\n",
       "      <td>6</td>\n",
       "    </tr>\n",
       "    <tr>\n",
       "      <th>1010392</th>\n",
       "      <td>2017-09-21 10:43:35.253</td>\n",
       "      <td>3.70</td>\n",
       "      <td>0</td>\n",
       "      <td>11</td>\n",
       "      <td>70.0</td>\n",
       "      <td>50.455574</td>\n",
       "      <td>30.514091</td>\n",
       "      <td>50.451096</td>\n",
       "      <td>30.538111</td>\n",
       "      <td>3</td>\n",
       "      <td>...</td>\n",
       "      <td>2017-09-21</td>\n",
       "      <td>3</td>\n",
       "      <td>9</td>\n",
       "      <td>21</td>\n",
       "      <td>3</td>\n",
       "      <td>10</td>\n",
       "      <td>0.0</td>\n",
       "      <td>3</td>\n",
       "      <td>4</td>\n",
       "      <td>1</td>\n",
       "    </tr>\n",
       "  </tbody>\n",
       "</table>\n",
       "<p>5 rows × 24 columns</p>\n",
       "</div>"
      ],
      "text/plain": [
       "                     created_at  ride_distance  ooSuburbanDistance  \\\n",
       "1010388 2017-09-29 07:03:32.867           8.16                   0   \n",
       "1010389 2017-08-24 19:16:29.180          14.50                   0   \n",
       "1010390 2017-08-03 14:23:58.903           7.69                   0   \n",
       "1010391 2017-10-12 17:30:26.557          11.04                   0   \n",
       "1010392 2017-09-21 10:43:35.253           3.70                   0   \n",
       "\n",
       "         ooCarSearchTime  ooCost  pickup_lat  pickup_lon  dropoff_lat  \\\n",
       "1010388               59    90.0   50.502899   30.492081    50.470196   \n",
       "1010389               67   130.0   50.472130   30.580027    50.441437   \n",
       "1010390                1    68.0   50.484749   30.466902    50.439453   \n",
       "1010391                0    95.0   50.526218   30.610609    50.453316   \n",
       "1010392               11    70.0   50.455574   30.514091    50.451096   \n",
       "\n",
       "         dropoff_lon quarter      ...             date quarter_int month_int  \\\n",
       "1010388    30.466887       3      ...       2017-09-29           3         9   \n",
       "1010389    30.528309       3      ...       2017-08-24           3         8   \n",
       "1010390    30.505529       3      ...       2017-08-03           3         8   \n",
       "1010391    30.586695       4      ...       2017-10-12           4        10   \n",
       "1010392    30.538111       3      ...       2017-09-21           3         9   \n",
       "\n",
       "        day_int dayofweek_int  hour_int  isHolidays  pickup_cluster  \\\n",
       "1010388      29             4         7         0.0               2   \n",
       "1010389      24             3        19         1.0               1   \n",
       "1010390       3             3        14         0.0               2   \n",
       "1010391      12             3        17         0.0               1   \n",
       "1010392      21             3        10         0.0               3   \n",
       "\n",
       "         dropoff_cluster  ride_cluster  \n",
       "1010388                0             1  \n",
       "1010389                4             4  \n",
       "1010390                4             1  \n",
       "1010391                1             6  \n",
       "1010392                4             1  \n",
       "\n",
       "[5 rows x 24 columns]"
      ]
     },
     "execution_count": 37,
     "metadata": {},
     "output_type": "execute_result"
    }
   ],
   "source": [
    "data.tail()"
   ]
  },
  {
   "cell_type": "code",
   "execution_count": 38,
   "metadata": {},
   "outputs": [
    {
     "data": {
      "text/plain": [
       "(1010393, 24)"
      ]
     },
     "execution_count": 38,
     "metadata": {},
     "output_type": "execute_result"
    }
   ],
   "source": [
    "data.shape"
   ]
  },
  {
   "cell_type": "code",
   "execution_count": 39,
   "metadata": {},
   "outputs": [
    {
     "data": {
      "text/html": [
       "<div>\n",
       "<style scoped>\n",
       "    .dataframe tbody tr th:only-of-type {\n",
       "        vertical-align: middle;\n",
       "    }\n",
       "\n",
       "    .dataframe tbody tr th {\n",
       "        vertical-align: top;\n",
       "    }\n",
       "\n",
       "    .dataframe thead th {\n",
       "        text-align: right;\n",
       "    }\n",
       "</style>\n",
       "<table border=\"1\" class=\"dataframe\">\n",
       "  <thead>\n",
       "    <tr style=\"text-align: right;\">\n",
       "      <th></th>\n",
       "      <th>ride_distance</th>\n",
       "      <th>ooSuburbanDistance</th>\n",
       "      <th>ooCarSearchTime</th>\n",
       "      <th>ooCost</th>\n",
       "      <th>pickup_lat</th>\n",
       "      <th>pickup_lon</th>\n",
       "      <th>dropoff_lat</th>\n",
       "      <th>dropoff_lon</th>\n",
       "      <th>quarter_int</th>\n",
       "      <th>month_int</th>\n",
       "      <th>day_int</th>\n",
       "      <th>dayofweek_int</th>\n",
       "      <th>hour_int</th>\n",
       "      <th>isHolidays</th>\n",
       "    </tr>\n",
       "  </thead>\n",
       "  <tbody>\n",
       "    <tr>\n",
       "      <th>count</th>\n",
       "      <td>1.010393e+06</td>\n",
       "      <td>1010393.0</td>\n",
       "      <td>1.010393e+06</td>\n",
       "      <td>1.010393e+06</td>\n",
       "      <td>1.010393e+06</td>\n",
       "      <td>1.010393e+06</td>\n",
       "      <td>1.010393e+06</td>\n",
       "      <td>1.010393e+06</td>\n",
       "      <td>1.010393e+06</td>\n",
       "      <td>1.010393e+06</td>\n",
       "      <td>1.010393e+06</td>\n",
       "      <td>1.010393e+06</td>\n",
       "      <td>1.010393e+06</td>\n",
       "      <td>1.010393e+06</td>\n",
       "    </tr>\n",
       "    <tr>\n",
       "      <th>mean</th>\n",
       "      <td>1.104368e+01</td>\n",
       "      <td>0.0</td>\n",
       "      <td>1.912615e+01</td>\n",
       "      <td>1.053507e+02</td>\n",
       "      <td>5.044623e+01</td>\n",
       "      <td>3.051363e+01</td>\n",
       "      <td>5.044617e+01</td>\n",
       "      <td>3.051375e+01</td>\n",
       "      <td>3.361151e+00</td>\n",
       "      <td>9.048621e+00</td>\n",
       "      <td>1.586020e+01</td>\n",
       "      <td>3.008026e+00</td>\n",
       "      <td>1.334108e+01</td>\n",
       "      <td>2.147184e-02</td>\n",
       "    </tr>\n",
       "    <tr>\n",
       "      <th>std</th>\n",
       "      <td>7.222302e+00</td>\n",
       "      <td>0.0</td>\n",
       "      <td>3.198120e+01</td>\n",
       "      <td>4.989133e+01</td>\n",
       "      <td>3.858343e-02</td>\n",
       "      <td>8.298587e-02</td>\n",
       "      <td>4.070398e-02</td>\n",
       "      <td>8.875674e-02</td>\n",
       "      <td>4.803343e-01</td>\n",
       "      <td>8.193394e-01</td>\n",
       "      <td>8.867502e+00</td>\n",
       "      <td>1.954544e+00</td>\n",
       "      <td>6.561255e+00</td>\n",
       "      <td>1.449511e-01</td>\n",
       "    </tr>\n",
       "    <tr>\n",
       "      <th>min</th>\n",
       "      <td>1.000000e-02</td>\n",
       "      <td>0.0</td>\n",
       "      <td>-3.528000e+03</td>\n",
       "      <td>4.000000e+01</td>\n",
       "      <td>5.010862e+01</td>\n",
       "      <td>2.993005e+01</td>\n",
       "      <td>5.006435e+01</td>\n",
       "      <td>2.988402e+01</td>\n",
       "      <td>3.000000e+00</td>\n",
       "      <td>8.000000e+00</td>\n",
       "      <td>1.000000e+00</td>\n",
       "      <td>0.000000e+00</td>\n",
       "      <td>0.000000e+00</td>\n",
       "      <td>0.000000e+00</td>\n",
       "    </tr>\n",
       "    <tr>\n",
       "      <th>25%</th>\n",
       "      <td>5.610000e+00</td>\n",
       "      <td>0.0</td>\n",
       "      <td>5.000000e+00</td>\n",
       "      <td>7.000000e+01</td>\n",
       "      <td>5.042295e+01</td>\n",
       "      <td>3.046689e+01</td>\n",
       "      <td>5.042179e+01</td>\n",
       "      <td>3.046431e+01</td>\n",
       "      <td>3.000000e+00</td>\n",
       "      <td>8.000000e+00</td>\n",
       "      <td>8.000000e+00</td>\n",
       "      <td>1.000000e+00</td>\n",
       "      <td>9.000000e+00</td>\n",
       "      <td>0.000000e+00</td>\n",
       "    </tr>\n",
       "    <tr>\n",
       "      <th>50%</th>\n",
       "      <td>9.960000e+00</td>\n",
       "      <td>0.0</td>\n",
       "      <td>9.000000e+00</td>\n",
       "      <td>1.000000e+02</td>\n",
       "      <td>5.044257e+01</td>\n",
       "      <td>3.051060e+01</td>\n",
       "      <td>5.044234e+01</td>\n",
       "      <td>3.050883e+01</td>\n",
       "      <td>3.000000e+00</td>\n",
       "      <td>9.000000e+00</td>\n",
       "      <td>1.600000e+01</td>\n",
       "      <td>3.000000e+00</td>\n",
       "      <td>1.400000e+01</td>\n",
       "      <td>0.000000e+00</td>\n",
       "    </tr>\n",
       "    <tr>\n",
       "      <th>75%</th>\n",
       "      <td>1.451000e+01</td>\n",
       "      <td>0.0</td>\n",
       "      <td>2.300000e+01</td>\n",
       "      <td>1.250000e+02</td>\n",
       "      <td>5.046571e+01</td>\n",
       "      <td>3.054615e+01</td>\n",
       "      <td>5.046732e+01</td>\n",
       "      <td>3.055311e+01</td>\n",
       "      <td>4.000000e+00</td>\n",
       "      <td>1.000000e+01</td>\n",
       "      <td>2.300000e+01</td>\n",
       "      <td>5.000000e+00</td>\n",
       "      <td>1.900000e+01</td>\n",
       "      <td>0.000000e+00</td>\n",
       "    </tr>\n",
       "    <tr>\n",
       "      <th>max</th>\n",
       "      <td>1.389000e+02</td>\n",
       "      <td>0.0</td>\n",
       "      <td>4.243000e+03</td>\n",
       "      <td>1.634000e+03</td>\n",
       "      <td>5.081271e+01</td>\n",
       "      <td>3.098882e+01</td>\n",
       "      <td>5.081271e+01</td>\n",
       "      <td>3.098986e+01</td>\n",
       "      <td>4.000000e+00</td>\n",
       "      <td>1.000000e+01</td>\n",
       "      <td>3.100000e+01</td>\n",
       "      <td>6.000000e+00</td>\n",
       "      <td>2.300000e+01</td>\n",
       "      <td>1.000000e+00</td>\n",
       "    </tr>\n",
       "  </tbody>\n",
       "</table>\n",
       "</div>"
      ],
      "text/plain": [
       "       ride_distance  ooSuburbanDistance  ooCarSearchTime        ooCost  \\\n",
       "count   1.010393e+06           1010393.0     1.010393e+06  1.010393e+06   \n",
       "mean    1.104368e+01                 0.0     1.912615e+01  1.053507e+02   \n",
       "std     7.222302e+00                 0.0     3.198120e+01  4.989133e+01   \n",
       "min     1.000000e-02                 0.0    -3.528000e+03  4.000000e+01   \n",
       "25%     5.610000e+00                 0.0     5.000000e+00  7.000000e+01   \n",
       "50%     9.960000e+00                 0.0     9.000000e+00  1.000000e+02   \n",
       "75%     1.451000e+01                 0.0     2.300000e+01  1.250000e+02   \n",
       "max     1.389000e+02                 0.0     4.243000e+03  1.634000e+03   \n",
       "\n",
       "         pickup_lat    pickup_lon   dropoff_lat   dropoff_lon   quarter_int  \\\n",
       "count  1.010393e+06  1.010393e+06  1.010393e+06  1.010393e+06  1.010393e+06   \n",
       "mean   5.044623e+01  3.051363e+01  5.044617e+01  3.051375e+01  3.361151e+00   \n",
       "std    3.858343e-02  8.298587e-02  4.070398e-02  8.875674e-02  4.803343e-01   \n",
       "min    5.010862e+01  2.993005e+01  5.006435e+01  2.988402e+01  3.000000e+00   \n",
       "25%    5.042295e+01  3.046689e+01  5.042179e+01  3.046431e+01  3.000000e+00   \n",
       "50%    5.044257e+01  3.051060e+01  5.044234e+01  3.050883e+01  3.000000e+00   \n",
       "75%    5.046571e+01  3.054615e+01  5.046732e+01  3.055311e+01  4.000000e+00   \n",
       "max    5.081271e+01  3.098882e+01  5.081271e+01  3.098986e+01  4.000000e+00   \n",
       "\n",
       "          month_int       day_int  dayofweek_int      hour_int    isHolidays  \n",
       "count  1.010393e+06  1.010393e+06   1.010393e+06  1.010393e+06  1.010393e+06  \n",
       "mean   9.048621e+00  1.586020e+01   3.008026e+00  1.334108e+01  2.147184e-02  \n",
       "std    8.193394e-01  8.867502e+00   1.954544e+00  6.561255e+00  1.449511e-01  \n",
       "min    8.000000e+00  1.000000e+00   0.000000e+00  0.000000e+00  0.000000e+00  \n",
       "25%    8.000000e+00  8.000000e+00   1.000000e+00  9.000000e+00  0.000000e+00  \n",
       "50%    9.000000e+00  1.600000e+01   3.000000e+00  1.400000e+01  0.000000e+00  \n",
       "75%    1.000000e+01  2.300000e+01   5.000000e+00  1.900000e+01  0.000000e+00  \n",
       "max    1.000000e+01  3.100000e+01   6.000000e+00  2.300000e+01  1.000000e+00  "
      ]
     },
     "execution_count": 39,
     "metadata": {},
     "output_type": "execute_result"
    }
   ],
   "source": [
    "data.describe()"
   ]
  },
  {
   "cell_type": "code",
   "execution_count": 40,
   "metadata": {},
   "outputs": [],
   "source": [
    "# In our dataset, we have both categorical and numeric data. select them for different processing"
   ]
  },
  {
   "cell_type": "code",
   "execution_count": 41,
   "metadata": {},
   "outputs": [],
   "source": [
    "# CATEGORICAL (for the moment only these)\n",
    "catFeatures = ['quarter','month','day','dayofweek', 'pickup_cluster', 'dropoff_cluster','ride_cluster']"
   ]
  },
  {
   "cell_type": "code",
   "execution_count": 42,
   "metadata": {},
   "outputs": [],
   "source": [
    "# Convert categorical variable into dummy/indicator variables\n",
    "df_cat = pd.get_dummies(data[catFeatures])"
   ]
  },
  {
   "cell_type": "code",
   "execution_count": 43,
   "metadata": {},
   "outputs": [
    {
     "data": {
      "text/html": [
       "<div>\n",
       "<style scoped>\n",
       "    .dataframe tbody tr th:only-of-type {\n",
       "        vertical-align: middle;\n",
       "    }\n",
       "\n",
       "    .dataframe tbody tr th {\n",
       "        vertical-align: top;\n",
       "    }\n",
       "\n",
       "    .dataframe thead th {\n",
       "        text-align: right;\n",
       "    }\n",
       "</style>\n",
       "<table border=\"1\" class=\"dataframe\">\n",
       "  <thead>\n",
       "    <tr style=\"text-align: right;\">\n",
       "      <th></th>\n",
       "      <th>quarter_3</th>\n",
       "      <th>quarter_4</th>\n",
       "      <th>month_10</th>\n",
       "      <th>month_8</th>\n",
       "      <th>month_9</th>\n",
       "      <th>day_1</th>\n",
       "      <th>day_10</th>\n",
       "      <th>day_11</th>\n",
       "      <th>day_12</th>\n",
       "      <th>day_13</th>\n",
       "      <th>...</th>\n",
       "      <th>dropoff_cluster_4</th>\n",
       "      <th>dropoff_cluster_5</th>\n",
       "      <th>dropoff_cluster_6</th>\n",
       "      <th>ride_cluster_0</th>\n",
       "      <th>ride_cluster_1</th>\n",
       "      <th>ride_cluster_2</th>\n",
       "      <th>ride_cluster_3</th>\n",
       "      <th>ride_cluster_4</th>\n",
       "      <th>ride_cluster_5</th>\n",
       "      <th>ride_cluster_6</th>\n",
       "    </tr>\n",
       "  </thead>\n",
       "  <tbody>\n",
       "    <tr>\n",
       "      <th>0</th>\n",
       "      <td>1</td>\n",
       "      <td>0</td>\n",
       "      <td>0</td>\n",
       "      <td>0</td>\n",
       "      <td>1</td>\n",
       "      <td>0</td>\n",
       "      <td>0</td>\n",
       "      <td>0</td>\n",
       "      <td>0</td>\n",
       "      <td>0</td>\n",
       "      <td>...</td>\n",
       "      <td>0</td>\n",
       "      <td>0</td>\n",
       "      <td>0</td>\n",
       "      <td>0</td>\n",
       "      <td>1</td>\n",
       "      <td>0</td>\n",
       "      <td>0</td>\n",
       "      <td>0</td>\n",
       "      <td>0</td>\n",
       "      <td>0</td>\n",
       "    </tr>\n",
       "    <tr>\n",
       "      <th>1</th>\n",
       "      <td>1</td>\n",
       "      <td>0</td>\n",
       "      <td>0</td>\n",
       "      <td>1</td>\n",
       "      <td>0</td>\n",
       "      <td>0</td>\n",
       "      <td>0</td>\n",
       "      <td>0</td>\n",
       "      <td>0</td>\n",
       "      <td>0</td>\n",
       "      <td>...</td>\n",
       "      <td>0</td>\n",
       "      <td>0</td>\n",
       "      <td>0</td>\n",
       "      <td>0</td>\n",
       "      <td>0</td>\n",
       "      <td>0</td>\n",
       "      <td>0</td>\n",
       "      <td>0</td>\n",
       "      <td>0</td>\n",
       "      <td>1</td>\n",
       "    </tr>\n",
       "    <tr>\n",
       "      <th>2</th>\n",
       "      <td>1</td>\n",
       "      <td>0</td>\n",
       "      <td>0</td>\n",
       "      <td>0</td>\n",
       "      <td>1</td>\n",
       "      <td>0</td>\n",
       "      <td>0</td>\n",
       "      <td>0</td>\n",
       "      <td>0</td>\n",
       "      <td>0</td>\n",
       "      <td>...</td>\n",
       "      <td>1</td>\n",
       "      <td>0</td>\n",
       "      <td>0</td>\n",
       "      <td>0</td>\n",
       "      <td>0</td>\n",
       "      <td>0</td>\n",
       "      <td>0</td>\n",
       "      <td>1</td>\n",
       "      <td>0</td>\n",
       "      <td>0</td>\n",
       "    </tr>\n",
       "    <tr>\n",
       "      <th>3</th>\n",
       "      <td>0</td>\n",
       "      <td>1</td>\n",
       "      <td>1</td>\n",
       "      <td>0</td>\n",
       "      <td>0</td>\n",
       "      <td>0</td>\n",
       "      <td>0</td>\n",
       "      <td>0</td>\n",
       "      <td>0</td>\n",
       "      <td>0</td>\n",
       "      <td>...</td>\n",
       "      <td>0</td>\n",
       "      <td>0</td>\n",
       "      <td>0</td>\n",
       "      <td>0</td>\n",
       "      <td>0</td>\n",
       "      <td>0</td>\n",
       "      <td>0</td>\n",
       "      <td>0</td>\n",
       "      <td>0</td>\n",
       "      <td>1</td>\n",
       "    </tr>\n",
       "    <tr>\n",
       "      <th>4</th>\n",
       "      <td>0</td>\n",
       "      <td>1</td>\n",
       "      <td>1</td>\n",
       "      <td>0</td>\n",
       "      <td>0</td>\n",
       "      <td>0</td>\n",
       "      <td>0</td>\n",
       "      <td>1</td>\n",
       "      <td>0</td>\n",
       "      <td>0</td>\n",
       "      <td>...</td>\n",
       "      <td>0</td>\n",
       "      <td>0</td>\n",
       "      <td>1</td>\n",
       "      <td>0</td>\n",
       "      <td>0</td>\n",
       "      <td>1</td>\n",
       "      <td>0</td>\n",
       "      <td>0</td>\n",
       "      <td>0</td>\n",
       "      <td>0</td>\n",
       "    </tr>\n",
       "  </tbody>\n",
       "</table>\n",
       "<p>5 rows × 64 columns</p>\n",
       "</div>"
      ],
      "text/plain": [
       "   quarter_3  quarter_4  month_10  month_8  month_9  day_1  day_10  day_11  \\\n",
       "0          1          0         0        0        1      0       0       0   \n",
       "1          1          0         0        1        0      0       0       0   \n",
       "2          1          0         0        0        1      0       0       0   \n",
       "3          0          1         1        0        0      0       0       0   \n",
       "4          0          1         1        0        0      0       0       1   \n",
       "\n",
       "   day_12  day_13       ...        dropoff_cluster_4  dropoff_cluster_5  \\\n",
       "0       0       0       ...                        0                  0   \n",
       "1       0       0       ...                        0                  0   \n",
       "2       0       0       ...                        1                  0   \n",
       "3       0       0       ...                        0                  0   \n",
       "4       0       0       ...                        0                  0   \n",
       "\n",
       "   dropoff_cluster_6  ride_cluster_0  ride_cluster_1  ride_cluster_2  \\\n",
       "0                  0               0               1               0   \n",
       "1                  0               0               0               0   \n",
       "2                  0               0               0               0   \n",
       "3                  0               0               0               0   \n",
       "4                  1               0               0               1   \n",
       "\n",
       "   ride_cluster_3  ride_cluster_4  ride_cluster_5  ride_cluster_6  \n",
       "0               0               0               0               0  \n",
       "1               0               0               0               1  \n",
       "2               0               1               0               0  \n",
       "3               0               0               0               1  \n",
       "4               0               0               0               0  \n",
       "\n",
       "[5 rows x 64 columns]"
      ]
     },
     "execution_count": 43,
     "metadata": {},
     "output_type": "execute_result"
    }
   ],
   "source": [
    "# let's check\n",
    "df_cat.head()"
   ]
  },
  {
   "cell_type": "code",
   "execution_count": 44,
   "metadata": {},
   "outputs": [],
   "source": [
    "# concat dummy/indicator variables to dataframe\n",
    "data = pd.concat([data, df_cat], axis=1)"
   ]
  },
  {
   "cell_type": "code",
   "execution_count": 45,
   "metadata": {},
   "outputs": [
    {
     "data": {
      "text/html": [
       "<div>\n",
       "<style scoped>\n",
       "    .dataframe tbody tr th:only-of-type {\n",
       "        vertical-align: middle;\n",
       "    }\n",
       "\n",
       "    .dataframe tbody tr th {\n",
       "        vertical-align: top;\n",
       "    }\n",
       "\n",
       "    .dataframe thead th {\n",
       "        text-align: right;\n",
       "    }\n",
       "</style>\n",
       "<table border=\"1\" class=\"dataframe\">\n",
       "  <thead>\n",
       "    <tr style=\"text-align: right;\">\n",
       "      <th></th>\n",
       "      <th>created_at</th>\n",
       "      <th>ride_distance</th>\n",
       "      <th>ooSuburbanDistance</th>\n",
       "      <th>ooCarSearchTime</th>\n",
       "      <th>ooCost</th>\n",
       "      <th>pickup_lat</th>\n",
       "      <th>pickup_lon</th>\n",
       "      <th>dropoff_lat</th>\n",
       "      <th>dropoff_lon</th>\n",
       "      <th>quarter</th>\n",
       "      <th>...</th>\n",
       "      <th>dropoff_cluster_4</th>\n",
       "      <th>dropoff_cluster_5</th>\n",
       "      <th>dropoff_cluster_6</th>\n",
       "      <th>ride_cluster_0</th>\n",
       "      <th>ride_cluster_1</th>\n",
       "      <th>ride_cluster_2</th>\n",
       "      <th>ride_cluster_3</th>\n",
       "      <th>ride_cluster_4</th>\n",
       "      <th>ride_cluster_5</th>\n",
       "      <th>ride_cluster_6</th>\n",
       "    </tr>\n",
       "  </thead>\n",
       "  <tbody>\n",
       "    <tr>\n",
       "      <th>0</th>\n",
       "      <td>2017-09-20 09:48:11.920</td>\n",
       "      <td>2.44</td>\n",
       "      <td>0</td>\n",
       "      <td>3</td>\n",
       "      <td>81.0</td>\n",
       "      <td>50.463005</td>\n",
       "      <td>30.480190</td>\n",
       "      <td>50.469868</td>\n",
       "      <td>30.485641</td>\n",
       "      <td>3</td>\n",
       "      <td>...</td>\n",
       "      <td>0</td>\n",
       "      <td>0</td>\n",
       "      <td>0</td>\n",
       "      <td>0</td>\n",
       "      <td>1</td>\n",
       "      <td>0</td>\n",
       "      <td>0</td>\n",
       "      <td>0</td>\n",
       "      <td>0</td>\n",
       "      <td>0</td>\n",
       "    </tr>\n",
       "    <tr>\n",
       "      <th>1</th>\n",
       "      <td>2017-08-31 14:32:10.157</td>\n",
       "      <td>11.09</td>\n",
       "      <td>0</td>\n",
       "      <td>1</td>\n",
       "      <td>100.0</td>\n",
       "      <td>50.484400</td>\n",
       "      <td>30.592100</td>\n",
       "      <td>50.401200</td>\n",
       "      <td>30.652100</td>\n",
       "      <td>3</td>\n",
       "      <td>...</td>\n",
       "      <td>0</td>\n",
       "      <td>0</td>\n",
       "      <td>0</td>\n",
       "      <td>0</td>\n",
       "      <td>0</td>\n",
       "      <td>0</td>\n",
       "      <td>0</td>\n",
       "      <td>0</td>\n",
       "      <td>0</td>\n",
       "      <td>1</td>\n",
       "    </tr>\n",
       "    <tr>\n",
       "      <th>2</th>\n",
       "      <td>2017-09-19 18:03:28.987</td>\n",
       "      <td>11.64</td>\n",
       "      <td>0</td>\n",
       "      <td>8</td>\n",
       "      <td>125.0</td>\n",
       "      <td>50.413185</td>\n",
       "      <td>30.635839</td>\n",
       "      <td>50.440018</td>\n",
       "      <td>30.523884</td>\n",
       "      <td>3</td>\n",
       "      <td>...</td>\n",
       "      <td>1</td>\n",
       "      <td>0</td>\n",
       "      <td>0</td>\n",
       "      <td>0</td>\n",
       "      <td>0</td>\n",
       "      <td>0</td>\n",
       "      <td>0</td>\n",
       "      <td>1</td>\n",
       "      <td>0</td>\n",
       "      <td>0</td>\n",
       "    </tr>\n",
       "    <tr>\n",
       "      <th>3</th>\n",
       "      <td>2017-10-21 09:45:53.640</td>\n",
       "      <td>14.91</td>\n",
       "      <td>0</td>\n",
       "      <td>10</td>\n",
       "      <td>150.0</td>\n",
       "      <td>50.442287</td>\n",
       "      <td>30.598545</td>\n",
       "      <td>50.333172</td>\n",
       "      <td>30.559622</td>\n",
       "      <td>4</td>\n",
       "      <td>...</td>\n",
       "      <td>0</td>\n",
       "      <td>0</td>\n",
       "      <td>0</td>\n",
       "      <td>0</td>\n",
       "      <td>0</td>\n",
       "      <td>0</td>\n",
       "      <td>0</td>\n",
       "      <td>0</td>\n",
       "      <td>0</td>\n",
       "      <td>1</td>\n",
       "    </tr>\n",
       "    <tr>\n",
       "      <th>4</th>\n",
       "      <td>2017-10-11 16:02:16.757</td>\n",
       "      <td>3.33</td>\n",
       "      <td>0</td>\n",
       "      <td>64</td>\n",
       "      <td>52.0</td>\n",
       "      <td>50.452682</td>\n",
       "      <td>30.446417</td>\n",
       "      <td>50.439117</td>\n",
       "      <td>30.442051</td>\n",
       "      <td>4</td>\n",
       "      <td>...</td>\n",
       "      <td>0</td>\n",
       "      <td>0</td>\n",
       "      <td>1</td>\n",
       "      <td>0</td>\n",
       "      <td>0</td>\n",
       "      <td>1</td>\n",
       "      <td>0</td>\n",
       "      <td>0</td>\n",
       "      <td>0</td>\n",
       "      <td>0</td>\n",
       "    </tr>\n",
       "  </tbody>\n",
       "</table>\n",
       "<p>5 rows × 88 columns</p>\n",
       "</div>"
      ],
      "text/plain": [
       "               created_at  ride_distance  ooSuburbanDistance  ooCarSearchTime  \\\n",
       "0 2017-09-20 09:48:11.920           2.44                   0                3   \n",
       "1 2017-08-31 14:32:10.157          11.09                   0                1   \n",
       "2 2017-09-19 18:03:28.987          11.64                   0                8   \n",
       "3 2017-10-21 09:45:53.640          14.91                   0               10   \n",
       "4 2017-10-11 16:02:16.757           3.33                   0               64   \n",
       "\n",
       "   ooCost  pickup_lat  pickup_lon  dropoff_lat  dropoff_lon quarter  \\\n",
       "0    81.0   50.463005   30.480190    50.469868    30.485641       3   \n",
       "1   100.0   50.484400   30.592100    50.401200    30.652100       3   \n",
       "2   125.0   50.413185   30.635839    50.440018    30.523884       3   \n",
       "3   150.0   50.442287   30.598545    50.333172    30.559622       4   \n",
       "4    52.0   50.452682   30.446417    50.439117    30.442051       4   \n",
       "\n",
       "        ...       dropoff_cluster_4 dropoff_cluster_5 dropoff_cluster_6  \\\n",
       "0       ...                       0                 0                 0   \n",
       "1       ...                       0                 0                 0   \n",
       "2       ...                       1                 0                 0   \n",
       "3       ...                       0                 0                 0   \n",
       "4       ...                       0                 0                 1   \n",
       "\n",
       "  ride_cluster_0 ride_cluster_1  ride_cluster_2  ride_cluster_3  \\\n",
       "0              0              1               0               0   \n",
       "1              0              0               0               0   \n",
       "2              0              0               0               0   \n",
       "3              0              0               0               0   \n",
       "4              0              0               1               0   \n",
       "\n",
       "   ride_cluster_4  ride_cluster_5  ride_cluster_6  \n",
       "0               0               0               0  \n",
       "1               0               0               1  \n",
       "2               1               0               0  \n",
       "3               0               0               1  \n",
       "4               0               0               0  \n",
       "\n",
       "[5 rows x 88 columns]"
      ]
     },
     "execution_count": 45,
     "metadata": {},
     "output_type": "execute_result"
    }
   ],
   "source": [
    "data.head()"
   ]
  },
  {
   "cell_type": "code",
   "execution_count": 46,
   "metadata": {},
   "outputs": [],
   "source": [
    "# drop useless categorical column (because we have dummy/indicator variables)\n",
    "data.drop(catFeatures, axis=1,inplace=True)"
   ]
  },
  {
   "cell_type": "code",
   "execution_count": 47,
   "metadata": {},
   "outputs": [
    {
     "data": {
      "text/html": [
       "<div>\n",
       "<style scoped>\n",
       "    .dataframe tbody tr th:only-of-type {\n",
       "        vertical-align: middle;\n",
       "    }\n",
       "\n",
       "    .dataframe tbody tr th {\n",
       "        vertical-align: top;\n",
       "    }\n",
       "\n",
       "    .dataframe thead th {\n",
       "        text-align: right;\n",
       "    }\n",
       "</style>\n",
       "<table border=\"1\" class=\"dataframe\">\n",
       "  <thead>\n",
       "    <tr style=\"text-align: right;\">\n",
       "      <th></th>\n",
       "      <th>created_at</th>\n",
       "      <th>ride_distance</th>\n",
       "      <th>ooSuburbanDistance</th>\n",
       "      <th>ooCarSearchTime</th>\n",
       "      <th>ooCost</th>\n",
       "      <th>pickup_lat</th>\n",
       "      <th>pickup_lon</th>\n",
       "      <th>dropoff_lat</th>\n",
       "      <th>dropoff_lon</th>\n",
       "      <th>hour</th>\n",
       "      <th>...</th>\n",
       "      <th>dropoff_cluster_4</th>\n",
       "      <th>dropoff_cluster_5</th>\n",
       "      <th>dropoff_cluster_6</th>\n",
       "      <th>ride_cluster_0</th>\n",
       "      <th>ride_cluster_1</th>\n",
       "      <th>ride_cluster_2</th>\n",
       "      <th>ride_cluster_3</th>\n",
       "      <th>ride_cluster_4</th>\n",
       "      <th>ride_cluster_5</th>\n",
       "      <th>ride_cluster_6</th>\n",
       "    </tr>\n",
       "  </thead>\n",
       "  <tbody>\n",
       "    <tr>\n",
       "      <th>0</th>\n",
       "      <td>2017-09-20 09:48:11.920</td>\n",
       "      <td>2.44</td>\n",
       "      <td>0</td>\n",
       "      <td>3</td>\n",
       "      <td>81.0</td>\n",
       "      <td>50.463005</td>\n",
       "      <td>30.480190</td>\n",
       "      <td>50.469868</td>\n",
       "      <td>30.485641</td>\n",
       "      <td>9</td>\n",
       "      <td>...</td>\n",
       "      <td>0</td>\n",
       "      <td>0</td>\n",
       "      <td>0</td>\n",
       "      <td>0</td>\n",
       "      <td>1</td>\n",
       "      <td>0</td>\n",
       "      <td>0</td>\n",
       "      <td>0</td>\n",
       "      <td>0</td>\n",
       "      <td>0</td>\n",
       "    </tr>\n",
       "    <tr>\n",
       "      <th>1</th>\n",
       "      <td>2017-08-31 14:32:10.157</td>\n",
       "      <td>11.09</td>\n",
       "      <td>0</td>\n",
       "      <td>1</td>\n",
       "      <td>100.0</td>\n",
       "      <td>50.484400</td>\n",
       "      <td>30.592100</td>\n",
       "      <td>50.401200</td>\n",
       "      <td>30.652100</td>\n",
       "      <td>14</td>\n",
       "      <td>...</td>\n",
       "      <td>0</td>\n",
       "      <td>0</td>\n",
       "      <td>0</td>\n",
       "      <td>0</td>\n",
       "      <td>0</td>\n",
       "      <td>0</td>\n",
       "      <td>0</td>\n",
       "      <td>0</td>\n",
       "      <td>0</td>\n",
       "      <td>1</td>\n",
       "    </tr>\n",
       "    <tr>\n",
       "      <th>2</th>\n",
       "      <td>2017-09-19 18:03:28.987</td>\n",
       "      <td>11.64</td>\n",
       "      <td>0</td>\n",
       "      <td>8</td>\n",
       "      <td>125.0</td>\n",
       "      <td>50.413185</td>\n",
       "      <td>30.635839</td>\n",
       "      <td>50.440018</td>\n",
       "      <td>30.523884</td>\n",
       "      <td>18</td>\n",
       "      <td>...</td>\n",
       "      <td>1</td>\n",
       "      <td>0</td>\n",
       "      <td>0</td>\n",
       "      <td>0</td>\n",
       "      <td>0</td>\n",
       "      <td>0</td>\n",
       "      <td>0</td>\n",
       "      <td>1</td>\n",
       "      <td>0</td>\n",
       "      <td>0</td>\n",
       "    </tr>\n",
       "    <tr>\n",
       "      <th>3</th>\n",
       "      <td>2017-10-21 09:45:53.640</td>\n",
       "      <td>14.91</td>\n",
       "      <td>0</td>\n",
       "      <td>10</td>\n",
       "      <td>150.0</td>\n",
       "      <td>50.442287</td>\n",
       "      <td>30.598545</td>\n",
       "      <td>50.333172</td>\n",
       "      <td>30.559622</td>\n",
       "      <td>9</td>\n",
       "      <td>...</td>\n",
       "      <td>0</td>\n",
       "      <td>0</td>\n",
       "      <td>0</td>\n",
       "      <td>0</td>\n",
       "      <td>0</td>\n",
       "      <td>0</td>\n",
       "      <td>0</td>\n",
       "      <td>0</td>\n",
       "      <td>0</td>\n",
       "      <td>1</td>\n",
       "    </tr>\n",
       "    <tr>\n",
       "      <th>4</th>\n",
       "      <td>2017-10-11 16:02:16.757</td>\n",
       "      <td>3.33</td>\n",
       "      <td>0</td>\n",
       "      <td>64</td>\n",
       "      <td>52.0</td>\n",
       "      <td>50.452682</td>\n",
       "      <td>30.446417</td>\n",
       "      <td>50.439117</td>\n",
       "      <td>30.442051</td>\n",
       "      <td>16</td>\n",
       "      <td>...</td>\n",
       "      <td>0</td>\n",
       "      <td>0</td>\n",
       "      <td>1</td>\n",
       "      <td>0</td>\n",
       "      <td>0</td>\n",
       "      <td>1</td>\n",
       "      <td>0</td>\n",
       "      <td>0</td>\n",
       "      <td>0</td>\n",
       "      <td>0</td>\n",
       "    </tr>\n",
       "  </tbody>\n",
       "</table>\n",
       "<p>5 rows × 81 columns</p>\n",
       "</div>"
      ],
      "text/plain": [
       "               created_at  ride_distance  ooSuburbanDistance  ooCarSearchTime  \\\n",
       "0 2017-09-20 09:48:11.920           2.44                   0                3   \n",
       "1 2017-08-31 14:32:10.157          11.09                   0                1   \n",
       "2 2017-09-19 18:03:28.987          11.64                   0                8   \n",
       "3 2017-10-21 09:45:53.640          14.91                   0               10   \n",
       "4 2017-10-11 16:02:16.757           3.33                   0               64   \n",
       "\n",
       "   ooCost  pickup_lat  pickup_lon  dropoff_lat  dropoff_lon hour  \\\n",
       "0    81.0   50.463005   30.480190    50.469868    30.485641    9   \n",
       "1   100.0   50.484400   30.592100    50.401200    30.652100   14   \n",
       "2   125.0   50.413185   30.635839    50.440018    30.523884   18   \n",
       "3   150.0   50.442287   30.598545    50.333172    30.559622    9   \n",
       "4    52.0   50.452682   30.446417    50.439117    30.442051   16   \n",
       "\n",
       "        ...       dropoff_cluster_4  dropoff_cluster_5  dropoff_cluster_6  \\\n",
       "0       ...                       0                  0                  0   \n",
       "1       ...                       0                  0                  0   \n",
       "2       ...                       1                  0                  0   \n",
       "3       ...                       0                  0                  0   \n",
       "4       ...                       0                  0                  1   \n",
       "\n",
       "   ride_cluster_0  ride_cluster_1  ride_cluster_2  ride_cluster_3  \\\n",
       "0               0               1               0               0   \n",
       "1               0               0               0               0   \n",
       "2               0               0               0               0   \n",
       "3               0               0               0               0   \n",
       "4               0               0               1               0   \n",
       "\n",
       "   ride_cluster_4  ride_cluster_5  ride_cluster_6  \n",
       "0               0               0               0  \n",
       "1               0               0               1  \n",
       "2               1               0               0  \n",
       "3               0               0               1  \n",
       "4               0               0               0  \n",
       "\n",
       "[5 rows x 81 columns]"
      ]
     },
     "execution_count": 47,
     "metadata": {},
     "output_type": "execute_result"
    }
   ],
   "source": [
    "data.head()"
   ]
  },
  {
   "cell_type": "code",
   "execution_count": 48,
   "metadata": {},
   "outputs": [],
   "source": [
    "#INTEGER\n",
    "intFeatures = ['ride_distance','ooSuburbanDistance','ooCarSearchTime','quarter_int','month_int','day_int','dayofweek_int']"
   ]
  },
  {
   "cell_type": "code",
   "execution_count": 49,
   "metadata": {},
   "outputs": [],
   "source": [
    "# integer features scaling\n",
    "scaler = MinMaxScaler()\n",
    "data[intFeatures] = scaler.fit_transform(data[intFeatures])"
   ]
  },
  {
   "cell_type": "code",
   "execution_count": 50,
   "metadata": {},
   "outputs": [],
   "source": [
    "# split features and target\n",
    "dfX = data.drop(['pickup_lat','pickup_lon','dropoff_lat','dropoff_lon','created_at','date','ooCost'], axis=1)\n",
    "dfY = data['ooCost']"
   ]
  },
  {
   "cell_type": "code",
   "execution_count": 51,
   "metadata": {},
   "outputs": [
    {
     "data": {
      "text/html": [
       "<div>\n",
       "<style scoped>\n",
       "    .dataframe tbody tr th:only-of-type {\n",
       "        vertical-align: middle;\n",
       "    }\n",
       "\n",
       "    .dataframe tbody tr th {\n",
       "        vertical-align: top;\n",
       "    }\n",
       "\n",
       "    .dataframe thead th {\n",
       "        text-align: right;\n",
       "    }\n",
       "</style>\n",
       "<table border=\"1\" class=\"dataframe\">\n",
       "  <thead>\n",
       "    <tr style=\"text-align: right;\">\n",
       "      <th></th>\n",
       "      <th>ride_distance</th>\n",
       "      <th>ooSuburbanDistance</th>\n",
       "      <th>ooCarSearchTime</th>\n",
       "      <th>hour</th>\n",
       "      <th>quarter_int</th>\n",
       "      <th>month_int</th>\n",
       "      <th>day_int</th>\n",
       "      <th>dayofweek_int</th>\n",
       "      <th>hour_int</th>\n",
       "      <th>isHolidays</th>\n",
       "      <th>...</th>\n",
       "      <th>dropoff_cluster_4</th>\n",
       "      <th>dropoff_cluster_5</th>\n",
       "      <th>dropoff_cluster_6</th>\n",
       "      <th>ride_cluster_0</th>\n",
       "      <th>ride_cluster_1</th>\n",
       "      <th>ride_cluster_2</th>\n",
       "      <th>ride_cluster_3</th>\n",
       "      <th>ride_cluster_4</th>\n",
       "      <th>ride_cluster_5</th>\n",
       "      <th>ride_cluster_6</th>\n",
       "    </tr>\n",
       "  </thead>\n",
       "  <tbody>\n",
       "    <tr>\n",
       "      <th>0</th>\n",
       "      <td>0.017496</td>\n",
       "      <td>0.0</td>\n",
       "      <td>0.454382</td>\n",
       "      <td>9</td>\n",
       "      <td>0.0</td>\n",
       "      <td>0.5</td>\n",
       "      <td>0.633333</td>\n",
       "      <td>0.333333</td>\n",
       "      <td>9</td>\n",
       "      <td>0.0</td>\n",
       "      <td>...</td>\n",
       "      <td>0</td>\n",
       "      <td>0</td>\n",
       "      <td>0</td>\n",
       "      <td>0</td>\n",
       "      <td>1</td>\n",
       "      <td>0</td>\n",
       "      <td>0</td>\n",
       "      <td>0</td>\n",
       "      <td>0</td>\n",
       "      <td>0</td>\n",
       "    </tr>\n",
       "    <tr>\n",
       "      <th>1</th>\n",
       "      <td>0.079775</td>\n",
       "      <td>0.0</td>\n",
       "      <td>0.454124</td>\n",
       "      <td>14</td>\n",
       "      <td>0.0</td>\n",
       "      <td>0.0</td>\n",
       "      <td>1.000000</td>\n",
       "      <td>0.500000</td>\n",
       "      <td>14</td>\n",
       "      <td>0.0</td>\n",
       "      <td>...</td>\n",
       "      <td>0</td>\n",
       "      <td>0</td>\n",
       "      <td>0</td>\n",
       "      <td>0</td>\n",
       "      <td>0</td>\n",
       "      <td>0</td>\n",
       "      <td>0</td>\n",
       "      <td>0</td>\n",
       "      <td>0</td>\n",
       "      <td>1</td>\n",
       "    </tr>\n",
       "    <tr>\n",
       "      <th>2</th>\n",
       "      <td>0.083735</td>\n",
       "      <td>0.0</td>\n",
       "      <td>0.455025</td>\n",
       "      <td>18</td>\n",
       "      <td>0.0</td>\n",
       "      <td>0.5</td>\n",
       "      <td>0.600000</td>\n",
       "      <td>0.166667</td>\n",
       "      <td>18</td>\n",
       "      <td>0.0</td>\n",
       "      <td>...</td>\n",
       "      <td>1</td>\n",
       "      <td>0</td>\n",
       "      <td>0</td>\n",
       "      <td>0</td>\n",
       "      <td>0</td>\n",
       "      <td>0</td>\n",
       "      <td>0</td>\n",
       "      <td>1</td>\n",
       "      <td>0</td>\n",
       "      <td>0</td>\n",
       "    </tr>\n",
       "    <tr>\n",
       "      <th>3</th>\n",
       "      <td>0.107279</td>\n",
       "      <td>0.0</td>\n",
       "      <td>0.455282</td>\n",
       "      <td>9</td>\n",
       "      <td>1.0</td>\n",
       "      <td>1.0</td>\n",
       "      <td>0.666667</td>\n",
       "      <td>0.833333</td>\n",
       "      <td>9</td>\n",
       "      <td>0.0</td>\n",
       "      <td>...</td>\n",
       "      <td>0</td>\n",
       "      <td>0</td>\n",
       "      <td>0</td>\n",
       "      <td>0</td>\n",
       "      <td>0</td>\n",
       "      <td>0</td>\n",
       "      <td>0</td>\n",
       "      <td>0</td>\n",
       "      <td>0</td>\n",
       "      <td>1</td>\n",
       "    </tr>\n",
       "    <tr>\n",
       "      <th>4</th>\n",
       "      <td>0.023904</td>\n",
       "      <td>0.0</td>\n",
       "      <td>0.462231</td>\n",
       "      <td>16</td>\n",
       "      <td>1.0</td>\n",
       "      <td>1.0</td>\n",
       "      <td>0.333333</td>\n",
       "      <td>0.333333</td>\n",
       "      <td>16</td>\n",
       "      <td>0.0</td>\n",
       "      <td>...</td>\n",
       "      <td>0</td>\n",
       "      <td>0</td>\n",
       "      <td>1</td>\n",
       "      <td>0</td>\n",
       "      <td>0</td>\n",
       "      <td>1</td>\n",
       "      <td>0</td>\n",
       "      <td>0</td>\n",
       "      <td>0</td>\n",
       "      <td>0</td>\n",
       "    </tr>\n",
       "  </tbody>\n",
       "</table>\n",
       "<p>5 rows × 74 columns</p>\n",
       "</div>"
      ],
      "text/plain": [
       "   ride_distance  ooSuburbanDistance  ooCarSearchTime hour  quarter_int  \\\n",
       "0       0.017496                 0.0         0.454382    9          0.0   \n",
       "1       0.079775                 0.0         0.454124   14          0.0   \n",
       "2       0.083735                 0.0         0.455025   18          0.0   \n",
       "3       0.107279                 0.0         0.455282    9          1.0   \n",
       "4       0.023904                 0.0         0.462231   16          1.0   \n",
       "\n",
       "   month_int   day_int  dayofweek_int  hour_int  isHolidays       ...        \\\n",
       "0        0.5  0.633333       0.333333         9         0.0       ...         \n",
       "1        0.0  1.000000       0.500000        14         0.0       ...         \n",
       "2        0.5  0.600000       0.166667        18         0.0       ...         \n",
       "3        1.0  0.666667       0.833333         9         0.0       ...         \n",
       "4        1.0  0.333333       0.333333        16         0.0       ...         \n",
       "\n",
       "   dropoff_cluster_4  dropoff_cluster_5  dropoff_cluster_6  ride_cluster_0  \\\n",
       "0                  0                  0                  0               0   \n",
       "1                  0                  0                  0               0   \n",
       "2                  1                  0                  0               0   \n",
       "3                  0                  0                  0               0   \n",
       "4                  0                  0                  1               0   \n",
       "\n",
       "   ride_cluster_1  ride_cluster_2  ride_cluster_3  ride_cluster_4  \\\n",
       "0               1               0               0               0   \n",
       "1               0               0               0               0   \n",
       "2               0               0               0               1   \n",
       "3               0               0               0               0   \n",
       "4               0               1               0               0   \n",
       "\n",
       "   ride_cluster_5  ride_cluster_6  \n",
       "0               0               0  \n",
       "1               0               1  \n",
       "2               0               0  \n",
       "3               0               1  \n",
       "4               0               0  \n",
       "\n",
       "[5 rows x 74 columns]"
      ]
     },
     "execution_count": 51,
     "metadata": {},
     "output_type": "execute_result"
    }
   ],
   "source": [
    "dfX.head()"
   ]
  },
  {
   "cell_type": "code",
   "execution_count": 52,
   "metadata": {},
   "outputs": [
    {
     "data": {
      "text/plain": [
       "0     81.0\n",
       "1    100.0\n",
       "2    125.0\n",
       "3    150.0\n",
       "4     52.0\n",
       "Name: ooCost, dtype: float64"
      ]
     },
     "execution_count": 52,
     "metadata": {},
     "output_type": "execute_result"
    }
   ],
   "source": [
    "dfY.head()"
   ]
  },
  {
   "cell_type": "code",
   "execution_count": 53,
   "metadata": {},
   "outputs": [],
   "source": [
    "# get features names\n",
    "fNames = dfX.columns"
   ]
  },
  {
   "cell_type": "code",
   "execution_count": 54,
   "metadata": {},
   "outputs": [
    {
     "data": {
      "text/plain": [
       "Index(['ride_distance', 'ooSuburbanDistance', 'ooCarSearchTime', 'hour',\n",
       "       'quarter_int', 'month_int', 'day_int', 'dayofweek_int', 'hour_int',\n",
       "       'isHolidays', 'quarter_3', 'quarter_4', 'month_10', 'month_8',\n",
       "       'month_9', 'day_1', 'day_10', 'day_11', 'day_12', 'day_13', 'day_14',\n",
       "       'day_15', 'day_16', 'day_17', 'day_18', 'day_19', 'day_2', 'day_20',\n",
       "       'day_21', 'day_22', 'day_23', 'day_24', 'day_25', 'day_26', 'day_27',\n",
       "       'day_28', 'day_29', 'day_3', 'day_30', 'day_31', 'day_4', 'day_5',\n",
       "       'day_6', 'day_7', 'day_8', 'day_9', 'dayofweek_0', 'dayofweek_1',\n",
       "       'dayofweek_2', 'dayofweek_3', 'dayofweek_4', 'dayofweek_5',\n",
       "       'dayofweek_6', 'pickup_cluster_0', 'pickup_cluster_1',\n",
       "       'pickup_cluster_2', 'pickup_cluster_3', 'pickup_cluster_4',\n",
       "       'pickup_cluster_5', 'pickup_cluster_6', 'dropoff_cluster_0',\n",
       "       'dropoff_cluster_1', 'dropoff_cluster_2', 'dropoff_cluster_3',\n",
       "       'dropoff_cluster_4', 'dropoff_cluster_5', 'dropoff_cluster_6',\n",
       "       'ride_cluster_0', 'ride_cluster_1', 'ride_cluster_2', 'ride_cluster_3',\n",
       "       'ride_cluster_4', 'ride_cluster_5', 'ride_cluster_6'],\n",
       "      dtype='object')"
      ]
     },
     "execution_count": 54,
     "metadata": {},
     "output_type": "execute_result"
    }
   ],
   "source": [
    "fNames"
   ]
  },
  {
   "cell_type": "code",
   "execution_count": 55,
   "metadata": {},
   "outputs": [],
   "source": [
    "# Get values\n",
    "# features\n",
    "X = dfX[fNames].values\n",
    "# targets\n",
    "y = dfY.values"
   ]
  },
  {
   "cell_type": "code",
   "execution_count": 56,
   "metadata": {},
   "outputs": [
    {
     "data": {
      "text/plain": [
       "((1010393, 74), (1010393,))"
      ]
     },
     "execution_count": 56,
     "metadata": {},
     "output_type": "execute_result"
    }
   ],
   "source": [
    "X.shape, y.shape"
   ]
  },
  {
   "cell_type": "code",
   "execution_count": 57,
   "metadata": {},
   "outputs": [],
   "source": [
    "# Split our data into random train and test subsets with specific proportion\n",
    "X_train, X_test, y_train, y_test = train_test_split(X, y, test_size=0.25, random_state=1)"
   ]
  },
  {
   "cell_type": "code",
   "execution_count": 58,
   "metadata": {},
   "outputs": [
    {
     "data": {
      "text/plain": [
       "((757794, 74), (757794,))"
      ]
     },
     "execution_count": 58,
     "metadata": {},
     "output_type": "execute_result"
    }
   ],
   "source": [
    "X_train.shape, y_train.shape"
   ]
  },
  {
   "cell_type": "markdown",
   "metadata": {},
   "source": [
    "### simple linear regression"
   ]
  },
  {
   "cell_type": "code",
   "execution_count": 59,
   "metadata": {},
   "outputs": [],
   "source": [
    "# Create linear regression object\n",
    "regr = linear_model.LinearRegression()"
   ]
  },
  {
   "cell_type": "code",
   "execution_count": 60,
   "metadata": {},
   "outputs": [
    {
     "data": {
      "text/plain": [
       "LinearRegression(copy_X=True, fit_intercept=True, n_jobs=1, normalize=False)"
      ]
     },
     "execution_count": 60,
     "metadata": {},
     "output_type": "execute_result"
    }
   ],
   "source": [
    "# Train the model using the training sets\n",
    "regr.fit(X_train, y_train)"
   ]
  },
  {
   "cell_type": "code",
   "execution_count": 61,
   "metadata": {},
   "outputs": [],
   "source": [
    "# Make predictions using the testing set\n",
    "y_pred = regr.predict(X_test)"
   ]
  },
  {
   "cell_type": "code",
   "execution_count": 62,
   "metadata": {},
   "outputs": [
    {
     "name": "stdout",
     "output_type": "stream",
     "text": [
      "Mean squared error: 335.09\n"
     ]
    }
   ],
   "source": [
    "# The mean squared error\n",
    "print(\"Mean squared error: %.2f\"\n",
    "      % mean_squared_error(y_test, y_pred))"
   ]
  },
  {
   "cell_type": "code",
   "execution_count": 63,
   "metadata": {},
   "outputs": [],
   "source": [
    "def mean_absolute_percentage_error(y_true, y_pred): \n",
    "    return np.mean(np.abs((y_true - y_pred) / y_true)) * 100"
   ]
  },
  {
   "cell_type": "code",
   "execution_count": 64,
   "metadata": {},
   "outputs": [
    {
     "data": {
      "text/plain": [
       "10.800459367255831"
      ]
     },
     "execution_count": 64,
     "metadata": {},
     "output_type": "execute_result"
    }
   ],
   "source": [
    "mean_absolute_percentage_error(y_test, y_pred)"
   ]
  },
  {
   "cell_type": "markdown",
   "metadata": {},
   "source": [
    "### RandomForestRegressor"
   ]
  },
  {
   "cell_type": "code",
   "execution_count": 65,
   "metadata": {},
   "outputs": [
    {
     "data": {
      "text/plain": [
       "RandomForestRegressor(bootstrap=True, criterion='mse', max_depth=None,\n",
       "           max_features='auto', max_leaf_nodes=None,\n",
       "           min_impurity_decrease=0.0, min_impurity_split=None,\n",
       "           min_samples_leaf=1, min_samples_split=2,\n",
       "           min_weight_fraction_leaf=0.0, n_estimators=100, n_jobs=1,\n",
       "           oob_score=False, random_state=1, verbose=0, warm_start=False)"
      ]
     },
     "execution_count": 65,
     "metadata": {},
     "output_type": "execute_result"
    }
   ],
   "source": [
    "rf = RandomForestRegressor(n_estimators=100, random_state=1)\n",
    "rf.fit(X_train, y_train)"
   ]
  },
  {
   "cell_type": "code",
   "execution_count": 66,
   "metadata": {},
   "outputs": [],
   "source": [
    "# Make predictions using the testing set\n",
    "y_pred = rf.predict(X_test)"
   ]
  },
  {
   "cell_type": "code",
   "execution_count": 67,
   "metadata": {},
   "outputs": [
    {
     "name": "stdout",
     "output_type": "stream",
     "text": [
      "Mean squared error: 316.73\n"
     ]
    }
   ],
   "source": [
    "# The mean squared error\n",
    "print(\"Mean squared error: %.2f\"\n",
    "      % mean_squared_error(y_test, y_pred))"
   ]
  },
  {
   "cell_type": "code",
   "execution_count": 68,
   "metadata": {},
   "outputs": [
    {
     "data": {
      "text/plain": [
       "10.475150734104792"
      ]
     },
     "execution_count": 68,
     "metadata": {},
     "output_type": "execute_result"
    }
   ],
   "source": [
    "mean_absolute_percentage_error(y_test, y_pred)"
   ]
  },
  {
   "cell_type": "markdown",
   "metadata": {},
   "source": [
    "### xgboost"
   ]
  },
  {
   "cell_type": "code",
   "execution_count": 69,
   "metadata": {},
   "outputs": [],
   "source": [
    "xgb_model = xgb.XGBRegressor(random_state=1)"
   ]
  },
  {
   "cell_type": "code",
   "execution_count": 70,
   "metadata": {},
   "outputs": [
    {
     "data": {
      "text/plain": [
       "XGBRegressor(base_score=0.5, booster='gbtree', colsample_bylevel=1,\n",
       "       colsample_bytree=1, gamma=0, learning_rate=0.1, max_delta_step=0,\n",
       "       max_depth=3, min_child_weight=1, missing=None, n_estimators=100,\n",
       "       n_jobs=1, nthread=None, objective='reg:linear', random_state=1,\n",
       "       reg_alpha=0, reg_lambda=1, scale_pos_weight=1, seed=None,\n",
       "       silent=True, subsample=1)"
      ]
     },
     "execution_count": 70,
     "metadata": {},
     "output_type": "execute_result"
    }
   ],
   "source": [
    "xgb_model.fit(X_train, y_train)"
   ]
  },
  {
   "cell_type": "code",
   "execution_count": 71,
   "metadata": {},
   "outputs": [],
   "source": [
    "y_pred = xgb_model.predict(X_test)"
   ]
  },
  {
   "cell_type": "code",
   "execution_count": 72,
   "metadata": {},
   "outputs": [
    {
     "name": "stdout",
     "output_type": "stream",
     "text": [
      "Mean squared error: 318.69\n"
     ]
    }
   ],
   "source": [
    "# The mean squared error\n",
    "print(\"Mean squared error: %.2f\"\n",
    "      % mean_squared_error(y_test, y_pred))"
   ]
  },
  {
   "cell_type": "code",
   "execution_count": 73,
   "metadata": {},
   "outputs": [
    {
     "data": {
      "text/plain": [
       "10.564434589228956"
      ]
     },
     "execution_count": 73,
     "metadata": {},
     "output_type": "execute_result"
    }
   ],
   "source": [
    "mean_absolute_percentage_error(y_test, y_pred)"
   ]
  },
  {
   "cell_type": "markdown",
   "metadata": {},
   "source": [
    "### LightGBM"
   ]
  },
  {
   "cell_type": "code",
   "execution_count": 74,
   "metadata": {},
   "outputs": [],
   "source": [
    "lgb_model = lgb.LGBMRegressor(objective='mape',n_estimators=400, learning_rate=0.2, num_leaves=75, random_state=1)"
   ]
  },
  {
   "cell_type": "code",
   "execution_count": 75,
   "metadata": {},
   "outputs": [
    {
     "data": {
      "text/plain": [
       "LGBMRegressor(boosting_type='gbdt', class_weight=None, colsample_bytree=1.0,\n",
       "       learning_rate=0.2, max_depth=-1, min_child_samples=20,\n",
       "       min_child_weight=0.001, min_split_gain=0.0, n_estimators=400,\n",
       "       n_jobs=-1, num_leaves=75, objective='mape', random_state=1,\n",
       "       reg_alpha=0.0, reg_lambda=0.0, silent=True, subsample=1.0,\n",
       "       subsample_for_bin=200000, subsample_freq=1)"
      ]
     },
     "execution_count": 75,
     "metadata": {},
     "output_type": "execute_result"
    }
   ],
   "source": [
    "lgb_model.fit(X_train, y_train)"
   ]
  },
  {
   "cell_type": "code",
   "execution_count": 76,
   "metadata": {},
   "outputs": [],
   "source": [
    "y_pred = lgb_model.predict(X_test)"
   ]
  },
  {
   "cell_type": "code",
   "execution_count": 77,
   "metadata": {},
   "outputs": [
    {
     "name": "stdout",
     "output_type": "stream",
     "text": [
      "Mean squared error: 360.48\n"
     ]
    }
   ],
   "source": [
    "# The mean squared error\n",
    "print(\"Mean squared error: %.2f\"\n",
    "      % mean_squared_error(y_test, y_pred))"
   ]
  },
  {
   "cell_type": "code",
   "execution_count": 78,
   "metadata": {},
   "outputs": [
    {
     "data": {
      "text/plain": [
       "7.959195226420274"
      ]
     },
     "execution_count": 78,
     "metadata": {},
     "output_type": "execute_result"
    }
   ],
   "source": [
    "mean_absolute_percentage_error(y_test, y_pred)"
   ]
  },
  {
   "cell_type": "code",
   "execution_count": 79,
   "metadata": {},
   "outputs": [],
   "source": [
    "feature_importances = lgb_model.feature_importances_"
   ]
  },
  {
   "cell_type": "code",
   "execution_count": 80,
   "metadata": {},
   "outputs": [
    {
     "data": {
      "image/png": "[encoded data removed]",
      "text/plain": [
       "<Figure size 432x288 with 1 Axes>"
      ]
     },
     "metadata": {},
     "output_type": "display_data"
    }
   ],
   "source": [
    "# Sort feature importances in descending order\n",
    "indices = np.argsort(feature_importances)[::-1]\n",
    "\n",
    "\n",
    "# Create plot\n",
    "plt.figure()\n",
    "plt.title(\"Feature Importance\")\n",
    "\n",
    "# Add bars\n",
    "plt.bar(range(len(fNames)), feature_importances[indices], color = 'dimgray')\n",
    "\n",
    "# Add feature names as x-axis labels\n",
    "plt.xticks(range(len(fNames)), fNames[indices], rotation=90)\n",
    "    \n",
    "for spine in plt.gca().spines.values():\n",
    "    spine.set_visible(False)\n",
    "    \n",
    "plt.show()"
   ]
  },
  {
   "cell_type": "code",
   "execution_count": 81,
   "metadata": {},
   "outputs": [],
   "source": [
    "feats = {} # a dict to hold feature_name: feature_importance\n",
    "for feature, importance in zip(fNames, feature_importances):\n",
    "    feats[feature] = importance #add the name/value pair \n",
    "\n",
    "# create DataFrame\n",
    "importances = pd.DataFrame.from_dict(feats, orient='index').rename(columns={0: 'feature importances'})"
   ]
  },
  {
   "cell_type": "code",
   "execution_count": 82,
   "metadata": {},
   "outputs": [
    {
     "data": {
      "image/png": "[encoded data removed]",
      "text/plain": [
       "<Figure size 432x288 with 1 Axes>"
      ]
     },
     "metadata": {},
     "output_type": "display_data"
    }
   ],
   "source": [
    "ax = importances.sort_values(by='feature importances').tail(20).plot(kind='barh', color = 'dimgray')\n",
    "\n",
    "for p in ax.patches:\n",
    "    ax.annotate(\n",
    "        str(int(p.get_width())),\n",
    "        (p.get_x() + p.get_width(), p.get_y()),\n",
    "        xytext=(5,0),\n",
    "        textcoords='offset points',\n",
    "        horizontalalignment='left',\n",
    "        fontsize=7.5\n",
    ")\n",
    "    \n",
    "for spine in plt.gca().spines.values():\n",
    "    spine.set_visible(False)\n",
    "    \n",
    "plt.title('Feature importances')\n",
    "plt.xlabel('importances')\n",
    "plt.ylabel('Features')\n",
    "plt.legend(loc=\"center right\")\n",
    "plt.show()"
   ]
  },
  {
   "cell_type": "markdown",
   "metadata": {},
   "source": [
    "### ExtraTreesRegressor"
   ]
  },
  {
   "cell_type": "code",
   "execution_count": 83,
   "metadata": {},
   "outputs": [],
   "source": [
    "etr = ExtraTreesRegressor(random_state=1)"
   ]
  },
  {
   "cell_type": "code",
   "execution_count": 84,
   "metadata": {},
   "outputs": [
    {
     "data": {
      "text/plain": [
       "ExtraTreesRegressor(bootstrap=False, criterion='mse', max_depth=None,\n",
       "          max_features='auto', max_leaf_nodes=None,\n",
       "          min_impurity_decrease=0.0, min_impurity_split=None,\n",
       "          min_samples_leaf=1, min_samples_split=2,\n",
       "          min_weight_fraction_leaf=0.0, n_estimators=10, n_jobs=1,\n",
       "          oob_score=False, random_state=1, verbose=0, warm_start=False)"
      ]
     },
     "execution_count": 84,
     "metadata": {},
     "output_type": "execute_result"
    }
   ],
   "source": [
    "etr.fit(X_train, y_train)"
   ]
  },
  {
   "cell_type": "code",
   "execution_count": 85,
   "metadata": {},
   "outputs": [],
   "source": [
    "y_pred = etr.predict(X_test)"
   ]
  },
  {
   "cell_type": "code",
   "execution_count": 86,
   "metadata": {},
   "outputs": [
    {
     "name": "stdout",
     "output_type": "stream",
     "text": [
      "Mean squared error: 376.46\n"
     ]
    }
   ],
   "source": [
    "# The mean squared error\n",
    "print(\"Mean squared error: %.2f\"\n",
    "      % mean_squared_error(y_test, y_pred))"
   ]
  },
  {
   "cell_type": "code",
   "execution_count": 87,
   "metadata": {},
   "outputs": [
    {
     "data": {
      "text/plain": [
       "11.007344745254406"
      ]
     },
     "execution_count": 87,
     "metadata": {},
     "output_type": "execute_result"
    }
   ],
   "source": [
    "mean_absolute_percentage_error(y_test, y_pred)"
   ]
  }
 ],
 "metadata": {
  "kernelspec": {
   "display_name": "Python 3",
   "language": "python",
   "name": "python3"
  },
  "language_info": {
   "codemirror_mode": {
    "name": "ipython",
    "version": 3
   },
   "file_extension": ".py",
   "mimetype": "text/x-python",
   "name": "python",
   "nbconvert_exporter": "python",
   "pygments_lexer": "ipython3",
   "version": "3.5.2"
  }
 },
 "nbformat": 4,
 "nbformat_minor": 2
}
