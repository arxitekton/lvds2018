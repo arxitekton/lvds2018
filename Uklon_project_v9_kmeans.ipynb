{
 "cells": [
  {
   "cell_type": "code",
   "execution_count": 1,
   "metadata": {},
   "outputs": [],
   "source": [
    "import pandas as pd\n",
    "import numpy as np\n",
    "from sklearn.preprocessing import MinMaxScaler\n",
    "from sklearn.model_selection import train_test_split\n",
    "from sklearn import linear_model\n",
    "from sklearn.metrics import mean_squared_error, r2_score\n",
    "from sklearn.model_selection import GridSearchCV"
   ]
  },
  {
   "cell_type": "code",
   "execution_count": 2,
   "metadata": {},
   "outputs": [],
   "source": [
    "import matplotlib.pyplot as plt\n",
    "%matplotlib inline"
   ]
  },
  {
   "cell_type": "code",
   "execution_count": 3,
   "metadata": {},
   "outputs": [],
   "source": [
    "import lightgbm as lgb\n",
    "import xgboost as xgb"
   ]
  },
  {
   "cell_type": "code",
   "execution_count": 4,
   "metadata": {},
   "outputs": [],
   "source": [
    "from sklearn.ensemble import RandomForestRegressor\n",
    "from sklearn.ensemble import ExtraTreesRegressor\n",
    "from sklearn.pipeline import make_pipeline, make_union\n",
    "from sklearn.cluster import DBSCAN"
   ]
  },
  {
   "cell_type": "code",
   "execution_count": 5,
   "metadata": {},
   "outputs": [],
   "source": [
    "from tpot.builtins import StackingEstimator"
   ]
  },
  {
   "cell_type": "code",
   "execution_count": 6,
   "metadata": {},
   "outputs": [],
   "source": [
    "from sklearn.cluster import KMeans"
   ]
  },
  {
   "cell_type": "code",
   "execution_count": 7,
   "metadata": {},
   "outputs": [],
   "source": [
    "filename = \"uklon_sample_3_months_dropnan_driver_id.csv\""
   ]
  },
  {
   "cell_type": "code",
   "execution_count": 8,
   "metadata": {},
   "outputs": [],
   "source": [
    "parse_dates = ['created_at']"
   ]
  },
  {
   "cell_type": "code",
   "execution_count": 9,
   "metadata": {},
   "outputs": [
    {
     "name": "stderr",
     "output_type": "stream",
     "text": [
      "/home/temenid/.local/lib/python3.5/site-packages/IPython/core/interactiveshell.py:2785: DtypeWarning: Columns (19) have mixed types. Specify dtype option on import or set low_memory=False.\n",
      "  interactivity=interactivity, compiler=compiler, result=result)\n"
     ]
    }
   ],
   "source": [
    "df = pd.read_csv(filename, delimiter=\",\", parse_dates=parse_dates)"
   ]
  },
  {
   "cell_type": "code",
   "execution_count": 10,
   "metadata": {},
   "outputs": [
    {
     "data": {
      "text/html": [
       "<div>\n",
       "<style scoped>\n",
       "    .dataframe tbody tr th:only-of-type {\n",
       "        vertical-align: middle;\n",
       "    }\n",
       "\n",
       "    .dataframe tbody tr th {\n",
       "        vertical-align: top;\n",
       "    }\n",
       "\n",
       "    .dataframe thead th {\n",
       "        text-align: right;\n",
       "    }\n",
       "</style>\n",
       "<table border=\"1\" class=\"dataframe\">\n",
       "  <thead>\n",
       "    <tr style=\"text-align: right;\">\n",
       "      <th></th>\n",
       "      <th>order_id</th>\n",
       "      <th>ride_id</th>\n",
       "      <th>created_at</th>\n",
       "      <th>pickup_lat</th>\n",
       "      <th>pickup_lon</th>\n",
       "      <th>dropoff_lat</th>\n",
       "      <th>dropoff_lon</th>\n",
       "      <th>user_id</th>\n",
       "      <th>driver_id</th>\n",
       "      <th>ride_distance</th>\n",
       "      <th>...</th>\n",
       "      <th>ooExtraCost</th>\n",
       "      <th>ooInitialCost</th>\n",
       "      <th>ooIdleCost</th>\n",
       "      <th>oapAzureMlCost</th>\n",
       "      <th>oapAzureMlCostBid</th>\n",
       "      <th>oapCostProvider</th>\n",
       "      <th>ooSurgeMultiplier</th>\n",
       "      <th>driver_lat</th>\n",
       "      <th>driver_lon</th>\n",
       "      <th>dtTaxiDriver_tdID</th>\n",
       "    </tr>\n",
       "  </thead>\n",
       "  <tbody>\n",
       "    <tr>\n",
       "      <th>0</th>\n",
       "      <td>88314768</td>\n",
       "      <td>764A34A6-5C92-4A0C-90E8-82BDA5A5F9C1</td>\n",
       "      <td>2017-10-31 23:59:59.143</td>\n",
       "      <td>50.448906</td>\n",
       "      <td>30.386448</td>\n",
       "      <td>50.410267</td>\n",
       "      <td>30.412216</td>\n",
       "      <td>420361.0</td>\n",
       "      <td>568114.0</td>\n",
       "      <td>9.10</td>\n",
       "      <td>...</td>\n",
       "      <td>1.0</td>\n",
       "      <td>115.0</td>\n",
       "      <td>0.0</td>\n",
       "      <td>114.0</td>\n",
       "      <td>1.0</td>\n",
       "      <td>AzureML</td>\n",
       "      <td>1.35</td>\n",
       "      <td>50.437012</td>\n",
       "      <td>30.383680</td>\n",
       "      <td>568114.0</td>\n",
       "    </tr>\n",
       "    <tr>\n",
       "      <th>1</th>\n",
       "      <td>88314766</td>\n",
       "      <td>299E8328-8BE6-4097-AF81-4834478B4D51</td>\n",
       "      <td>2017-10-31 23:59:58.577</td>\n",
       "      <td>50.446000</td>\n",
       "      <td>30.576200</td>\n",
       "      <td>50.414604</td>\n",
       "      <td>30.384350</td>\n",
       "      <td>722883.0</td>\n",
       "      <td>553135.0</td>\n",
       "      <td>19.74</td>\n",
       "      <td>...</td>\n",
       "      <td>0.0</td>\n",
       "      <td>146.0</td>\n",
       "      <td>0.0</td>\n",
       "      <td>146.0</td>\n",
       "      <td>0.0</td>\n",
       "      <td>AzureML</td>\n",
       "      <td>1.00</td>\n",
       "      <td>50.449512</td>\n",
       "      <td>30.595537</td>\n",
       "      <td>553135.0</td>\n",
       "    </tr>\n",
       "    <tr>\n",
       "      <th>2</th>\n",
       "      <td>88314763</td>\n",
       "      <td>4EDC7FB9-5E34-4132-A2B3-B926F81DB439</td>\n",
       "      <td>2017-10-31 23:59:55.050</td>\n",
       "      <td>50.438610</td>\n",
       "      <td>30.459536</td>\n",
       "      <td>50.439339</td>\n",
       "      <td>30.444427</td>\n",
       "      <td>693323.0</td>\n",
       "      <td>568920.0</td>\n",
       "      <td>11.08</td>\n",
       "      <td>...</td>\n",
       "      <td>-7.0</td>\n",
       "      <td>100.0</td>\n",
       "      <td>0.0</td>\n",
       "      <td>107.0</td>\n",
       "      <td>1.0</td>\n",
       "      <td>AzureML</td>\n",
       "      <td>1.09</td>\n",
       "      <td>50.424972</td>\n",
       "      <td>30.458965</td>\n",
       "      <td>568920.0</td>\n",
       "    </tr>\n",
       "    <tr>\n",
       "      <th>3</th>\n",
       "      <td>88314762</td>\n",
       "      <td>D0EE9C9A-CFDD-44F8-906D-7C3A7ED65A1C</td>\n",
       "      <td>2017-10-31 23:59:54.420</td>\n",
       "      <td>50.449707</td>\n",
       "      <td>30.515345</td>\n",
       "      <td>50.459896</td>\n",
       "      <td>30.402002</td>\n",
       "      <td>17563.0</td>\n",
       "      <td>527239.0</td>\n",
       "      <td>9.24</td>\n",
       "      <td>...</td>\n",
       "      <td>0.0</td>\n",
       "      <td>88.0</td>\n",
       "      <td>0.0</td>\n",
       "      <td>88.0</td>\n",
       "      <td>0.0</td>\n",
       "      <td>NaN</td>\n",
       "      <td>1.00</td>\n",
       "      <td>50.455327</td>\n",
       "      <td>30.515555</td>\n",
       "      <td>527239.0</td>\n",
       "    </tr>\n",
       "    <tr>\n",
       "      <th>4</th>\n",
       "      <td>88314759</td>\n",
       "      <td>18B41EC0-B379-4621-BF7A-DD881D16E038</td>\n",
       "      <td>2017-10-31 23:59:50.053</td>\n",
       "      <td>50.397000</td>\n",
       "      <td>30.632500</td>\n",
       "      <td>50.416607</td>\n",
       "      <td>30.633417</td>\n",
       "      <td>754011.0</td>\n",
       "      <td>531709.0</td>\n",
       "      <td>3.73</td>\n",
       "      <td>...</td>\n",
       "      <td>0.0</td>\n",
       "      <td>55.0</td>\n",
       "      <td>0.0</td>\n",
       "      <td>NaN</td>\n",
       "      <td>NaN</td>\n",
       "      <td>NaN</td>\n",
       "      <td>1.01</td>\n",
       "      <td>NaN</td>\n",
       "      <td>NaN</td>\n",
       "      <td>NaN</td>\n",
       "    </tr>\n",
       "  </tbody>\n",
       "</table>\n",
       "<p>5 rows × 24 columns</p>\n",
       "</div>"
      ],
      "text/plain": [
       "   order_id                               ride_id              created_at  \\\n",
       "0  88314768  764A34A6-5C92-4A0C-90E8-82BDA5A5F9C1 2017-10-31 23:59:59.143   \n",
       "1  88314766  299E8328-8BE6-4097-AF81-4834478B4D51 2017-10-31 23:59:58.577   \n",
       "2  88314763  4EDC7FB9-5E34-4132-A2B3-B926F81DB439 2017-10-31 23:59:55.050   \n",
       "3  88314762  D0EE9C9A-CFDD-44F8-906D-7C3A7ED65A1C 2017-10-31 23:59:54.420   \n",
       "4  88314759  18B41EC0-B379-4621-BF7A-DD881D16E038 2017-10-31 23:59:50.053   \n",
       "\n",
       "   pickup_lat  pickup_lon  dropoff_lat  dropoff_lon   user_id  driver_id  \\\n",
       "0   50.448906   30.386448    50.410267    30.412216  420361.0   568114.0   \n",
       "1   50.446000   30.576200    50.414604    30.384350  722883.0   553135.0   \n",
       "2   50.438610   30.459536    50.439339    30.444427  693323.0   568920.0   \n",
       "3   50.449707   30.515345    50.459896    30.402002   17563.0   527239.0   \n",
       "4   50.397000   30.632500    50.416607    30.633417  754011.0   531709.0   \n",
       "\n",
       "   ride_distance        ...         ooExtraCost  ooInitialCost  ooIdleCost  \\\n",
       "0           9.10        ...                 1.0          115.0         0.0   \n",
       "1          19.74        ...                 0.0          146.0         0.0   \n",
       "2          11.08        ...                -7.0          100.0         0.0   \n",
       "3           9.24        ...                 0.0           88.0         0.0   \n",
       "4           3.73        ...                 0.0           55.0         0.0   \n",
       "\n",
       "   oapAzureMlCost  oapAzureMlCostBid  oapCostProvider  ooSurgeMultiplier  \\\n",
       "0           114.0                1.0          AzureML               1.35   \n",
       "1           146.0                0.0          AzureML               1.00   \n",
       "2           107.0                1.0          AzureML               1.09   \n",
       "3            88.0                0.0              NaN               1.00   \n",
       "4             NaN                NaN              NaN               1.01   \n",
       "\n",
       "   driver_lat  driver_lon dtTaxiDriver_tdID  \n",
       "0   50.437012   30.383680          568114.0  \n",
       "1   50.449512   30.595537          553135.0  \n",
       "2   50.424972   30.458965          568920.0  \n",
       "3   50.455327   30.515555          527239.0  \n",
       "4         NaN         NaN               NaN  \n",
       "\n",
       "[5 rows x 24 columns]"
      ]
     },
     "execution_count": 10,
     "metadata": {},
     "output_type": "execute_result"
    }
   ],
   "source": [
    "df.head()"
   ]
  },
  {
   "cell_type": "code",
   "execution_count": 11,
   "metadata": {},
   "outputs": [
    {
     "data": {
      "text/plain": [
       "Index(['order_id', 'ride_id', 'created_at', 'pickup_lat', 'pickup_lon',\n",
       "       'dropoff_lat', 'dropoff_lon', 'user_id', 'driver_id', 'ride_distance',\n",
       "       'ooCancelReason', 'ooSuburbanDistance', 'ooCarSearchTime', 'ooCost',\n",
       "       'ooExtraCost', 'ooInitialCost', 'ooIdleCost', 'oapAzureMlCost',\n",
       "       'oapAzureMlCostBid', 'oapCostProvider', 'ooSurgeMultiplier',\n",
       "       'driver_lat', 'driver_lon', 'dtTaxiDriver_tdID'],\n",
       "      dtype='object')"
      ]
     },
     "execution_count": 11,
     "metadata": {},
     "output_type": "execute_result"
    }
   ],
   "source": [
    "df.columns"
   ]
  },
  {
   "cell_type": "code",
   "execution_count": 12,
   "metadata": {},
   "outputs": [
    {
     "data": {
      "text/plain": [
       "order_id                    0\n",
       "ride_id                     0\n",
       "created_at                  0\n",
       "pickup_lat                565\n",
       "pickup_lon                565\n",
       "dropoff_lat               780\n",
       "dropoff_lon               780\n",
       "user_id                378190\n",
       "driver_id                   0\n",
       "ride_distance               0\n",
       "ooCancelReason              0\n",
       "ooSuburbanDistance          0\n",
       "ooCarSearchTime             0\n",
       "ooCost                      0\n",
       "ooExtraCost                 0\n",
       "ooInitialCost               0\n",
       "ooIdleCost                  0\n",
       "oapAzureMlCost        1521212\n",
       "oapAzureMlCostBid     1521212\n",
       "oapCostProvider       1350984\n",
       "ooSurgeMultiplier           0\n",
       "driver_lat             417486\n",
       "driver_lon             417486\n",
       "dtTaxiDriver_tdID      417486\n",
       "dtype: int64"
      ]
     },
     "execution_count": 12,
     "metadata": {},
     "output_type": "execute_result"
    }
   ],
   "source": [
    "df.isnull().sum()"
   ]
  },
  {
   "cell_type": "code",
   "execution_count": 13,
   "metadata": {},
   "outputs": [
    {
     "data": {
      "text/plain": [
       "(2815393, 24)"
      ]
     },
     "execution_count": 13,
     "metadata": {},
     "output_type": "execute_result"
    }
   ],
   "source": [
    "df.shape"
   ]
  },
  {
   "cell_type": "code",
   "execution_count": 14,
   "metadata": {},
   "outputs": [],
   "source": [
    "df = df.sample(n=300000)"
   ]
  },
  {
   "cell_type": "code",
   "execution_count": 15,
   "metadata": {},
   "outputs": [
    {
     "data": {
      "text/plain": [
       "(300000, 24)"
      ]
     },
     "execution_count": 15,
     "metadata": {},
     "output_type": "execute_result"
    }
   ],
   "source": [
    "df.shape"
   ]
  },
  {
   "cell_type": "code",
   "execution_count": 16,
   "metadata": {},
   "outputs": [],
   "source": [
    "# Remove rows with missing values in column 'driver_id'. The order was not accepted. there was no trip\n",
    "new_df = df.dropna(subset=['driver_id','pickup_lat','pickup_lon','dropoff_lat','dropoff_lon'],inplace=False)"
   ]
  },
  {
   "cell_type": "code",
   "execution_count": 17,
   "metadata": {},
   "outputs": [],
   "source": [
    "# leave only uncanceled ride\n",
    "new_df = new_df.loc[df['ooCancelReason'] == 0]"
   ]
  },
  {
   "cell_type": "code",
   "execution_count": 18,
   "metadata": {},
   "outputs": [
    {
     "data": {
      "text/plain": [
       "(252589, 24)"
      ]
     },
     "execution_count": 18,
     "metadata": {},
     "output_type": "execute_result"
    }
   ],
   "source": [
    "new_df.shape"
   ]
  },
  {
   "cell_type": "code",
   "execution_count": 19,
   "metadata": {},
   "outputs": [],
   "source": [
    "# initialy select the following columns\n",
    "data = new_df[['created_at','ride_distance', 'ooSuburbanDistance', 'ooCarSearchTime', 'ooCost','pickup_lat','pickup_lon','dropoff_lat','dropoff_lon','ooIdleCost']]"
   ]
  },
  {
   "cell_type": "code",
   "execution_count": null,
   "metadata": {},
   "outputs": [],
   "source": []
  },
  {
   "cell_type": "code",
   "execution_count": 20,
   "metadata": {},
   "outputs": [
    {
     "data": {
      "text/html": [
       "<div>\n",
       "<style scoped>\n",
       "    .dataframe tbody tr th:only-of-type {\n",
       "        vertical-align: middle;\n",
       "    }\n",
       "\n",
       "    .dataframe tbody tr th {\n",
       "        vertical-align: top;\n",
       "    }\n",
       "\n",
       "    .dataframe thead th {\n",
       "        text-align: right;\n",
       "    }\n",
       "</style>\n",
       "<table border=\"1\" class=\"dataframe\">\n",
       "  <thead>\n",
       "    <tr style=\"text-align: right;\">\n",
       "      <th></th>\n",
       "      <th>created_at</th>\n",
       "      <th>ride_distance</th>\n",
       "      <th>ooSuburbanDistance</th>\n",
       "      <th>ooCarSearchTime</th>\n",
       "      <th>ooCost</th>\n",
       "      <th>pickup_lat</th>\n",
       "      <th>pickup_lon</th>\n",
       "      <th>dropoff_lat</th>\n",
       "      <th>dropoff_lon</th>\n",
       "      <th>ooIdleCost</th>\n",
       "    </tr>\n",
       "  </thead>\n",
       "  <tbody>\n",
       "    <tr>\n",
       "      <th>533572</th>\n",
       "      <td>2017-10-15 11:39:06.723</td>\n",
       "      <td>9.91</td>\n",
       "      <td>0</td>\n",
       "      <td>7</td>\n",
       "      <td>89.0</td>\n",
       "      <td>50.520004</td>\n",
       "      <td>30.461023</td>\n",
       "      <td>50.494019</td>\n",
       "      <td>30.363171</td>\n",
       "      <td>0.0</td>\n",
       "    </tr>\n",
       "    <tr>\n",
       "      <th>869547</th>\n",
       "      <td>2017-10-05 20:42:47.080</td>\n",
       "      <td>10.23</td>\n",
       "      <td>0</td>\n",
       "      <td>7</td>\n",
       "      <td>93.0</td>\n",
       "      <td>50.466591</td>\n",
       "      <td>30.515554</td>\n",
       "      <td>50.398354</td>\n",
       "      <td>30.497868</td>\n",
       "      <td>0.0</td>\n",
       "    </tr>\n",
       "    <tr>\n",
       "      <th>150162</th>\n",
       "      <td>2017-10-27 17:55:19.110</td>\n",
       "      <td>5.42</td>\n",
       "      <td>0</td>\n",
       "      <td>11</td>\n",
       "      <td>116.0</td>\n",
       "      <td>50.467556</td>\n",
       "      <td>30.485859</td>\n",
       "      <td>50.435810</td>\n",
       "      <td>30.509760</td>\n",
       "      <td>0.0</td>\n",
       "    </tr>\n",
       "    <tr>\n",
       "      <th>1236615</th>\n",
       "      <td>2017-09-23 20:04:50.207</td>\n",
       "      <td>14.42</td>\n",
       "      <td>0</td>\n",
       "      <td>1</td>\n",
       "      <td>113.0</td>\n",
       "      <td>50.493305</td>\n",
       "      <td>30.558781</td>\n",
       "      <td>50.408367</td>\n",
       "      <td>30.624395</td>\n",
       "      <td>0.0</td>\n",
       "    </tr>\n",
       "    <tr>\n",
       "      <th>356759</th>\n",
       "      <td>2017-10-21 02:04:35.750</td>\n",
       "      <td>18.07</td>\n",
       "      <td>0</td>\n",
       "      <td>38</td>\n",
       "      <td>135.0</td>\n",
       "      <td>50.421543</td>\n",
       "      <td>30.553041</td>\n",
       "      <td>50.510326</td>\n",
       "      <td>30.489574</td>\n",
       "      <td>0.0</td>\n",
       "    </tr>\n",
       "  </tbody>\n",
       "</table>\n",
       "</div>"
      ],
      "text/plain": [
       "                     created_at  ride_distance  ooSuburbanDistance  \\\n",
       "533572  2017-10-15 11:39:06.723           9.91                   0   \n",
       "869547  2017-10-05 20:42:47.080          10.23                   0   \n",
       "150162  2017-10-27 17:55:19.110           5.42                   0   \n",
       "1236615 2017-09-23 20:04:50.207          14.42                   0   \n",
       "356759  2017-10-21 02:04:35.750          18.07                   0   \n",
       "\n",
       "         ooCarSearchTime  ooCost  pickup_lat  pickup_lon  dropoff_lat  \\\n",
       "533572                 7    89.0   50.520004   30.461023    50.494019   \n",
       "869547                 7    93.0   50.466591   30.515554    50.398354   \n",
       "150162                11   116.0   50.467556   30.485859    50.435810   \n",
       "1236615                1   113.0   50.493305   30.558781    50.408367   \n",
       "356759                38   135.0   50.421543   30.553041    50.510326   \n",
       "\n",
       "         dropoff_lon  ooIdleCost  \n",
       "533572     30.363171         0.0  \n",
       "869547     30.497868         0.0  \n",
       "150162     30.509760         0.0  \n",
       "1236615    30.624395         0.0  \n",
       "356759     30.489574         0.0  "
      ]
     },
     "execution_count": 20,
     "metadata": {},
     "output_type": "execute_result"
    }
   ],
   "source": [
    "data.head()"
   ]
  },
  {
   "cell_type": "code",
   "execution_count": 21,
   "metadata": {},
   "outputs": [
    {
     "data": {
      "text/plain": [
       "created_at            0\n",
       "ride_distance         0\n",
       "ooSuburbanDistance    0\n",
       "ooCarSearchTime       0\n",
       "ooCost                0\n",
       "pickup_lat            0\n",
       "pickup_lon            0\n",
       "dropoff_lat           0\n",
       "dropoff_lon           0\n",
       "ooIdleCost            0\n",
       "dtype: int64"
      ]
     },
     "execution_count": 21,
     "metadata": {},
     "output_type": "execute_result"
    }
   ],
   "source": [
    "# count the NaN values in a columns\n",
    "data.isnull().sum()"
   ]
  },
  {
   "cell_type": "code",
   "execution_count": 22,
   "metadata": {},
   "outputs": [
    {
     "name": "stderr",
     "output_type": "stream",
     "text": [
      "/home/temenid/.local/lib/python3.5/site-packages/ipykernel_launcher.py:3: SettingWithCopyWarning: \n",
      "A value is trying to be set on a copy of a slice from a DataFrame.\n",
      "Try using .loc[row_indexer,col_indexer] = value instead\n",
      "\n",
      "See the caveats in the documentation: http://pandas.pydata.org/pandas-docs/stable/indexing.html#indexing-view-versus-copy\n",
      "  This is separate from the ipykernel package so we can avoid doing imports until\n",
      "/home/temenid/.local/lib/python3.5/site-packages/ipykernel_launcher.py:4: SettingWithCopyWarning: \n",
      "A value is trying to be set on a copy of a slice from a DataFrame.\n",
      "Try using .loc[row_indexer,col_indexer] = value instead\n",
      "\n",
      "See the caveats in the documentation: http://pandas.pydata.org/pandas-docs/stable/indexing.html#indexing-view-versus-copy\n",
      "  after removing the cwd from sys.path.\n",
      "/home/temenid/.local/lib/python3.5/site-packages/ipykernel_launcher.py:5: SettingWithCopyWarning: \n",
      "A value is trying to be set on a copy of a slice from a DataFrame.\n",
      "Try using .loc[row_indexer,col_indexer] = value instead\n",
      "\n",
      "See the caveats in the documentation: http://pandas.pydata.org/pandas-docs/stable/indexing.html#indexing-view-versus-copy\n",
      "  \"\"\"\n",
      "/home/temenid/.local/lib/python3.5/site-packages/ipykernel_launcher.py:6: SettingWithCopyWarning: \n",
      "A value is trying to be set on a copy of a slice from a DataFrame.\n",
      "Try using .loc[row_indexer,col_indexer] = value instead\n",
      "\n",
      "See the caveats in the documentation: http://pandas.pydata.org/pandas-docs/stable/indexing.html#indexing-view-versus-copy\n",
      "  \n",
      "/home/temenid/.local/lib/python3.5/site-packages/ipykernel_launcher.py:7: SettingWithCopyWarning: \n",
      "A value is trying to be set on a copy of a slice from a DataFrame.\n",
      "Try using .loc[row_indexer,col_indexer] = value instead\n",
      "\n",
      "See the caveats in the documentation: http://pandas.pydata.org/pandas-docs/stable/indexing.html#indexing-view-versus-copy\n",
      "  import sys\n",
      "/home/temenid/.local/lib/python3.5/site-packages/ipykernel_launcher.py:8: SettingWithCopyWarning: \n",
      "A value is trying to be set on a copy of a slice from a DataFrame.\n",
      "Try using .loc[row_indexer,col_indexer] = value instead\n",
      "\n",
      "See the caveats in the documentation: http://pandas.pydata.org/pandas-docs/stable/indexing.html#indexing-view-versus-copy\n",
      "  \n"
     ]
    }
   ],
   "source": [
    "# some simple feature engineering with date\n",
    "# as categorical\n",
    "data['quarter'] = data['created_at'].dt.quarter.astype(str)\n",
    "data['month'] = data['created_at'].dt.month.astype(str)\n",
    "data['day'] = data['created_at'].dt.day.astype(str)\n",
    "data['dayofweek'] = data['created_at'].dt.dayofweek.astype(str)\n",
    "data['hour'] = data['created_at'].dt.hour.astype(str)\n",
    "data['date'] = data['created_at'].dt.strftime('%Y-%m-%d')"
   ]
  },
  {
   "cell_type": "code",
   "execution_count": 23,
   "metadata": {},
   "outputs": [
    {
     "name": "stderr",
     "output_type": "stream",
     "text": [
      "/home/temenid/.local/lib/python3.5/site-packages/ipykernel_launcher.py:2: SettingWithCopyWarning: \n",
      "A value is trying to be set on a copy of a slice from a DataFrame.\n",
      "Try using .loc[row_indexer,col_indexer] = value instead\n",
      "\n",
      "See the caveats in the documentation: http://pandas.pydata.org/pandas-docs/stable/indexing.html#indexing-view-versus-copy\n",
      "  \n",
      "/home/temenid/.local/lib/python3.5/site-packages/ipykernel_launcher.py:3: SettingWithCopyWarning: \n",
      "A value is trying to be set on a copy of a slice from a DataFrame.\n",
      "Try using .loc[row_indexer,col_indexer] = value instead\n",
      "\n",
      "See the caveats in the documentation: http://pandas.pydata.org/pandas-docs/stable/indexing.html#indexing-view-versus-copy\n",
      "  This is separate from the ipykernel package so we can avoid doing imports until\n",
      "/home/temenid/.local/lib/python3.5/site-packages/ipykernel_launcher.py:4: SettingWithCopyWarning: \n",
      "A value is trying to be set on a copy of a slice from a DataFrame.\n",
      "Try using .loc[row_indexer,col_indexer] = value instead\n",
      "\n",
      "See the caveats in the documentation: http://pandas.pydata.org/pandas-docs/stable/indexing.html#indexing-view-versus-copy\n",
      "  after removing the cwd from sys.path.\n",
      "/home/temenid/.local/lib/python3.5/site-packages/ipykernel_launcher.py:5: SettingWithCopyWarning: \n",
      "A value is trying to be set on a copy of a slice from a DataFrame.\n",
      "Try using .loc[row_indexer,col_indexer] = value instead\n",
      "\n",
      "See the caveats in the documentation: http://pandas.pydata.org/pandas-docs/stable/indexing.html#indexing-view-versus-copy\n",
      "  \"\"\"\n",
      "/home/temenid/.local/lib/python3.5/site-packages/ipykernel_launcher.py:6: SettingWithCopyWarning: \n",
      "A value is trying to be set on a copy of a slice from a DataFrame.\n",
      "Try using .loc[row_indexer,col_indexer] = value instead\n",
      "\n",
      "See the caveats in the documentation: http://pandas.pydata.org/pandas-docs/stable/indexing.html#indexing-view-versus-copy\n",
      "  \n"
     ]
    }
   ],
   "source": [
    "# as categorical\n",
    "data['quarter_int'] = data['created_at'].dt.quarter.astype(int)\n",
    "data['month_int'] = data['created_at'].dt.month.astype(int)\n",
    "data['day_int'] = data['created_at'].dt.day.astype(int)\n",
    "data['dayofweek_int'] = data['created_at'].dt.dayofweek.astype(int)\n",
    "data['hour_int'] = data['created_at'].dt.hour.astype(int)"
   ]
  },
  {
   "cell_type": "code",
   "execution_count": 24,
   "metadata": {},
   "outputs": [],
   "source": [
    "dt = {'date': ['2017-08-24', '2017-10-14'], \n",
    "        'isHolidays': [1, 1]}\n",
    "holidays = pd.DataFrame(dt, columns = ['date', 'isHolidays'])"
   ]
  },
  {
   "cell_type": "code",
   "execution_count": 25,
   "metadata": {},
   "outputs": [],
   "source": [
    "data = pd.merge(data, holidays, on='date', how='left')"
   ]
  },
  {
   "cell_type": "code",
   "execution_count": 26,
   "metadata": {},
   "outputs": [],
   "source": [
    "data['isHolidays'].fillna(value=0, inplace=True)"
   ]
  },
  {
   "cell_type": "code",
   "execution_count": 27,
   "metadata": {},
   "outputs": [
    {
     "data": {
      "text/plain": [
       "(252589, 22)"
      ]
     },
     "execution_count": 27,
     "metadata": {},
     "output_type": "execute_result"
    }
   ],
   "source": [
    "data.shape"
   ]
  },
  {
   "cell_type": "markdown",
   "metadata": {},
   "source": [
    "### Clusterization"
   ]
  },
  {
   "cell_type": "code",
   "execution_count": 28,
   "metadata": {},
   "outputs": [],
   "source": [
    "pickup_coords = data.loc[:,['pickup_lat','pickup_lon']]\n",
    "dropoff_coords = data.loc[:,['dropoff_lat','dropoff_lon']]"
   ]
  },
  {
   "cell_type": "code",
   "execution_count": 29,
   "metadata": {},
   "outputs": [],
   "source": [
    "num_pickup_clusters = 7\n",
    "num_dropoff_clusters = 7"
   ]
  },
  {
   "cell_type": "code",
   "execution_count": 30,
   "metadata": {},
   "outputs": [],
   "source": [
    "pickup_kmeans = KMeans(n_clusters=num_pickup_clusters, random_state=1).fit(pickup_coords)"
   ]
  },
  {
   "cell_type": "code",
   "execution_count": 31,
   "metadata": {},
   "outputs": [],
   "source": [
    "dropoff_kmeans = KMeans(n_clusters=num_dropoff_clusters, random_state=1).fit(dropoff_coords)"
   ]
  },
  {
   "cell_type": "code",
   "execution_count": 32,
   "metadata": {},
   "outputs": [],
   "source": [
    "id_pickup_label=pickup_kmeans.labels_\n",
    "id_dropoff_label=dropoff_kmeans.labels_"
   ]
  },
  {
   "cell_type": "code",
   "execution_count": 33,
   "metadata": {},
   "outputs": [
    {
     "data": {
      "text/plain": [
       "((252589,), (252589,))"
      ]
     },
     "execution_count": 33,
     "metadata": {},
     "output_type": "execute_result"
    }
   ],
   "source": [
    "id_pickup_label.shape, id_dropoff_label.shape"
   ]
  },
  {
   "cell_type": "code",
   "execution_count": 34,
   "metadata": {},
   "outputs": [],
   "source": [
    "data['pickup_cluster'] = id_pickup_label\n",
    "data['dropoff_cluster'] = id_dropoff_label"
   ]
  },
  {
   "cell_type": "code",
   "execution_count": 35,
   "metadata": {},
   "outputs": [
    {
     "data": {
      "text/html": [
       "<div>\n",
       "<style scoped>\n",
       "    .dataframe tbody tr th:only-of-type {\n",
       "        vertical-align: middle;\n",
       "    }\n",
       "\n",
       "    .dataframe tbody tr th {\n",
       "        vertical-align: top;\n",
       "    }\n",
       "\n",
       "    .dataframe thead th {\n",
       "        text-align: right;\n",
       "    }\n",
       "</style>\n",
       "<table border=\"1\" class=\"dataframe\">\n",
       "  <thead>\n",
       "    <tr style=\"text-align: right;\">\n",
       "      <th></th>\n",
       "      <th>created_at</th>\n",
       "      <th>ride_distance</th>\n",
       "      <th>ooSuburbanDistance</th>\n",
       "      <th>ooCarSearchTime</th>\n",
       "      <th>ooCost</th>\n",
       "      <th>pickup_lat</th>\n",
       "      <th>pickup_lon</th>\n",
       "      <th>dropoff_lat</th>\n",
       "      <th>dropoff_lon</th>\n",
       "      <th>ooIdleCost</th>\n",
       "      <th>...</th>\n",
       "      <th>hour</th>\n",
       "      <th>date</th>\n",
       "      <th>quarter_int</th>\n",
       "      <th>month_int</th>\n",
       "      <th>day_int</th>\n",
       "      <th>dayofweek_int</th>\n",
       "      <th>hour_int</th>\n",
       "      <th>isHolidays</th>\n",
       "      <th>pickup_cluster</th>\n",
       "      <th>dropoff_cluster</th>\n",
       "    </tr>\n",
       "  </thead>\n",
       "  <tbody>\n",
       "    <tr>\n",
       "      <th>0</th>\n",
       "      <td>2017-10-15 11:39:06.723</td>\n",
       "      <td>9.91</td>\n",
       "      <td>0</td>\n",
       "      <td>7</td>\n",
       "      <td>89.0</td>\n",
       "      <td>50.520004</td>\n",
       "      <td>30.461023</td>\n",
       "      <td>50.494019</td>\n",
       "      <td>30.363171</td>\n",
       "      <td>0.0</td>\n",
       "      <td>...</td>\n",
       "      <td>11</td>\n",
       "      <td>2017-10-15</td>\n",
       "      <td>4</td>\n",
       "      <td>10</td>\n",
       "      <td>15</td>\n",
       "      <td>6</td>\n",
       "      <td>11</td>\n",
       "      <td>0.0</td>\n",
       "      <td>0</td>\n",
       "      <td>0</td>\n",
       "    </tr>\n",
       "    <tr>\n",
       "      <th>1</th>\n",
       "      <td>2017-10-05 20:42:47.080</td>\n",
       "      <td>10.23</td>\n",
       "      <td>0</td>\n",
       "      <td>7</td>\n",
       "      <td>93.0</td>\n",
       "      <td>50.466591</td>\n",
       "      <td>30.515554</td>\n",
       "      <td>50.398354</td>\n",
       "      <td>30.497868</td>\n",
       "      <td>0.0</td>\n",
       "      <td>...</td>\n",
       "      <td>20</td>\n",
       "      <td>2017-10-05</td>\n",
       "      <td>4</td>\n",
       "      <td>10</td>\n",
       "      <td>5</td>\n",
       "      <td>3</td>\n",
       "      <td>20</td>\n",
       "      <td>0.0</td>\n",
       "      <td>3</td>\n",
       "      <td>3</td>\n",
       "    </tr>\n",
       "    <tr>\n",
       "      <th>2</th>\n",
       "      <td>2017-10-27 17:55:19.110</td>\n",
       "      <td>5.42</td>\n",
       "      <td>0</td>\n",
       "      <td>11</td>\n",
       "      <td>116.0</td>\n",
       "      <td>50.467556</td>\n",
       "      <td>30.485859</td>\n",
       "      <td>50.435810</td>\n",
       "      <td>30.509760</td>\n",
       "      <td>0.0</td>\n",
       "      <td>...</td>\n",
       "      <td>17</td>\n",
       "      <td>2017-10-27</td>\n",
       "      <td>4</td>\n",
       "      <td>10</td>\n",
       "      <td>27</td>\n",
       "      <td>4</td>\n",
       "      <td>17</td>\n",
       "      <td>0.0</td>\n",
       "      <td>0</td>\n",
       "      <td>3</td>\n",
       "    </tr>\n",
       "    <tr>\n",
       "      <th>3</th>\n",
       "      <td>2017-09-23 20:04:50.207</td>\n",
       "      <td>14.42</td>\n",
       "      <td>0</td>\n",
       "      <td>1</td>\n",
       "      <td>113.0</td>\n",
       "      <td>50.493305</td>\n",
       "      <td>30.558781</td>\n",
       "      <td>50.408367</td>\n",
       "      <td>30.624395</td>\n",
       "      <td>0.0</td>\n",
       "      <td>...</td>\n",
       "      <td>20</td>\n",
       "      <td>2017-09-23</td>\n",
       "      <td>3</td>\n",
       "      <td>9</td>\n",
       "      <td>23</td>\n",
       "      <td>5</td>\n",
       "      <td>20</td>\n",
       "      <td>0.0</td>\n",
       "      <td>5</td>\n",
       "      <td>6</td>\n",
       "    </tr>\n",
       "    <tr>\n",
       "      <th>4</th>\n",
       "      <td>2017-10-21 02:04:35.750</td>\n",
       "      <td>18.07</td>\n",
       "      <td>0</td>\n",
       "      <td>38</td>\n",
       "      <td>135.0</td>\n",
       "      <td>50.421543</td>\n",
       "      <td>30.553041</td>\n",
       "      <td>50.510326</td>\n",
       "      <td>30.489574</td>\n",
       "      <td>0.0</td>\n",
       "      <td>...</td>\n",
       "      <td>2</td>\n",
       "      <td>2017-10-21</td>\n",
       "      <td>4</td>\n",
       "      <td>10</td>\n",
       "      <td>21</td>\n",
       "      <td>5</td>\n",
       "      <td>2</td>\n",
       "      <td>0.0</td>\n",
       "      <td>3</td>\n",
       "      <td>5</td>\n",
       "    </tr>\n",
       "  </tbody>\n",
       "</table>\n",
       "<p>5 rows × 24 columns</p>\n",
       "</div>"
      ],
      "text/plain": [
       "               created_at  ride_distance  ooSuburbanDistance  ooCarSearchTime  \\\n",
       "0 2017-10-15 11:39:06.723           9.91                   0                7   \n",
       "1 2017-10-05 20:42:47.080          10.23                   0                7   \n",
       "2 2017-10-27 17:55:19.110           5.42                   0               11   \n",
       "3 2017-09-23 20:04:50.207          14.42                   0                1   \n",
       "4 2017-10-21 02:04:35.750          18.07                   0               38   \n",
       "\n",
       "   ooCost  pickup_lat  pickup_lon  dropoff_lat  dropoff_lon  ooIdleCost  \\\n",
       "0    89.0   50.520004   30.461023    50.494019    30.363171         0.0   \n",
       "1    93.0   50.466591   30.515554    50.398354    30.497868         0.0   \n",
       "2   116.0   50.467556   30.485859    50.435810    30.509760         0.0   \n",
       "3   113.0   50.493305   30.558781    50.408367    30.624395         0.0   \n",
       "4   135.0   50.421543   30.553041    50.510326    30.489574         0.0   \n",
       "\n",
       "        ...        hour        date quarter_int month_int day_int  \\\n",
       "0       ...          11  2017-10-15           4        10      15   \n",
       "1       ...          20  2017-10-05           4        10       5   \n",
       "2       ...          17  2017-10-27           4        10      27   \n",
       "3       ...          20  2017-09-23           3         9      23   \n",
       "4       ...           2  2017-10-21           4        10      21   \n",
       "\n",
       "  dayofweek_int  hour_int  isHolidays  pickup_cluster  dropoff_cluster  \n",
       "0             6        11         0.0               0                0  \n",
       "1             3        20         0.0               3                3  \n",
       "2             4        17         0.0               0                3  \n",
       "3             5        20         0.0               5                6  \n",
       "4             5         2         0.0               3                5  \n",
       "\n",
       "[5 rows x 24 columns]"
      ]
     },
     "execution_count": 35,
     "metadata": {},
     "output_type": "execute_result"
    }
   ],
   "source": [
    "data.head()"
   ]
  },
  {
   "cell_type": "code",
   "execution_count": 36,
   "metadata": {},
   "outputs": [
    {
     "data": {
      "text/html": [
       "<div>\n",
       "<style scoped>\n",
       "    .dataframe tbody tr th:only-of-type {\n",
       "        vertical-align: middle;\n",
       "    }\n",
       "\n",
       "    .dataframe tbody tr th {\n",
       "        vertical-align: top;\n",
       "    }\n",
       "\n",
       "    .dataframe thead th {\n",
       "        text-align: right;\n",
       "    }\n",
       "</style>\n",
       "<table border=\"1\" class=\"dataframe\">\n",
       "  <thead>\n",
       "    <tr style=\"text-align: right;\">\n",
       "      <th></th>\n",
       "      <th>created_at</th>\n",
       "      <th>ride_distance</th>\n",
       "      <th>ooSuburbanDistance</th>\n",
       "      <th>ooCarSearchTime</th>\n",
       "      <th>ooCost</th>\n",
       "      <th>pickup_lat</th>\n",
       "      <th>pickup_lon</th>\n",
       "      <th>dropoff_lat</th>\n",
       "      <th>dropoff_lon</th>\n",
       "      <th>ooIdleCost</th>\n",
       "      <th>...</th>\n",
       "      <th>hour</th>\n",
       "      <th>date</th>\n",
       "      <th>quarter_int</th>\n",
       "      <th>month_int</th>\n",
       "      <th>day_int</th>\n",
       "      <th>dayofweek_int</th>\n",
       "      <th>hour_int</th>\n",
       "      <th>isHolidays</th>\n",
       "      <th>pickup_cluster</th>\n",
       "      <th>dropoff_cluster</th>\n",
       "    </tr>\n",
       "  </thead>\n",
       "  <tbody>\n",
       "    <tr>\n",
       "      <th>252584</th>\n",
       "      <td>2017-09-27 08:49:04.463</td>\n",
       "      <td>5.50</td>\n",
       "      <td>0</td>\n",
       "      <td>65</td>\n",
       "      <td>80.0</td>\n",
       "      <td>50.429779</td>\n",
       "      <td>30.484997</td>\n",
       "      <td>50.462891</td>\n",
       "      <td>30.508522</td>\n",
       "      <td>0.0</td>\n",
       "      <td>...</td>\n",
       "      <td>8</td>\n",
       "      <td>2017-09-27</td>\n",
       "      <td>3</td>\n",
       "      <td>9</td>\n",
       "      <td>27</td>\n",
       "      <td>2</td>\n",
       "      <td>8</td>\n",
       "      <td>0.0</td>\n",
       "      <td>3</td>\n",
       "      <td>3</td>\n",
       "    </tr>\n",
       "    <tr>\n",
       "      <th>252585</th>\n",
       "      <td>2017-08-23 20:11:03.160</td>\n",
       "      <td>5.62</td>\n",
       "      <td>0</td>\n",
       "      <td>8</td>\n",
       "      <td>83.0</td>\n",
       "      <td>50.432079</td>\n",
       "      <td>30.512758</td>\n",
       "      <td>50.393467</td>\n",
       "      <td>30.500957</td>\n",
       "      <td>0.0</td>\n",
       "      <td>...</td>\n",
       "      <td>20</td>\n",
       "      <td>2017-08-23</td>\n",
       "      <td>3</td>\n",
       "      <td>8</td>\n",
       "      <td>23</td>\n",
       "      <td>2</td>\n",
       "      <td>20</td>\n",
       "      <td>0.0</td>\n",
       "      <td>3</td>\n",
       "      <td>3</td>\n",
       "    </tr>\n",
       "    <tr>\n",
       "      <th>252586</th>\n",
       "      <td>2017-09-14 13:58:43.283</td>\n",
       "      <td>4.91</td>\n",
       "      <td>0</td>\n",
       "      <td>2</td>\n",
       "      <td>65.0</td>\n",
       "      <td>50.419601</td>\n",
       "      <td>30.521631</td>\n",
       "      <td>50.429951</td>\n",
       "      <td>30.492132</td>\n",
       "      <td>0.0</td>\n",
       "      <td>...</td>\n",
       "      <td>13</td>\n",
       "      <td>2017-09-14</td>\n",
       "      <td>3</td>\n",
       "      <td>9</td>\n",
       "      <td>14</td>\n",
       "      <td>3</td>\n",
       "      <td>13</td>\n",
       "      <td>0.0</td>\n",
       "      <td>3</td>\n",
       "      <td>3</td>\n",
       "    </tr>\n",
       "    <tr>\n",
       "      <th>252587</th>\n",
       "      <td>2017-10-07 21:50:05.760</td>\n",
       "      <td>2.45</td>\n",
       "      <td>0</td>\n",
       "      <td>6</td>\n",
       "      <td>47.0</td>\n",
       "      <td>50.473900</td>\n",
       "      <td>30.448599</td>\n",
       "      <td>50.486679</td>\n",
       "      <td>30.461111</td>\n",
       "      <td>0.0</td>\n",
       "      <td>...</td>\n",
       "      <td>21</td>\n",
       "      <td>2017-10-07</td>\n",
       "      <td>4</td>\n",
       "      <td>10</td>\n",
       "      <td>7</td>\n",
       "      <td>5</td>\n",
       "      <td>21</td>\n",
       "      <td>0.0</td>\n",
       "      <td>0</td>\n",
       "      <td>5</td>\n",
       "    </tr>\n",
       "    <tr>\n",
       "      <th>252588</th>\n",
       "      <td>2017-09-21 17:27:06.877</td>\n",
       "      <td>8.67</td>\n",
       "      <td>0</td>\n",
       "      <td>84</td>\n",
       "      <td>85.0</td>\n",
       "      <td>50.377016</td>\n",
       "      <td>30.475905</td>\n",
       "      <td>50.425870</td>\n",
       "      <td>30.542498</td>\n",
       "      <td>0.0</td>\n",
       "      <td>...</td>\n",
       "      <td>17</td>\n",
       "      <td>2017-09-21</td>\n",
       "      <td>3</td>\n",
       "      <td>9</td>\n",
       "      <td>21</td>\n",
       "      <td>3</td>\n",
       "      <td>17</td>\n",
       "      <td>0.0</td>\n",
       "      <td>1</td>\n",
       "      <td>3</td>\n",
       "    </tr>\n",
       "  </tbody>\n",
       "</table>\n",
       "<p>5 rows × 24 columns</p>\n",
       "</div>"
      ],
      "text/plain": [
       "                    created_at  ride_distance  ooSuburbanDistance  \\\n",
       "252584 2017-09-27 08:49:04.463           5.50                   0   \n",
       "252585 2017-08-23 20:11:03.160           5.62                   0   \n",
       "252586 2017-09-14 13:58:43.283           4.91                   0   \n",
       "252587 2017-10-07 21:50:05.760           2.45                   0   \n",
       "252588 2017-09-21 17:27:06.877           8.67                   0   \n",
       "\n",
       "        ooCarSearchTime  ooCost  pickup_lat  pickup_lon  dropoff_lat  \\\n",
       "252584               65    80.0   50.429779   30.484997    50.462891   \n",
       "252585                8    83.0   50.432079   30.512758    50.393467   \n",
       "252586                2    65.0   50.419601   30.521631    50.429951   \n",
       "252587                6    47.0   50.473900   30.448599    50.486679   \n",
       "252588               84    85.0   50.377016   30.475905    50.425870   \n",
       "\n",
       "        dropoff_lon  ooIdleCost       ...        hour        date quarter_int  \\\n",
       "252584    30.508522         0.0       ...           8  2017-09-27           3   \n",
       "252585    30.500957         0.0       ...          20  2017-08-23           3   \n",
       "252586    30.492132         0.0       ...          13  2017-09-14           3   \n",
       "252587    30.461111         0.0       ...          21  2017-10-07           4   \n",
       "252588    30.542498         0.0       ...          17  2017-09-21           3   \n",
       "\n",
       "       month_int day_int dayofweek_int  hour_int  isHolidays  pickup_cluster  \\\n",
       "252584         9      27             2         8         0.0               3   \n",
       "252585         8      23             2        20         0.0               3   \n",
       "252586         9      14             3        13         0.0               3   \n",
       "252587        10       7             5        21         0.0               0   \n",
       "252588         9      21             3        17         0.0               1   \n",
       "\n",
       "        dropoff_cluster  \n",
       "252584                3  \n",
       "252585                3  \n",
       "252586                3  \n",
       "252587                5  \n",
       "252588                3  \n",
       "\n",
       "[5 rows x 24 columns]"
      ]
     },
     "execution_count": 36,
     "metadata": {},
     "output_type": "execute_result"
    }
   ],
   "source": [
    "data.tail()"
   ]
  },
  {
   "cell_type": "code",
   "execution_count": 37,
   "metadata": {},
   "outputs": [
    {
     "data": {
      "text/plain": [
       "(252589, 24)"
      ]
     },
     "execution_count": 37,
     "metadata": {},
     "output_type": "execute_result"
    }
   ],
   "source": [
    "data.shape"
   ]
  },
  {
   "cell_type": "code",
   "execution_count": 38,
   "metadata": {},
   "outputs": [
    {
     "data": {
      "text/html": [
       "<div>\n",
       "<style scoped>\n",
       "    .dataframe tbody tr th:only-of-type {\n",
       "        vertical-align: middle;\n",
       "    }\n",
       "\n",
       "    .dataframe tbody tr th {\n",
       "        vertical-align: top;\n",
       "    }\n",
       "\n",
       "    .dataframe thead th {\n",
       "        text-align: right;\n",
       "    }\n",
       "</style>\n",
       "<table border=\"1\" class=\"dataframe\">\n",
       "  <thead>\n",
       "    <tr style=\"text-align: right;\">\n",
       "      <th></th>\n",
       "      <th>ride_distance</th>\n",
       "      <th>ooSuburbanDistance</th>\n",
       "      <th>ooCarSearchTime</th>\n",
       "      <th>ooCost</th>\n",
       "      <th>pickup_lat</th>\n",
       "      <th>pickup_lon</th>\n",
       "      <th>dropoff_lat</th>\n",
       "      <th>dropoff_lon</th>\n",
       "      <th>ooIdleCost</th>\n",
       "      <th>quarter_int</th>\n",
       "      <th>month_int</th>\n",
       "      <th>day_int</th>\n",
       "      <th>dayofweek_int</th>\n",
       "      <th>hour_int</th>\n",
       "      <th>isHolidays</th>\n",
       "      <th>pickup_cluster</th>\n",
       "      <th>dropoff_cluster</th>\n",
       "    </tr>\n",
       "  </thead>\n",
       "  <tbody>\n",
       "    <tr>\n",
       "      <th>count</th>\n",
       "      <td>252589.00000</td>\n",
       "      <td>252589.0</td>\n",
       "      <td>252589.000000</td>\n",
       "      <td>252589.000000</td>\n",
       "      <td>252589.000000</td>\n",
       "      <td>252589.000000</td>\n",
       "      <td>252589.000000</td>\n",
       "      <td>252589.000000</td>\n",
       "      <td>252589.000000</td>\n",
       "      <td>252589.000000</td>\n",
       "      <td>252589.000000</td>\n",
       "      <td>252589.000000</td>\n",
       "      <td>252589.000000</td>\n",
       "      <td>252589.000000</td>\n",
       "      <td>252589.000000</td>\n",
       "      <td>252589.000000</td>\n",
       "      <td>252589.000000</td>\n",
       "    </tr>\n",
       "    <tr>\n",
       "      <th>mean</th>\n",
       "      <td>11.05635</td>\n",
       "      <td>0.0</td>\n",
       "      <td>19.008262</td>\n",
       "      <td>105.358986</td>\n",
       "      <td>50.446200</td>\n",
       "      <td>30.513616</td>\n",
       "      <td>50.446050</td>\n",
       "      <td>30.514176</td>\n",
       "      <td>0.423811</td>\n",
       "      <td>3.362724</td>\n",
       "      <td>9.051083</td>\n",
       "      <td>15.849059</td>\n",
       "      <td>3.011501</td>\n",
       "      <td>13.362336</td>\n",
       "      <td>0.022309</td>\n",
       "      <td>2.422809</td>\n",
       "      <td>3.089774</td>\n",
       "    </tr>\n",
       "    <tr>\n",
       "      <th>std</th>\n",
       "      <td>7.23304</td>\n",
       "      <td>0.0</td>\n",
       "      <td>28.192796</td>\n",
       "      <td>49.961335</td>\n",
       "      <td>0.038580</td>\n",
       "      <td>0.082945</td>\n",
       "      <td>0.040640</td>\n",
       "      <td>0.088938</td>\n",
       "      <td>3.333204</td>\n",
       "      <td>0.480787</td>\n",
       "      <td>0.819608</td>\n",
       "      <td>8.862059</td>\n",
       "      <td>1.955006</td>\n",
       "      <td>6.562452</td>\n",
       "      <td>0.147687</td>\n",
       "      <td>1.490563</td>\n",
       "      <td>1.785891</td>\n",
       "    </tr>\n",
       "    <tr>\n",
       "      <th>min</th>\n",
       "      <td>0.00000</td>\n",
       "      <td>0.0</td>\n",
       "      <td>-3515.000000</td>\n",
       "      <td>40.000000</td>\n",
       "      <td>50.106449</td>\n",
       "      <td>29.949812</td>\n",
       "      <td>50.089516</td>\n",
       "      <td>29.917574</td>\n",
       "      <td>0.000000</td>\n",
       "      <td>3.000000</td>\n",
       "      <td>8.000000</td>\n",
       "      <td>1.000000</td>\n",
       "      <td>0.000000</td>\n",
       "      <td>0.000000</td>\n",
       "      <td>0.000000</td>\n",
       "      <td>0.000000</td>\n",
       "      <td>0.000000</td>\n",
       "    </tr>\n",
       "    <tr>\n",
       "      <th>25%</th>\n",
       "      <td>5.61000</td>\n",
       "      <td>0.0</td>\n",
       "      <td>5.000000</td>\n",
       "      <td>70.000000</td>\n",
       "      <td>50.422974</td>\n",
       "      <td>30.466961</td>\n",
       "      <td>50.421444</td>\n",
       "      <td>30.464724</td>\n",
       "      <td>0.000000</td>\n",
       "      <td>3.000000</td>\n",
       "      <td>8.000000</td>\n",
       "      <td>8.000000</td>\n",
       "      <td>1.000000</td>\n",
       "      <td>9.000000</td>\n",
       "      <td>0.000000</td>\n",
       "      <td>1.000000</td>\n",
       "      <td>2.000000</td>\n",
       "    </tr>\n",
       "    <tr>\n",
       "      <th>50%</th>\n",
       "      <td>9.97000</td>\n",
       "      <td>0.0</td>\n",
       "      <td>9.000000</td>\n",
       "      <td>100.000000</td>\n",
       "      <td>50.442612</td>\n",
       "      <td>30.510380</td>\n",
       "      <td>50.442226</td>\n",
       "      <td>30.509151</td>\n",
       "      <td>0.000000</td>\n",
       "      <td>3.000000</td>\n",
       "      <td>9.000000</td>\n",
       "      <td>16.000000</td>\n",
       "      <td>3.000000</td>\n",
       "      <td>14.000000</td>\n",
       "      <td>0.000000</td>\n",
       "      <td>3.000000</td>\n",
       "      <td>3.000000</td>\n",
       "    </tr>\n",
       "    <tr>\n",
       "      <th>75%</th>\n",
       "      <td>14.50000</td>\n",
       "      <td>0.0</td>\n",
       "      <td>23.000000</td>\n",
       "      <td>125.000000</td>\n",
       "      <td>50.465675</td>\n",
       "      <td>30.546051</td>\n",
       "      <td>50.467125</td>\n",
       "      <td>30.555006</td>\n",
       "      <td>0.000000</td>\n",
       "      <td>4.000000</td>\n",
       "      <td>10.000000</td>\n",
       "      <td>23.000000</td>\n",
       "      <td>5.000000</td>\n",
       "      <td>19.000000</td>\n",
       "      <td>0.000000</td>\n",
       "      <td>3.000000</td>\n",
       "      <td>5.000000</td>\n",
       "    </tr>\n",
       "    <tr>\n",
       "      <th>max</th>\n",
       "      <td>117.71000</td>\n",
       "      <td>0.0</td>\n",
       "      <td>2565.000000</td>\n",
       "      <td>1057.000000</td>\n",
       "      <td>50.812706</td>\n",
       "      <td>30.974821</td>\n",
       "      <td>50.812706</td>\n",
       "      <td>30.981932</td>\n",
       "      <td>285.000000</td>\n",
       "      <td>4.000000</td>\n",
       "      <td>10.000000</td>\n",
       "      <td>31.000000</td>\n",
       "      <td>6.000000</td>\n",
       "      <td>23.000000</td>\n",
       "      <td>1.000000</td>\n",
       "      <td>6.000000</td>\n",
       "      <td>6.000000</td>\n",
       "    </tr>\n",
       "  </tbody>\n",
       "</table>\n",
       "</div>"
      ],
      "text/plain": [
       "       ride_distance  ooSuburbanDistance  ooCarSearchTime         ooCost  \\\n",
       "count   252589.00000            252589.0    252589.000000  252589.000000   \n",
       "mean        11.05635                 0.0        19.008262     105.358986   \n",
       "std          7.23304                 0.0        28.192796      49.961335   \n",
       "min          0.00000                 0.0     -3515.000000      40.000000   \n",
       "25%          5.61000                 0.0         5.000000      70.000000   \n",
       "50%          9.97000                 0.0         9.000000     100.000000   \n",
       "75%         14.50000                 0.0        23.000000     125.000000   \n",
       "max        117.71000                 0.0      2565.000000    1057.000000   \n",
       "\n",
       "          pickup_lat     pickup_lon    dropoff_lat    dropoff_lon  \\\n",
       "count  252589.000000  252589.000000  252589.000000  252589.000000   \n",
       "mean       50.446200      30.513616      50.446050      30.514176   \n",
       "std         0.038580       0.082945       0.040640       0.088938   \n",
       "min        50.106449      29.949812      50.089516      29.917574   \n",
       "25%        50.422974      30.466961      50.421444      30.464724   \n",
       "50%        50.442612      30.510380      50.442226      30.509151   \n",
       "75%        50.465675      30.546051      50.467125      30.555006   \n",
       "max        50.812706      30.974821      50.812706      30.981932   \n",
       "\n",
       "          ooIdleCost    quarter_int      month_int        day_int  \\\n",
       "count  252589.000000  252589.000000  252589.000000  252589.000000   \n",
       "mean        0.423811       3.362724       9.051083      15.849059   \n",
       "std         3.333204       0.480787       0.819608       8.862059   \n",
       "min         0.000000       3.000000       8.000000       1.000000   \n",
       "25%         0.000000       3.000000       8.000000       8.000000   \n",
       "50%         0.000000       3.000000       9.000000      16.000000   \n",
       "75%         0.000000       4.000000      10.000000      23.000000   \n",
       "max       285.000000       4.000000      10.000000      31.000000   \n",
       "\n",
       "       dayofweek_int       hour_int     isHolidays  pickup_cluster  \\\n",
       "count  252589.000000  252589.000000  252589.000000   252589.000000   \n",
       "mean        3.011501      13.362336       0.022309        2.422809   \n",
       "std         1.955006       6.562452       0.147687        1.490563   \n",
       "min         0.000000       0.000000       0.000000        0.000000   \n",
       "25%         1.000000       9.000000       0.000000        1.000000   \n",
       "50%         3.000000      14.000000       0.000000        3.000000   \n",
       "75%         5.000000      19.000000       0.000000        3.000000   \n",
       "max         6.000000      23.000000       1.000000        6.000000   \n",
       "\n",
       "       dropoff_cluster  \n",
       "count    252589.000000  \n",
       "mean          3.089774  \n",
       "std           1.785891  \n",
       "min           0.000000  \n",
       "25%           2.000000  \n",
       "50%           3.000000  \n",
       "75%           5.000000  \n",
       "max           6.000000  "
      ]
     },
     "execution_count": 38,
     "metadata": {},
     "output_type": "execute_result"
    }
   ],
   "source": [
    "data.describe()"
   ]
  },
  {
   "cell_type": "code",
   "execution_count": 39,
   "metadata": {},
   "outputs": [],
   "source": [
    "# In our dataset, we have both categorical and numeric data. select them for different processing"
   ]
  },
  {
   "cell_type": "code",
   "execution_count": 40,
   "metadata": {},
   "outputs": [],
   "source": [
    "# CATEGORICAL (for the moment only these)\n",
    "catFeatures = ['quarter','month','day','dayofweek', 'pickup_cluster', 'dropoff_cluster']"
   ]
  },
  {
   "cell_type": "code",
   "execution_count": 41,
   "metadata": {},
   "outputs": [],
   "source": [
    "# Convert categorical variable into dummy/indicator variables\n",
    "df_cat = pd.get_dummies(data[catFeatures])"
   ]
  },
  {
   "cell_type": "code",
   "execution_count": 42,
   "metadata": {},
   "outputs": [
    {
     "data": {
      "text/html": [
       "<div>\n",
       "<style scoped>\n",
       "    .dataframe tbody tr th:only-of-type {\n",
       "        vertical-align: middle;\n",
       "    }\n",
       "\n",
       "    .dataframe tbody tr th {\n",
       "        vertical-align: top;\n",
       "    }\n",
       "\n",
       "    .dataframe thead th {\n",
       "        text-align: right;\n",
       "    }\n",
       "</style>\n",
       "<table border=\"1\" class=\"dataframe\">\n",
       "  <thead>\n",
       "    <tr style=\"text-align: right;\">\n",
       "      <th></th>\n",
       "      <th>pickup_cluster</th>\n",
       "      <th>dropoff_cluster</th>\n",
       "      <th>quarter_3</th>\n",
       "      <th>quarter_4</th>\n",
       "      <th>month_10</th>\n",
       "      <th>month_8</th>\n",
       "      <th>month_9</th>\n",
       "      <th>day_1</th>\n",
       "      <th>day_10</th>\n",
       "      <th>day_11</th>\n",
       "      <th>...</th>\n",
       "      <th>day_7</th>\n",
       "      <th>day_8</th>\n",
       "      <th>day_9</th>\n",
       "      <th>dayofweek_0</th>\n",
       "      <th>dayofweek_1</th>\n",
       "      <th>dayofweek_2</th>\n",
       "      <th>dayofweek_3</th>\n",
       "      <th>dayofweek_4</th>\n",
       "      <th>dayofweek_5</th>\n",
       "      <th>dayofweek_6</th>\n",
       "    </tr>\n",
       "  </thead>\n",
       "  <tbody>\n",
       "    <tr>\n",
       "      <th>0</th>\n",
       "      <td>0</td>\n",
       "      <td>0</td>\n",
       "      <td>0</td>\n",
       "      <td>1</td>\n",
       "      <td>1</td>\n",
       "      <td>0</td>\n",
       "      <td>0</td>\n",
       "      <td>0</td>\n",
       "      <td>0</td>\n",
       "      <td>0</td>\n",
       "      <td>...</td>\n",
       "      <td>0</td>\n",
       "      <td>0</td>\n",
       "      <td>0</td>\n",
       "      <td>0</td>\n",
       "      <td>0</td>\n",
       "      <td>0</td>\n",
       "      <td>0</td>\n",
       "      <td>0</td>\n",
       "      <td>0</td>\n",
       "      <td>1</td>\n",
       "    </tr>\n",
       "    <tr>\n",
       "      <th>1</th>\n",
       "      <td>3</td>\n",
       "      <td>3</td>\n",
       "      <td>0</td>\n",
       "      <td>1</td>\n",
       "      <td>1</td>\n",
       "      <td>0</td>\n",
       "      <td>0</td>\n",
       "      <td>0</td>\n",
       "      <td>0</td>\n",
       "      <td>0</td>\n",
       "      <td>...</td>\n",
       "      <td>0</td>\n",
       "      <td>0</td>\n",
       "      <td>0</td>\n",
       "      <td>0</td>\n",
       "      <td>0</td>\n",
       "      <td>0</td>\n",
       "      <td>1</td>\n",
       "      <td>0</td>\n",
       "      <td>0</td>\n",
       "      <td>0</td>\n",
       "    </tr>\n",
       "    <tr>\n",
       "      <th>2</th>\n",
       "      <td>0</td>\n",
       "      <td>3</td>\n",
       "      <td>0</td>\n",
       "      <td>1</td>\n",
       "      <td>1</td>\n",
       "      <td>0</td>\n",
       "      <td>0</td>\n",
       "      <td>0</td>\n",
       "      <td>0</td>\n",
       "      <td>0</td>\n",
       "      <td>...</td>\n",
       "      <td>0</td>\n",
       "      <td>0</td>\n",
       "      <td>0</td>\n",
       "      <td>0</td>\n",
       "      <td>0</td>\n",
       "      <td>0</td>\n",
       "      <td>0</td>\n",
       "      <td>1</td>\n",
       "      <td>0</td>\n",
       "      <td>0</td>\n",
       "    </tr>\n",
       "    <tr>\n",
       "      <th>3</th>\n",
       "      <td>5</td>\n",
       "      <td>6</td>\n",
       "      <td>1</td>\n",
       "      <td>0</td>\n",
       "      <td>0</td>\n",
       "      <td>0</td>\n",
       "      <td>1</td>\n",
       "      <td>0</td>\n",
       "      <td>0</td>\n",
       "      <td>0</td>\n",
       "      <td>...</td>\n",
       "      <td>0</td>\n",
       "      <td>0</td>\n",
       "      <td>0</td>\n",
       "      <td>0</td>\n",
       "      <td>0</td>\n",
       "      <td>0</td>\n",
       "      <td>0</td>\n",
       "      <td>0</td>\n",
       "      <td>1</td>\n",
       "      <td>0</td>\n",
       "    </tr>\n",
       "    <tr>\n",
       "      <th>4</th>\n",
       "      <td>3</td>\n",
       "      <td>5</td>\n",
       "      <td>0</td>\n",
       "      <td>1</td>\n",
       "      <td>1</td>\n",
       "      <td>0</td>\n",
       "      <td>0</td>\n",
       "      <td>0</td>\n",
       "      <td>0</td>\n",
       "      <td>0</td>\n",
       "      <td>...</td>\n",
       "      <td>0</td>\n",
       "      <td>0</td>\n",
       "      <td>0</td>\n",
       "      <td>0</td>\n",
       "      <td>0</td>\n",
       "      <td>0</td>\n",
       "      <td>0</td>\n",
       "      <td>0</td>\n",
       "      <td>1</td>\n",
       "      <td>0</td>\n",
       "    </tr>\n",
       "  </tbody>\n",
       "</table>\n",
       "<p>5 rows × 45 columns</p>\n",
       "</div>"
      ],
      "text/plain": [
       "   pickup_cluster  dropoff_cluster  quarter_3  quarter_4  month_10  month_8  \\\n",
       "0               0                0          0          1         1        0   \n",
       "1               3                3          0          1         1        0   \n",
       "2               0                3          0          1         1        0   \n",
       "3               5                6          1          0         0        0   \n",
       "4               3                5          0          1         1        0   \n",
       "\n",
       "   month_9  day_1  day_10  day_11     ...       day_7  day_8  day_9  \\\n",
       "0        0      0       0       0     ...           0      0      0   \n",
       "1        0      0       0       0     ...           0      0      0   \n",
       "2        0      0       0       0     ...           0      0      0   \n",
       "3        1      0       0       0     ...           0      0      0   \n",
       "4        0      0       0       0     ...           0      0      0   \n",
       "\n",
       "   dayofweek_0  dayofweek_1  dayofweek_2  dayofweek_3  dayofweek_4  \\\n",
       "0            0            0            0            0            0   \n",
       "1            0            0            0            1            0   \n",
       "2            0            0            0            0            1   \n",
       "3            0            0            0            0            0   \n",
       "4            0            0            0            0            0   \n",
       "\n",
       "   dayofweek_5  dayofweek_6  \n",
       "0            0            1  \n",
       "1            0            0  \n",
       "2            0            0  \n",
       "3            1            0  \n",
       "4            1            0  \n",
       "\n",
       "[5 rows x 45 columns]"
      ]
     },
     "execution_count": 42,
     "metadata": {},
     "output_type": "execute_result"
    }
   ],
   "source": [
    "# let's check\n",
    "df_cat.head()"
   ]
  },
  {
   "cell_type": "code",
   "execution_count": 43,
   "metadata": {},
   "outputs": [],
   "source": [
    "# concat dummy/indicator variables to dataframe\n",
    "data = pd.concat([data, df_cat], axis=1)"
   ]
  },
  {
   "cell_type": "code",
   "execution_count": 44,
   "metadata": {},
   "outputs": [
    {
     "data": {
      "text/html": [
       "<div>\n",
       "<style scoped>\n",
       "    .dataframe tbody tr th:only-of-type {\n",
       "        vertical-align: middle;\n",
       "    }\n",
       "\n",
       "    .dataframe tbody tr th {\n",
       "        vertical-align: top;\n",
       "    }\n",
       "\n",
       "    .dataframe thead th {\n",
       "        text-align: right;\n",
       "    }\n",
       "</style>\n",
       "<table border=\"1\" class=\"dataframe\">\n",
       "  <thead>\n",
       "    <tr style=\"text-align: right;\">\n",
       "      <th></th>\n",
       "      <th>created_at</th>\n",
       "      <th>ride_distance</th>\n",
       "      <th>ooSuburbanDistance</th>\n",
       "      <th>ooCarSearchTime</th>\n",
       "      <th>ooCost</th>\n",
       "      <th>pickup_lat</th>\n",
       "      <th>pickup_lon</th>\n",
       "      <th>dropoff_lat</th>\n",
       "      <th>dropoff_lon</th>\n",
       "      <th>ooIdleCost</th>\n",
       "      <th>...</th>\n",
       "      <th>day_7</th>\n",
       "      <th>day_8</th>\n",
       "      <th>day_9</th>\n",
       "      <th>dayofweek_0</th>\n",
       "      <th>dayofweek_1</th>\n",
       "      <th>dayofweek_2</th>\n",
       "      <th>dayofweek_3</th>\n",
       "      <th>dayofweek_4</th>\n",
       "      <th>dayofweek_5</th>\n",
       "      <th>dayofweek_6</th>\n",
       "    </tr>\n",
       "  </thead>\n",
       "  <tbody>\n",
       "    <tr>\n",
       "      <th>0</th>\n",
       "      <td>2017-10-15 11:39:06.723</td>\n",
       "      <td>9.91</td>\n",
       "      <td>0</td>\n",
       "      <td>7</td>\n",
       "      <td>89.0</td>\n",
       "      <td>50.520004</td>\n",
       "      <td>30.461023</td>\n",
       "      <td>50.494019</td>\n",
       "      <td>30.363171</td>\n",
       "      <td>0.0</td>\n",
       "      <td>...</td>\n",
       "      <td>0</td>\n",
       "      <td>0</td>\n",
       "      <td>0</td>\n",
       "      <td>0</td>\n",
       "      <td>0</td>\n",
       "      <td>0</td>\n",
       "      <td>0</td>\n",
       "      <td>0</td>\n",
       "      <td>0</td>\n",
       "      <td>1</td>\n",
       "    </tr>\n",
       "    <tr>\n",
       "      <th>1</th>\n",
       "      <td>2017-10-05 20:42:47.080</td>\n",
       "      <td>10.23</td>\n",
       "      <td>0</td>\n",
       "      <td>7</td>\n",
       "      <td>93.0</td>\n",
       "      <td>50.466591</td>\n",
       "      <td>30.515554</td>\n",
       "      <td>50.398354</td>\n",
       "      <td>30.497868</td>\n",
       "      <td>0.0</td>\n",
       "      <td>...</td>\n",
       "      <td>0</td>\n",
       "      <td>0</td>\n",
       "      <td>0</td>\n",
       "      <td>0</td>\n",
       "      <td>0</td>\n",
       "      <td>0</td>\n",
       "      <td>1</td>\n",
       "      <td>0</td>\n",
       "      <td>0</td>\n",
       "      <td>0</td>\n",
       "    </tr>\n",
       "    <tr>\n",
       "      <th>2</th>\n",
       "      <td>2017-10-27 17:55:19.110</td>\n",
       "      <td>5.42</td>\n",
       "      <td>0</td>\n",
       "      <td>11</td>\n",
       "      <td>116.0</td>\n",
       "      <td>50.467556</td>\n",
       "      <td>30.485859</td>\n",
       "      <td>50.435810</td>\n",
       "      <td>30.509760</td>\n",
       "      <td>0.0</td>\n",
       "      <td>...</td>\n",
       "      <td>0</td>\n",
       "      <td>0</td>\n",
       "      <td>0</td>\n",
       "      <td>0</td>\n",
       "      <td>0</td>\n",
       "      <td>0</td>\n",
       "      <td>0</td>\n",
       "      <td>1</td>\n",
       "      <td>0</td>\n",
       "      <td>0</td>\n",
       "    </tr>\n",
       "    <tr>\n",
       "      <th>3</th>\n",
       "      <td>2017-09-23 20:04:50.207</td>\n",
       "      <td>14.42</td>\n",
       "      <td>0</td>\n",
       "      <td>1</td>\n",
       "      <td>113.0</td>\n",
       "      <td>50.493305</td>\n",
       "      <td>30.558781</td>\n",
       "      <td>50.408367</td>\n",
       "      <td>30.624395</td>\n",
       "      <td>0.0</td>\n",
       "      <td>...</td>\n",
       "      <td>0</td>\n",
       "      <td>0</td>\n",
       "      <td>0</td>\n",
       "      <td>0</td>\n",
       "      <td>0</td>\n",
       "      <td>0</td>\n",
       "      <td>0</td>\n",
       "      <td>0</td>\n",
       "      <td>1</td>\n",
       "      <td>0</td>\n",
       "    </tr>\n",
       "    <tr>\n",
       "      <th>4</th>\n",
       "      <td>2017-10-21 02:04:35.750</td>\n",
       "      <td>18.07</td>\n",
       "      <td>0</td>\n",
       "      <td>38</td>\n",
       "      <td>135.0</td>\n",
       "      <td>50.421543</td>\n",
       "      <td>30.553041</td>\n",
       "      <td>50.510326</td>\n",
       "      <td>30.489574</td>\n",
       "      <td>0.0</td>\n",
       "      <td>...</td>\n",
       "      <td>0</td>\n",
       "      <td>0</td>\n",
       "      <td>0</td>\n",
       "      <td>0</td>\n",
       "      <td>0</td>\n",
       "      <td>0</td>\n",
       "      <td>0</td>\n",
       "      <td>0</td>\n",
       "      <td>1</td>\n",
       "      <td>0</td>\n",
       "    </tr>\n",
       "  </tbody>\n",
       "</table>\n",
       "<p>5 rows × 69 columns</p>\n",
       "</div>"
      ],
      "text/plain": [
       "               created_at  ride_distance  ooSuburbanDistance  ooCarSearchTime  \\\n",
       "0 2017-10-15 11:39:06.723           9.91                   0                7   \n",
       "1 2017-10-05 20:42:47.080          10.23                   0                7   \n",
       "2 2017-10-27 17:55:19.110           5.42                   0               11   \n",
       "3 2017-09-23 20:04:50.207          14.42                   0                1   \n",
       "4 2017-10-21 02:04:35.750          18.07                   0               38   \n",
       "\n",
       "   ooCost  pickup_lat  pickup_lon  dropoff_lat  dropoff_lon  ooIdleCost  \\\n",
       "0    89.0   50.520004   30.461023    50.494019    30.363171         0.0   \n",
       "1    93.0   50.466591   30.515554    50.398354    30.497868         0.0   \n",
       "2   116.0   50.467556   30.485859    50.435810    30.509760         0.0   \n",
       "3   113.0   50.493305   30.558781    50.408367    30.624395         0.0   \n",
       "4   135.0   50.421543   30.553041    50.510326    30.489574         0.0   \n",
       "\n",
       "      ...      day_7 day_8 day_9 dayofweek_0 dayofweek_1 dayofweek_2  \\\n",
       "0     ...          0     0     0           0           0           0   \n",
       "1     ...          0     0     0           0           0           0   \n",
       "2     ...          0     0     0           0           0           0   \n",
       "3     ...          0     0     0           0           0           0   \n",
       "4     ...          0     0     0           0           0           0   \n",
       "\n",
       "   dayofweek_3  dayofweek_4  dayofweek_5  dayofweek_6  \n",
       "0            0            0            0            1  \n",
       "1            1            0            0            0  \n",
       "2            0            1            0            0  \n",
       "3            0            0            1            0  \n",
       "4            0            0            1            0  \n",
       "\n",
       "[5 rows x 69 columns]"
      ]
     },
     "execution_count": 44,
     "metadata": {},
     "output_type": "execute_result"
    }
   ],
   "source": [
    "data.head()"
   ]
  },
  {
   "cell_type": "code",
   "execution_count": 45,
   "metadata": {},
   "outputs": [],
   "source": [
    "# drop useless categorical column (because we have dummy/indicator variables)\n",
    "data.drop(catFeatures, axis=1,inplace=True)"
   ]
  },
  {
   "cell_type": "code",
   "execution_count": 46,
   "metadata": {},
   "outputs": [
    {
     "data": {
      "text/html": [
       "<div>\n",
       "<style scoped>\n",
       "    .dataframe tbody tr th:only-of-type {\n",
       "        vertical-align: middle;\n",
       "    }\n",
       "\n",
       "    .dataframe tbody tr th {\n",
       "        vertical-align: top;\n",
       "    }\n",
       "\n",
       "    .dataframe thead th {\n",
       "        text-align: right;\n",
       "    }\n",
       "</style>\n",
       "<table border=\"1\" class=\"dataframe\">\n",
       "  <thead>\n",
       "    <tr style=\"text-align: right;\">\n",
       "      <th></th>\n",
       "      <th>created_at</th>\n",
       "      <th>ride_distance</th>\n",
       "      <th>ooSuburbanDistance</th>\n",
       "      <th>ooCarSearchTime</th>\n",
       "      <th>ooCost</th>\n",
       "      <th>pickup_lat</th>\n",
       "      <th>pickup_lon</th>\n",
       "      <th>dropoff_lat</th>\n",
       "      <th>dropoff_lon</th>\n",
       "      <th>ooIdleCost</th>\n",
       "      <th>...</th>\n",
       "      <th>day_7</th>\n",
       "      <th>day_8</th>\n",
       "      <th>day_9</th>\n",
       "      <th>dayofweek_0</th>\n",
       "      <th>dayofweek_1</th>\n",
       "      <th>dayofweek_2</th>\n",
       "      <th>dayofweek_3</th>\n",
       "      <th>dayofweek_4</th>\n",
       "      <th>dayofweek_5</th>\n",
       "      <th>dayofweek_6</th>\n",
       "    </tr>\n",
       "  </thead>\n",
       "  <tbody>\n",
       "    <tr>\n",
       "      <th>0</th>\n",
       "      <td>2017-10-15 11:39:06.723</td>\n",
       "      <td>9.91</td>\n",
       "      <td>0</td>\n",
       "      <td>7</td>\n",
       "      <td>89.0</td>\n",
       "      <td>50.520004</td>\n",
       "      <td>30.461023</td>\n",
       "      <td>50.494019</td>\n",
       "      <td>30.363171</td>\n",
       "      <td>0.0</td>\n",
       "      <td>...</td>\n",
       "      <td>0</td>\n",
       "      <td>0</td>\n",
       "      <td>0</td>\n",
       "      <td>0</td>\n",
       "      <td>0</td>\n",
       "      <td>0</td>\n",
       "      <td>0</td>\n",
       "      <td>0</td>\n",
       "      <td>0</td>\n",
       "      <td>1</td>\n",
       "    </tr>\n",
       "    <tr>\n",
       "      <th>1</th>\n",
       "      <td>2017-10-05 20:42:47.080</td>\n",
       "      <td>10.23</td>\n",
       "      <td>0</td>\n",
       "      <td>7</td>\n",
       "      <td>93.0</td>\n",
       "      <td>50.466591</td>\n",
       "      <td>30.515554</td>\n",
       "      <td>50.398354</td>\n",
       "      <td>30.497868</td>\n",
       "      <td>0.0</td>\n",
       "      <td>...</td>\n",
       "      <td>0</td>\n",
       "      <td>0</td>\n",
       "      <td>0</td>\n",
       "      <td>0</td>\n",
       "      <td>0</td>\n",
       "      <td>0</td>\n",
       "      <td>1</td>\n",
       "      <td>0</td>\n",
       "      <td>0</td>\n",
       "      <td>0</td>\n",
       "    </tr>\n",
       "    <tr>\n",
       "      <th>2</th>\n",
       "      <td>2017-10-27 17:55:19.110</td>\n",
       "      <td>5.42</td>\n",
       "      <td>0</td>\n",
       "      <td>11</td>\n",
       "      <td>116.0</td>\n",
       "      <td>50.467556</td>\n",
       "      <td>30.485859</td>\n",
       "      <td>50.435810</td>\n",
       "      <td>30.509760</td>\n",
       "      <td>0.0</td>\n",
       "      <td>...</td>\n",
       "      <td>0</td>\n",
       "      <td>0</td>\n",
       "      <td>0</td>\n",
       "      <td>0</td>\n",
       "      <td>0</td>\n",
       "      <td>0</td>\n",
       "      <td>0</td>\n",
       "      <td>1</td>\n",
       "      <td>0</td>\n",
       "      <td>0</td>\n",
       "    </tr>\n",
       "    <tr>\n",
       "      <th>3</th>\n",
       "      <td>2017-09-23 20:04:50.207</td>\n",
       "      <td>14.42</td>\n",
       "      <td>0</td>\n",
       "      <td>1</td>\n",
       "      <td>113.0</td>\n",
       "      <td>50.493305</td>\n",
       "      <td>30.558781</td>\n",
       "      <td>50.408367</td>\n",
       "      <td>30.624395</td>\n",
       "      <td>0.0</td>\n",
       "      <td>...</td>\n",
       "      <td>0</td>\n",
       "      <td>0</td>\n",
       "      <td>0</td>\n",
       "      <td>0</td>\n",
       "      <td>0</td>\n",
       "      <td>0</td>\n",
       "      <td>0</td>\n",
       "      <td>0</td>\n",
       "      <td>1</td>\n",
       "      <td>0</td>\n",
       "    </tr>\n",
       "    <tr>\n",
       "      <th>4</th>\n",
       "      <td>2017-10-21 02:04:35.750</td>\n",
       "      <td>18.07</td>\n",
       "      <td>0</td>\n",
       "      <td>38</td>\n",
       "      <td>135.0</td>\n",
       "      <td>50.421543</td>\n",
       "      <td>30.553041</td>\n",
       "      <td>50.510326</td>\n",
       "      <td>30.489574</td>\n",
       "      <td>0.0</td>\n",
       "      <td>...</td>\n",
       "      <td>0</td>\n",
       "      <td>0</td>\n",
       "      <td>0</td>\n",
       "      <td>0</td>\n",
       "      <td>0</td>\n",
       "      <td>0</td>\n",
       "      <td>0</td>\n",
       "      <td>0</td>\n",
       "      <td>1</td>\n",
       "      <td>0</td>\n",
       "    </tr>\n",
       "  </tbody>\n",
       "</table>\n",
       "<p>5 rows × 61 columns</p>\n",
       "</div>"
      ],
      "text/plain": [
       "               created_at  ride_distance  ooSuburbanDistance  ooCarSearchTime  \\\n",
       "0 2017-10-15 11:39:06.723           9.91                   0                7   \n",
       "1 2017-10-05 20:42:47.080          10.23                   0                7   \n",
       "2 2017-10-27 17:55:19.110           5.42                   0               11   \n",
       "3 2017-09-23 20:04:50.207          14.42                   0                1   \n",
       "4 2017-10-21 02:04:35.750          18.07                   0               38   \n",
       "\n",
       "   ooCost  pickup_lat  pickup_lon  dropoff_lat  dropoff_lon  ooIdleCost  \\\n",
       "0    89.0   50.520004   30.461023    50.494019    30.363171         0.0   \n",
       "1    93.0   50.466591   30.515554    50.398354    30.497868         0.0   \n",
       "2   116.0   50.467556   30.485859    50.435810    30.509760         0.0   \n",
       "3   113.0   50.493305   30.558781    50.408367    30.624395         0.0   \n",
       "4   135.0   50.421543   30.553041    50.510326    30.489574         0.0   \n",
       "\n",
       "      ...      day_7 day_8  day_9  dayofweek_0  dayofweek_1  dayofweek_2  \\\n",
       "0     ...          0     0      0            0            0            0   \n",
       "1     ...          0     0      0            0            0            0   \n",
       "2     ...          0     0      0            0            0            0   \n",
       "3     ...          0     0      0            0            0            0   \n",
       "4     ...          0     0      0            0            0            0   \n",
       "\n",
       "   dayofweek_3  dayofweek_4  dayofweek_5  dayofweek_6  \n",
       "0            0            0            0            1  \n",
       "1            1            0            0            0  \n",
       "2            0            1            0            0  \n",
       "3            0            0            1            0  \n",
       "4            0            0            1            0  \n",
       "\n",
       "[5 rows x 61 columns]"
      ]
     },
     "execution_count": 46,
     "metadata": {},
     "output_type": "execute_result"
    }
   ],
   "source": [
    "data.head()"
   ]
  },
  {
   "cell_type": "code",
   "execution_count": 47,
   "metadata": {},
   "outputs": [],
   "source": [
    "#INTEGER\n",
    "intFeatures = ['ride_distance','ooSuburbanDistance','ooCarSearchTime','quarter_int','month_int','day_int','dayofweek_int']"
   ]
  },
  {
   "cell_type": "code",
   "execution_count": 48,
   "metadata": {},
   "outputs": [],
   "source": [
    "# integer features scaling\n",
    "scaler = MinMaxScaler()\n",
    "data[intFeatures] = scaler.fit_transform(data[intFeatures])"
   ]
  },
  {
   "cell_type": "code",
   "execution_count": 49,
   "metadata": {},
   "outputs": [],
   "source": [
    "# split features and target\n",
    "dfX = data.drop(['pickup_lat','pickup_lon','dropoff_lat','dropoff_lon','created_at','date','ooCost'], axis=1)\n",
    "dfY = data['ooCost']"
   ]
  },
  {
   "cell_type": "code",
   "execution_count": 50,
   "metadata": {},
   "outputs": [
    {
     "data": {
      "text/html": [
       "<div>\n",
       "<style scoped>\n",
       "    .dataframe tbody tr th:only-of-type {\n",
       "        vertical-align: middle;\n",
       "    }\n",
       "\n",
       "    .dataframe tbody tr th {\n",
       "        vertical-align: top;\n",
       "    }\n",
       "\n",
       "    .dataframe thead th {\n",
       "        text-align: right;\n",
       "    }\n",
       "</style>\n",
       "<table border=\"1\" class=\"dataframe\">\n",
       "  <thead>\n",
       "    <tr style=\"text-align: right;\">\n",
       "      <th></th>\n",
       "      <th>ride_distance</th>\n",
       "      <th>ooSuburbanDistance</th>\n",
       "      <th>ooCarSearchTime</th>\n",
       "      <th>ooIdleCost</th>\n",
       "      <th>hour</th>\n",
       "      <th>quarter_int</th>\n",
       "      <th>month_int</th>\n",
       "      <th>day_int</th>\n",
       "      <th>dayofweek_int</th>\n",
       "      <th>hour_int</th>\n",
       "      <th>...</th>\n",
       "      <th>day_7</th>\n",
       "      <th>day_8</th>\n",
       "      <th>day_9</th>\n",
       "      <th>dayofweek_0</th>\n",
       "      <th>dayofweek_1</th>\n",
       "      <th>dayofweek_2</th>\n",
       "      <th>dayofweek_3</th>\n",
       "      <th>dayofweek_4</th>\n",
       "      <th>dayofweek_5</th>\n",
       "      <th>dayofweek_6</th>\n",
       "    </tr>\n",
       "  </thead>\n",
       "  <tbody>\n",
       "    <tr>\n",
       "      <th>0</th>\n",
       "      <td>0.084190</td>\n",
       "      <td>0.0</td>\n",
       "      <td>0.579276</td>\n",
       "      <td>0.0</td>\n",
       "      <td>11</td>\n",
       "      <td>1.0</td>\n",
       "      <td>1.0</td>\n",
       "      <td>0.466667</td>\n",
       "      <td>1.000000</td>\n",
       "      <td>11</td>\n",
       "      <td>...</td>\n",
       "      <td>0</td>\n",
       "      <td>0</td>\n",
       "      <td>0</td>\n",
       "      <td>0</td>\n",
       "      <td>0</td>\n",
       "      <td>0</td>\n",
       "      <td>0</td>\n",
       "      <td>0</td>\n",
       "      <td>0</td>\n",
       "      <td>1</td>\n",
       "    </tr>\n",
       "    <tr>\n",
       "      <th>1</th>\n",
       "      <td>0.086909</td>\n",
       "      <td>0.0</td>\n",
       "      <td>0.579276</td>\n",
       "      <td>0.0</td>\n",
       "      <td>20</td>\n",
       "      <td>1.0</td>\n",
       "      <td>1.0</td>\n",
       "      <td>0.133333</td>\n",
       "      <td>0.500000</td>\n",
       "      <td>20</td>\n",
       "      <td>...</td>\n",
       "      <td>0</td>\n",
       "      <td>0</td>\n",
       "      <td>0</td>\n",
       "      <td>0</td>\n",
       "      <td>0</td>\n",
       "      <td>0</td>\n",
       "      <td>1</td>\n",
       "      <td>0</td>\n",
       "      <td>0</td>\n",
       "      <td>0</td>\n",
       "    </tr>\n",
       "    <tr>\n",
       "      <th>2</th>\n",
       "      <td>0.046045</td>\n",
       "      <td>0.0</td>\n",
       "      <td>0.579934</td>\n",
       "      <td>0.0</td>\n",
       "      <td>17</td>\n",
       "      <td>1.0</td>\n",
       "      <td>1.0</td>\n",
       "      <td>0.866667</td>\n",
       "      <td>0.666667</td>\n",
       "      <td>17</td>\n",
       "      <td>...</td>\n",
       "      <td>0</td>\n",
       "      <td>0</td>\n",
       "      <td>0</td>\n",
       "      <td>0</td>\n",
       "      <td>0</td>\n",
       "      <td>0</td>\n",
       "      <td>0</td>\n",
       "      <td>1</td>\n",
       "      <td>0</td>\n",
       "      <td>0</td>\n",
       "    </tr>\n",
       "    <tr>\n",
       "      <th>3</th>\n",
       "      <td>0.122504</td>\n",
       "      <td>0.0</td>\n",
       "      <td>0.578289</td>\n",
       "      <td>0.0</td>\n",
       "      <td>20</td>\n",
       "      <td>0.0</td>\n",
       "      <td>0.5</td>\n",
       "      <td>0.733333</td>\n",
       "      <td>0.833333</td>\n",
       "      <td>20</td>\n",
       "      <td>...</td>\n",
       "      <td>0</td>\n",
       "      <td>0</td>\n",
       "      <td>0</td>\n",
       "      <td>0</td>\n",
       "      <td>0</td>\n",
       "      <td>0</td>\n",
       "      <td>0</td>\n",
       "      <td>0</td>\n",
       "      <td>1</td>\n",
       "      <td>0</td>\n",
       "    </tr>\n",
       "    <tr>\n",
       "      <th>4</th>\n",
       "      <td>0.153513</td>\n",
       "      <td>0.0</td>\n",
       "      <td>0.584375</td>\n",
       "      <td>0.0</td>\n",
       "      <td>2</td>\n",
       "      <td>1.0</td>\n",
       "      <td>1.0</td>\n",
       "      <td>0.666667</td>\n",
       "      <td>0.833333</td>\n",
       "      <td>2</td>\n",
       "      <td>...</td>\n",
       "      <td>0</td>\n",
       "      <td>0</td>\n",
       "      <td>0</td>\n",
       "      <td>0</td>\n",
       "      <td>0</td>\n",
       "      <td>0</td>\n",
       "      <td>0</td>\n",
       "      <td>0</td>\n",
       "      <td>1</td>\n",
       "      <td>0</td>\n",
       "    </tr>\n",
       "  </tbody>\n",
       "</table>\n",
       "<p>5 rows × 54 columns</p>\n",
       "</div>"
      ],
      "text/plain": [
       "   ride_distance  ooSuburbanDistance  ooCarSearchTime  ooIdleCost hour  \\\n",
       "0       0.084190                 0.0         0.579276         0.0   11   \n",
       "1       0.086909                 0.0         0.579276         0.0   20   \n",
       "2       0.046045                 0.0         0.579934         0.0   17   \n",
       "3       0.122504                 0.0         0.578289         0.0   20   \n",
       "4       0.153513                 0.0         0.584375         0.0    2   \n",
       "\n",
       "   quarter_int  month_int   day_int  dayofweek_int  hour_int     ...       \\\n",
       "0          1.0        1.0  0.466667       1.000000        11     ...        \n",
       "1          1.0        1.0  0.133333       0.500000        20     ...        \n",
       "2          1.0        1.0  0.866667       0.666667        17     ...        \n",
       "3          0.0        0.5  0.733333       0.833333        20     ...        \n",
       "4          1.0        1.0  0.666667       0.833333         2     ...        \n",
       "\n",
       "   day_7  day_8  day_9  dayofweek_0  dayofweek_1  dayofweek_2  dayofweek_3  \\\n",
       "0      0      0      0            0            0            0            0   \n",
       "1      0      0      0            0            0            0            1   \n",
       "2      0      0      0            0            0            0            0   \n",
       "3      0      0      0            0            0            0            0   \n",
       "4      0      0      0            0            0            0            0   \n",
       "\n",
       "   dayofweek_4  dayofweek_5  dayofweek_6  \n",
       "0            0            0            1  \n",
       "1            0            0            0  \n",
       "2            1            0            0  \n",
       "3            0            1            0  \n",
       "4            0            1            0  \n",
       "\n",
       "[5 rows x 54 columns]"
      ]
     },
     "execution_count": 50,
     "metadata": {},
     "output_type": "execute_result"
    }
   ],
   "source": [
    "dfX.head()"
   ]
  },
  {
   "cell_type": "code",
   "execution_count": 51,
   "metadata": {},
   "outputs": [
    {
     "data": {
      "text/plain": [
       "0     89.0\n",
       "1     93.0\n",
       "2    116.0\n",
       "3    113.0\n",
       "4    135.0\n",
       "Name: ooCost, dtype: float64"
      ]
     },
     "execution_count": 51,
     "metadata": {},
     "output_type": "execute_result"
    }
   ],
   "source": [
    "dfY.head()"
   ]
  },
  {
   "cell_type": "code",
   "execution_count": 52,
   "metadata": {},
   "outputs": [],
   "source": [
    "# get features names\n",
    "fNames = dfX.columns"
   ]
  },
  {
   "cell_type": "code",
   "execution_count": 53,
   "metadata": {},
   "outputs": [],
   "source": [
    "# Get values\n",
    "# features\n",
    "X = dfX[fNames].values\n",
    "# targets\n",
    "y = dfY.values"
   ]
  },
  {
   "cell_type": "code",
   "execution_count": 54,
   "metadata": {},
   "outputs": [
    {
     "data": {
      "text/plain": [
       "((252589, 54), (252589,))"
      ]
     },
     "execution_count": 54,
     "metadata": {},
     "output_type": "execute_result"
    }
   ],
   "source": [
    "X.shape, y.shape"
   ]
  },
  {
   "cell_type": "code",
   "execution_count": 55,
   "metadata": {},
   "outputs": [],
   "source": [
    "# Split our data into random train and test subsets with specific proportion\n",
    "X_train, X_test, y_train, y_test = train_test_split(X, y, test_size=0.25, random_state=1)"
   ]
  },
  {
   "cell_type": "code",
   "execution_count": 56,
   "metadata": {},
   "outputs": [
    {
     "data": {
      "text/plain": [
       "((189441, 54), (189441,))"
      ]
     },
     "execution_count": 56,
     "metadata": {},
     "output_type": "execute_result"
    }
   ],
   "source": [
    "X_train.shape, y_train.shape"
   ]
  },
  {
   "cell_type": "markdown",
   "metadata": {},
   "source": [
    "### simple linear regression"
   ]
  },
  {
   "cell_type": "code",
   "execution_count": 57,
   "metadata": {},
   "outputs": [],
   "source": [
    "# Create linear regression object\n",
    "regr = linear_model.LinearRegression()"
   ]
  },
  {
   "cell_type": "code",
   "execution_count": 58,
   "metadata": {},
   "outputs": [
    {
     "data": {
      "text/plain": [
       "LinearRegression(copy_X=True, fit_intercept=True, n_jobs=1, normalize=False)"
      ]
     },
     "execution_count": 58,
     "metadata": {},
     "output_type": "execute_result"
    }
   ],
   "source": [
    "# Train the model using the training sets\n",
    "regr.fit(X_train, y_train)"
   ]
  },
  {
   "cell_type": "code",
   "execution_count": 59,
   "metadata": {},
   "outputs": [],
   "source": [
    "# Make predictions using the testing set\n",
    "y_pred = regr.predict(X_test)"
   ]
  },
  {
   "cell_type": "code",
   "execution_count": 60,
   "metadata": {},
   "outputs": [
    {
     "name": "stdout",
     "output_type": "stream",
     "text": [
      "Mean squared error: 362.92\n"
     ]
    }
   ],
   "source": [
    "# The mean squared error\n",
    "print(\"Mean squared error: %.2f\"\n",
    "      % mean_squared_error(y_test, y_pred))"
   ]
  },
  {
   "cell_type": "code",
   "execution_count": 61,
   "metadata": {},
   "outputs": [],
   "source": [
    "def mean_absolute_percentage_error(y_true, y_pred): \n",
    "    return np.mean(np.abs((y_true - y_pred) / y_true)) * 100"
   ]
  },
  {
   "cell_type": "code",
   "execution_count": 62,
   "metadata": {},
   "outputs": [
    {
     "data": {
      "text/plain": [
       "10.961250055847781"
      ]
     },
     "execution_count": 62,
     "metadata": {},
     "output_type": "execute_result"
    }
   ],
   "source": [
    "mean_absolute_percentage_error(y_test, y_pred)"
   ]
  },
  {
   "cell_type": "markdown",
   "metadata": {},
   "source": [
    "### RandomForestRegressor"
   ]
  },
  {
   "cell_type": "code",
   "execution_count": 63,
   "metadata": {},
   "outputs": [
    {
     "data": {
      "text/plain": [
       "RandomForestRegressor(bootstrap=True, criterion='mse', max_depth=None,\n",
       "           max_features='auto', max_leaf_nodes=None,\n",
       "           min_impurity_decrease=0.0, min_impurity_split=None,\n",
       "           min_samples_leaf=1, min_samples_split=2,\n",
       "           min_weight_fraction_leaf=0.0, n_estimators=100, n_jobs=1,\n",
       "           oob_score=False, random_state=1, verbose=0, warm_start=False)"
      ]
     },
     "execution_count": 63,
     "metadata": {},
     "output_type": "execute_result"
    }
   ],
   "source": [
    "rf = RandomForestRegressor(n_estimators=100, random_state=1)\n",
    "rf.fit(X_train, y_train)"
   ]
  },
  {
   "cell_type": "code",
   "execution_count": 64,
   "metadata": {},
   "outputs": [],
   "source": [
    "# Make predictions using the testing set\n",
    "y_pred = rf.predict(X_test)"
   ]
  },
  {
   "cell_type": "code",
   "execution_count": 65,
   "metadata": {},
   "outputs": [
    {
     "name": "stdout",
     "output_type": "stream",
     "text": [
      "Mean squared error: 359.24\n"
     ]
    }
   ],
   "source": [
    "# The mean squared error\n",
    "print(\"Mean squared error: %.2f\"\n",
    "      % mean_squared_error(y_test, y_pred))"
   ]
  },
  {
   "cell_type": "code",
   "execution_count": 66,
   "metadata": {},
   "outputs": [
    {
     "data": {
      "text/plain": [
       "11.253367389228067"
      ]
     },
     "execution_count": 66,
     "metadata": {},
     "output_type": "execute_result"
    }
   ],
   "source": [
    "mean_absolute_percentage_error(y_test, y_pred)"
   ]
  },
  {
   "cell_type": "markdown",
   "metadata": {},
   "source": [
    "### xgboost"
   ]
  },
  {
   "cell_type": "code",
   "execution_count": 67,
   "metadata": {},
   "outputs": [],
   "source": [
    "xgb_model = xgb.XGBRegressor(random_state=1)"
   ]
  },
  {
   "cell_type": "code",
   "execution_count": 68,
   "metadata": {},
   "outputs": [
    {
     "data": {
      "text/plain": [
       "XGBRegressor(base_score=0.5, booster='gbtree', colsample_bylevel=1,\n",
       "       colsample_bytree=1, gamma=0, learning_rate=0.1, max_delta_step=0,\n",
       "       max_depth=3, min_child_weight=1, missing=None, n_estimators=100,\n",
       "       n_jobs=1, nthread=None, objective='reg:linear', random_state=1,\n",
       "       reg_alpha=0, reg_lambda=1, scale_pos_weight=1, seed=None,\n",
       "       silent=True, subsample=1)"
      ]
     },
     "execution_count": 68,
     "metadata": {},
     "output_type": "execute_result"
    }
   ],
   "source": [
    "xgb_model.fit(X_train, y_train)"
   ]
  },
  {
   "cell_type": "code",
   "execution_count": 69,
   "metadata": {},
   "outputs": [],
   "source": [
    "y_pred = xgb_model.predict(X_test)"
   ]
  },
  {
   "cell_type": "code",
   "execution_count": 70,
   "metadata": {},
   "outputs": [
    {
     "name": "stdout",
     "output_type": "stream",
     "text": [
      "Mean squared error: 331.44\n"
     ]
    }
   ],
   "source": [
    "# The mean squared error\n",
    "print(\"Mean squared error: %.2f\"\n",
    "      % mean_squared_error(y_test, y_pred))"
   ]
  },
  {
   "cell_type": "code",
   "execution_count": 71,
   "metadata": {},
   "outputs": [
    {
     "data": {
      "text/plain": [
       "10.789931774325886"
      ]
     },
     "execution_count": 71,
     "metadata": {},
     "output_type": "execute_result"
    }
   ],
   "source": [
    "mean_absolute_percentage_error(y_test, y_pred)"
   ]
  },
  {
   "cell_type": "markdown",
   "metadata": {},
   "source": [
    "### LightGBM"
   ]
  },
  {
   "cell_type": "code",
   "execution_count": 72,
   "metadata": {},
   "outputs": [],
   "source": [
    "lgb_model = lgb.LGBMRegressor(objective='mape',n_estimators=400, learning_rate=0.2, num_leaves=75, random_state=1)"
   ]
  },
  {
   "cell_type": "code",
   "execution_count": 73,
   "metadata": {},
   "outputs": [
    {
     "data": {
      "text/plain": [
       "LGBMRegressor(boosting_type='gbdt', class_weight=None, colsample_bytree=1.0,\n",
       "       learning_rate=0.2, max_depth=-1, min_child_samples=20,\n",
       "       min_child_weight=0.001, min_split_gain=0.0, n_estimators=400,\n",
       "       n_jobs=-1, num_leaves=75, objective='mape', random_state=1,\n",
       "       reg_alpha=0.0, reg_lambda=0.0, silent=True, subsample=1.0,\n",
       "       subsample_for_bin=200000, subsample_freq=1)"
      ]
     },
     "execution_count": 73,
     "metadata": {},
     "output_type": "execute_result"
    }
   ],
   "source": [
    "lgb_model.fit(X_train, y_train)"
   ]
  },
  {
   "cell_type": "code",
   "execution_count": 74,
   "metadata": {},
   "outputs": [],
   "source": [
    "y_pred = lgb_model.predict(X_test)"
   ]
  },
  {
   "cell_type": "code",
   "execution_count": 75,
   "metadata": {},
   "outputs": [
    {
     "name": "stdout",
     "output_type": "stream",
     "text": [
      "Mean squared error: 405.87\n"
     ]
    }
   ],
   "source": [
    "# The mean squared error\n",
    "print(\"Mean squared error: %.2f\"\n",
    "      % mean_squared_error(y_test, y_pred))"
   ]
  },
  {
   "cell_type": "code",
   "execution_count": 76,
   "metadata": {},
   "outputs": [
    {
     "data": {
      "text/plain": [
       "8.547617329890917"
      ]
     },
     "execution_count": 76,
     "metadata": {},
     "output_type": "execute_result"
    }
   ],
   "source": [
    "mean_absolute_percentage_error(y_test, y_pred)"
   ]
  },
  {
   "cell_type": "code",
   "execution_count": 77,
   "metadata": {},
   "outputs": [],
   "source": [
    "feature_importances = lgb_model.feature_importances_"
   ]
  },
  {
   "cell_type": "code",
   "execution_count": 78,
   "metadata": {},
   "outputs": [
    {
     "data": {
      "image/png": "[encoded data removed]",
      "text/plain": [
       "<Figure size 432x288 with 1 Axes>"
      ]
     },
     "metadata": {},
     "output_type": "display_data"
    }
   ],
   "source": [
    "# Sort feature importances in descending order\n",
    "indices = np.argsort(feature_importances)[::-1]\n",
    "\n",
    "\n",
    "# Create plot\n",
    "plt.figure()\n",
    "plt.title(\"Feature Importance\")\n",
    "\n",
    "# Add bars\n",
    "plt.bar(range(len(fNames)), feature_importances[indices], color = 'dimgray')\n",
    "\n",
    "# Add feature names as x-axis labels\n",
    "plt.xticks(range(len(fNames)), fNames[indices], rotation=90)\n",
    "    \n",
    "for spine in plt.gca().spines.values():\n",
    "    spine.set_visible(False)\n",
    "    \n",
    "plt.show()"
   ]
  },
  {
   "cell_type": "code",
   "execution_count": 79,
   "metadata": {},
   "outputs": [],
   "source": [
    "feats = {} # a dict to hold feature_name: feature_importance\n",
    "for feature, importance in zip(fNames, feature_importances):\n",
    "    feats[feature] = importance #add the name/value pair \n",
    "\n",
    "# create DataFrame\n",
    "importances = pd.DataFrame.from_dict(feats, orient='index').rename(columns={0: 'feature importances'})"
   ]
  },
  {
   "cell_type": "code",
   "execution_count": 80,
   "metadata": {},
   "outputs": [
    {
     "data": {
      "image/png": "[encoded data removed]",
      "text/plain": [
       "<Figure size 432x288 with 1 Axes>"
      ]
     },
     "metadata": {},
     "output_type": "display_data"
    }
   ],
   "source": [
    "ax = importances.sort_values(by='feature importances').tail(20).plot(kind='barh', color = 'dimgray')\n",
    "\n",
    "for p in ax.patches:\n",
    "    ax.annotate(\n",
    "        str(int(p.get_width())),\n",
    "        (p.get_x() + p.get_width(), p.get_y()),\n",
    "        xytext=(5,0),\n",
    "        textcoords='offset points',\n",
    "        horizontalalignment='left',\n",
    "        fontsize=7.5\n",
    ")\n",
    "    \n",
    "for spine in plt.gca().spines.values():\n",
    "    spine.set_visible(False)\n",
    "    \n",
    "plt.title('Feature importances')\n",
    "plt.xlabel('importances')\n",
    "plt.ylabel('Features')\n",
    "plt.legend(loc=\"center right\")\n",
    "plt.show()"
   ]
  },
  {
   "cell_type": "markdown",
   "metadata": {},
   "source": [
    "### ExtraTreesRegressor"
   ]
  },
  {
   "cell_type": "code",
   "execution_count": 81,
   "metadata": {},
   "outputs": [],
   "source": [
    "etr = ExtraTreesRegressor(random_state=1)"
   ]
  },
  {
   "cell_type": "code",
   "execution_count": 82,
   "metadata": {},
   "outputs": [
    {
     "data": {
      "text/plain": [
       "ExtraTreesRegressor(bootstrap=False, criterion='mse', max_depth=None,\n",
       "          max_features='auto', max_leaf_nodes=None,\n",
       "          min_impurity_decrease=0.0, min_impurity_split=None,\n",
       "          min_samples_leaf=1, min_samples_split=2,\n",
       "          min_weight_fraction_leaf=0.0, n_estimators=10, n_jobs=1,\n",
       "          oob_score=False, random_state=1, verbose=0, warm_start=False)"
      ]
     },
     "execution_count": 82,
     "metadata": {},
     "output_type": "execute_result"
    }
   ],
   "source": [
    "etr.fit(X_train, y_train)"
   ]
  },
  {
   "cell_type": "code",
   "execution_count": 83,
   "metadata": {},
   "outputs": [],
   "source": [
    "y_pred = etr.predict(X_test)"
   ]
  },
  {
   "cell_type": "code",
   "execution_count": 84,
   "metadata": {},
   "outputs": [
    {
     "name": "stdout",
     "output_type": "stream",
     "text": [
      "Mean squared error: 423.55\n"
     ]
    }
   ],
   "source": [
    "# The mean squared error\n",
    "print(\"Mean squared error: %.2f\"\n",
    "      % mean_squared_error(y_test, y_pred))"
   ]
  },
  {
   "cell_type": "code",
   "execution_count": 85,
   "metadata": {},
   "outputs": [
    {
     "data": {
      "text/plain": [
       "11.864174312311789"
      ]
     },
     "execution_count": 85,
     "metadata": {},
     "output_type": "execute_result"
    }
   ],
   "source": [
    "mean_absolute_percentage_error(y_test, y_pred)"
   ]
  }
 ],
 "metadata": {
  "kernelspec": {
   "display_name": "Python 3",
   "language": "python",
   "name": "python3"
  },
  "language_info": {
   "codemirror_mode": {
    "name": "ipython",
    "version": 3
   },
   "file_extension": ".py",
   "mimetype": "text/x-python",
   "name": "python",
   "nbconvert_exporter": "python",
   "pygments_lexer": "ipython3",
   "version": "3.5.2"
  }
 },
 "nbformat": 4,
 "nbformat_minor": 2
}
