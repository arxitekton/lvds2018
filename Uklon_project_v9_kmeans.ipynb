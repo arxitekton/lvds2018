{
 "cells": [
  {
   "cell_type": "code",
   "execution_count": 1,
   "metadata": {},
   "outputs": [],
   "source": [
    "import pandas as pd\n",
    "import numpy as np\n",
    "from sklearn.preprocessing import MinMaxScaler\n",
    "from sklearn.model_selection import train_test_split\n",
    "from sklearn import linear_model\n",
    "from sklearn.metrics import mean_squared_error, r2_score\n",
    "from sklearn.model_selection import GridSearchCV"
   ]
  },
  {
   "cell_type": "code",
   "execution_count": 2,
   "metadata": {},
   "outputs": [],
   "source": [
    "import matplotlib.pyplot as plt\n",
    "%matplotlib inline"
   ]
  },
  {
   "cell_type": "code",
   "execution_count": 3,
   "metadata": {},
   "outputs": [],
   "source": [
    "import lightgbm as lgb\n",
    "import xgboost as xgb"
   ]
  },
  {
   "cell_type": "code",
   "execution_count": 4,
   "metadata": {},
   "outputs": [],
   "source": [
    "from sklearn.ensemble import RandomForestRegressor\n",
    "from sklearn.ensemble import ExtraTreesRegressor\n",
    "from sklearn.pipeline import make_pipeline, make_union\n",
    "from sklearn.cluster import DBSCAN"
   ]
  },
  {
   "cell_type": "code",
   "execution_count": 5,
   "metadata": {},
   "outputs": [],
   "source": [
    "from tpot.builtins import StackingEstimator"
   ]
  },
  {
   "cell_type": "code",
   "execution_count": 6,
   "metadata": {},
   "outputs": [],
   "source": [
    "from sklearn.cluster import KMeans"
   ]
  },
  {
   "cell_type": "code",
   "execution_count": 7,
   "metadata": {},
   "outputs": [],
   "source": [
    "filename = \"uklon_sample_3_months_dropnan_driver_id.csv\""
   ]
  },
  {
   "cell_type": "code",
   "execution_count": 8,
   "metadata": {},
   "outputs": [],
   "source": [
    "parse_dates = ['created_at']"
   ]
  },
  {
   "cell_type": "code",
   "execution_count": 9,
   "metadata": {},
   "outputs": [
    {
     "name": "stderr",
     "output_type": "stream",
     "text": [
      "/home/temenid/.local/lib/python3.5/site-packages/IPython/core/interactiveshell.py:2785: DtypeWarning: Columns (19) have mixed types. Specify dtype option on import or set low_memory=False.\n",
      "  interactivity=interactivity, compiler=compiler, result=result)\n"
     ]
    }
   ],
   "source": [
    "df = pd.read_csv(filename, delimiter=\",\", parse_dates=parse_dates)"
   ]
  },
  {
   "cell_type": "code",
   "execution_count": 10,
   "metadata": {},
   "outputs": [
    {
     "data": {
      "text/html": [
       "<div>\n",
       "<style scoped>\n",
       "    .dataframe tbody tr th:only-of-type {\n",
       "        vertical-align: middle;\n",
       "    }\n",
       "\n",
       "    .dataframe tbody tr th {\n",
       "        vertical-align: top;\n",
       "    }\n",
       "\n",
       "    .dataframe thead th {\n",
       "        text-align: right;\n",
       "    }\n",
       "</style>\n",
       "<table border=\"1\" class=\"dataframe\">\n",
       "  <thead>\n",
       "    <tr style=\"text-align: right;\">\n",
       "      <th></th>\n",
       "      <th>order_id</th>\n",
       "      <th>ride_id</th>\n",
       "      <th>created_at</th>\n",
       "      <th>pickup_lat</th>\n",
       "      <th>pickup_lon</th>\n",
       "      <th>dropoff_lat</th>\n",
       "      <th>dropoff_lon</th>\n",
       "      <th>user_id</th>\n",
       "      <th>driver_id</th>\n",
       "      <th>ride_distance</th>\n",
       "      <th>...</th>\n",
       "      <th>ooExtraCost</th>\n",
       "      <th>ooInitialCost</th>\n",
       "      <th>ooIdleCost</th>\n",
       "      <th>oapAzureMlCost</th>\n",
       "      <th>oapAzureMlCostBid</th>\n",
       "      <th>oapCostProvider</th>\n",
       "      <th>ooSurgeMultiplier</th>\n",
       "      <th>driver_lat</th>\n",
       "      <th>driver_lon</th>\n",
       "      <th>dtTaxiDriver_tdID</th>\n",
       "    </tr>\n",
       "  </thead>\n",
       "  <tbody>\n",
       "    <tr>\n",
       "      <th>0</th>\n",
       "      <td>88314768</td>\n",
       "      <td>764A34A6-5C92-4A0C-90E8-82BDA5A5F9C1</td>\n",
       "      <td>2017-10-31 23:59:59.143</td>\n",
       "      <td>50.448906</td>\n",
       "      <td>30.386448</td>\n",
       "      <td>50.410267</td>\n",
       "      <td>30.412216</td>\n",
       "      <td>420361.0</td>\n",
       "      <td>568114.0</td>\n",
       "      <td>9.10</td>\n",
       "      <td>...</td>\n",
       "      <td>1.0</td>\n",
       "      <td>115.0</td>\n",
       "      <td>0.0</td>\n",
       "      <td>114.0</td>\n",
       "      <td>1.0</td>\n",
       "      <td>AzureML</td>\n",
       "      <td>1.35</td>\n",
       "      <td>50.437012</td>\n",
       "      <td>30.383680</td>\n",
       "      <td>568114.0</td>\n",
       "    </tr>\n",
       "    <tr>\n",
       "      <th>1</th>\n",
       "      <td>88314766</td>\n",
       "      <td>299E8328-8BE6-4097-AF81-4834478B4D51</td>\n",
       "      <td>2017-10-31 23:59:58.577</td>\n",
       "      <td>50.446000</td>\n",
       "      <td>30.576200</td>\n",
       "      <td>50.414604</td>\n",
       "      <td>30.384350</td>\n",
       "      <td>722883.0</td>\n",
       "      <td>553135.0</td>\n",
       "      <td>19.74</td>\n",
       "      <td>...</td>\n",
       "      <td>0.0</td>\n",
       "      <td>146.0</td>\n",
       "      <td>0.0</td>\n",
       "      <td>146.0</td>\n",
       "      <td>0.0</td>\n",
       "      <td>AzureML</td>\n",
       "      <td>1.00</td>\n",
       "      <td>50.449512</td>\n",
       "      <td>30.595537</td>\n",
       "      <td>553135.0</td>\n",
       "    </tr>\n",
       "    <tr>\n",
       "      <th>2</th>\n",
       "      <td>88314763</td>\n",
       "      <td>4EDC7FB9-5E34-4132-A2B3-B926F81DB439</td>\n",
       "      <td>2017-10-31 23:59:55.050</td>\n",
       "      <td>50.438610</td>\n",
       "      <td>30.459536</td>\n",
       "      <td>50.439339</td>\n",
       "      <td>30.444427</td>\n",
       "      <td>693323.0</td>\n",
       "      <td>568920.0</td>\n",
       "      <td>11.08</td>\n",
       "      <td>...</td>\n",
       "      <td>-7.0</td>\n",
       "      <td>100.0</td>\n",
       "      <td>0.0</td>\n",
       "      <td>107.0</td>\n",
       "      <td>1.0</td>\n",
       "      <td>AzureML</td>\n",
       "      <td>1.09</td>\n",
       "      <td>50.424972</td>\n",
       "      <td>30.458965</td>\n",
       "      <td>568920.0</td>\n",
       "    </tr>\n",
       "    <tr>\n",
       "      <th>3</th>\n",
       "      <td>88314762</td>\n",
       "      <td>D0EE9C9A-CFDD-44F8-906D-7C3A7ED65A1C</td>\n",
       "      <td>2017-10-31 23:59:54.420</td>\n",
       "      <td>50.449707</td>\n",
       "      <td>30.515345</td>\n",
       "      <td>50.459896</td>\n",
       "      <td>30.402002</td>\n",
       "      <td>17563.0</td>\n",
       "      <td>527239.0</td>\n",
       "      <td>9.24</td>\n",
       "      <td>...</td>\n",
       "      <td>0.0</td>\n",
       "      <td>88.0</td>\n",
       "      <td>0.0</td>\n",
       "      <td>88.0</td>\n",
       "      <td>0.0</td>\n",
       "      <td>NaN</td>\n",
       "      <td>1.00</td>\n",
       "      <td>50.455327</td>\n",
       "      <td>30.515555</td>\n",
       "      <td>527239.0</td>\n",
       "    </tr>\n",
       "    <tr>\n",
       "      <th>4</th>\n",
       "      <td>88314759</td>\n",
       "      <td>18B41EC0-B379-4621-BF7A-DD881D16E038</td>\n",
       "      <td>2017-10-31 23:59:50.053</td>\n",
       "      <td>50.397000</td>\n",
       "      <td>30.632500</td>\n",
       "      <td>50.416607</td>\n",
       "      <td>30.633417</td>\n",
       "      <td>754011.0</td>\n",
       "      <td>531709.0</td>\n",
       "      <td>3.73</td>\n",
       "      <td>...</td>\n",
       "      <td>0.0</td>\n",
       "      <td>55.0</td>\n",
       "      <td>0.0</td>\n",
       "      <td>NaN</td>\n",
       "      <td>NaN</td>\n",
       "      <td>NaN</td>\n",
       "      <td>1.01</td>\n",
       "      <td>NaN</td>\n",
       "      <td>NaN</td>\n",
       "      <td>NaN</td>\n",
       "    </tr>\n",
       "  </tbody>\n",
       "</table>\n",
       "<p>5 rows × 24 columns</p>\n",
       "</div>"
      ],
      "text/plain": [
       "   order_id                               ride_id              created_at  \\\n",
       "0  88314768  764A34A6-5C92-4A0C-90E8-82BDA5A5F9C1 2017-10-31 23:59:59.143   \n",
       "1  88314766  299E8328-8BE6-4097-AF81-4834478B4D51 2017-10-31 23:59:58.577   \n",
       "2  88314763  4EDC7FB9-5E34-4132-A2B3-B926F81DB439 2017-10-31 23:59:55.050   \n",
       "3  88314762  D0EE9C9A-CFDD-44F8-906D-7C3A7ED65A1C 2017-10-31 23:59:54.420   \n",
       "4  88314759  18B41EC0-B379-4621-BF7A-DD881D16E038 2017-10-31 23:59:50.053   \n",
       "\n",
       "   pickup_lat  pickup_lon  dropoff_lat  dropoff_lon   user_id  driver_id  \\\n",
       "0   50.448906   30.386448    50.410267    30.412216  420361.0   568114.0   \n",
       "1   50.446000   30.576200    50.414604    30.384350  722883.0   553135.0   \n",
       "2   50.438610   30.459536    50.439339    30.444427  693323.0   568920.0   \n",
       "3   50.449707   30.515345    50.459896    30.402002   17563.0   527239.0   \n",
       "4   50.397000   30.632500    50.416607    30.633417  754011.0   531709.0   \n",
       "\n",
       "   ride_distance        ...         ooExtraCost  ooInitialCost  ooIdleCost  \\\n",
       "0           9.10        ...                 1.0          115.0         0.0   \n",
       "1          19.74        ...                 0.0          146.0         0.0   \n",
       "2          11.08        ...                -7.0          100.0         0.0   \n",
       "3           9.24        ...                 0.0           88.0         0.0   \n",
       "4           3.73        ...                 0.0           55.0         0.0   \n",
       "\n",
       "   oapAzureMlCost  oapAzureMlCostBid  oapCostProvider  ooSurgeMultiplier  \\\n",
       "0           114.0                1.0          AzureML               1.35   \n",
       "1           146.0                0.0          AzureML               1.00   \n",
       "2           107.0                1.0          AzureML               1.09   \n",
       "3            88.0                0.0              NaN               1.00   \n",
       "4             NaN                NaN              NaN               1.01   \n",
       "\n",
       "   driver_lat  driver_lon dtTaxiDriver_tdID  \n",
       "0   50.437012   30.383680          568114.0  \n",
       "1   50.449512   30.595537          553135.0  \n",
       "2   50.424972   30.458965          568920.0  \n",
       "3   50.455327   30.515555          527239.0  \n",
       "4         NaN         NaN               NaN  \n",
       "\n",
       "[5 rows x 24 columns]"
      ]
     },
     "execution_count": 10,
     "metadata": {},
     "output_type": "execute_result"
    }
   ],
   "source": [
    "df.head()"
   ]
  },
  {
   "cell_type": "code",
   "execution_count": 11,
   "metadata": {},
   "outputs": [
    {
     "data": {
      "text/plain": [
       "Index(['order_id', 'ride_id', 'created_at', 'pickup_lat', 'pickup_lon',\n",
       "       'dropoff_lat', 'dropoff_lon', 'user_id', 'driver_id', 'ride_distance',\n",
       "       'ooCancelReason', 'ooSuburbanDistance', 'ooCarSearchTime', 'ooCost',\n",
       "       'ooExtraCost', 'ooInitialCost', 'ooIdleCost', 'oapAzureMlCost',\n",
       "       'oapAzureMlCostBid', 'oapCostProvider', 'ooSurgeMultiplier',\n",
       "       'driver_lat', 'driver_lon', 'dtTaxiDriver_tdID'],\n",
       "      dtype='object')"
      ]
     },
     "execution_count": 11,
     "metadata": {},
     "output_type": "execute_result"
    }
   ],
   "source": [
    "df.columns"
   ]
  },
  {
   "cell_type": "code",
   "execution_count": 12,
   "metadata": {},
   "outputs": [
    {
     "data": {
      "text/plain": [
       "order_id                    0\n",
       "ride_id                     0\n",
       "created_at                  0\n",
       "pickup_lat                565\n",
       "pickup_lon                565\n",
       "dropoff_lat               780\n",
       "dropoff_lon               780\n",
       "user_id                378190\n",
       "driver_id                   0\n",
       "ride_distance               0\n",
       "ooCancelReason              0\n",
       "ooSuburbanDistance          0\n",
       "ooCarSearchTime             0\n",
       "ooCost                      0\n",
       "ooExtraCost                 0\n",
       "ooInitialCost               0\n",
       "ooIdleCost                  0\n",
       "oapAzureMlCost        1521212\n",
       "oapAzureMlCostBid     1521212\n",
       "oapCostProvider       1350984\n",
       "ooSurgeMultiplier           0\n",
       "driver_lat             417486\n",
       "driver_lon             417486\n",
       "dtTaxiDriver_tdID      417486\n",
       "dtype: int64"
      ]
     },
     "execution_count": 12,
     "metadata": {},
     "output_type": "execute_result"
    }
   ],
   "source": [
    "df.isnull().sum()"
   ]
  },
  {
   "cell_type": "code",
   "execution_count": 13,
   "metadata": {},
   "outputs": [
    {
     "data": {
      "text/plain": [
       "(2815393, 24)"
      ]
     },
     "execution_count": 13,
     "metadata": {},
     "output_type": "execute_result"
    }
   ],
   "source": [
    "df.shape"
   ]
  },
  {
   "cell_type": "code",
   "execution_count": 14,
   "metadata": {},
   "outputs": [],
   "source": [
    "df = df.sample(n=900000)"
   ]
  },
  {
   "cell_type": "code",
   "execution_count": 15,
   "metadata": {},
   "outputs": [
    {
     "data": {
      "text/plain": [
       "(900000, 24)"
      ]
     },
     "execution_count": 15,
     "metadata": {},
     "output_type": "execute_result"
    }
   ],
   "source": [
    "df.shape"
   ]
  },
  {
   "cell_type": "code",
   "execution_count": 16,
   "metadata": {},
   "outputs": [],
   "source": [
    "# Remove rows with missing values in column 'driver_id'. The order was not accepted. there was no trip\n",
    "new_df = df.dropna(subset=['driver_id','pickup_lat','pickup_lon','dropoff_lat','dropoff_lon'],inplace=False)"
   ]
  },
  {
   "cell_type": "code",
   "execution_count": 17,
   "metadata": {},
   "outputs": [],
   "source": [
    "# leave only uncanceled ride\n",
    "new_df = new_df.loc[df['ooCancelReason'] == 0]"
   ]
  },
  {
   "cell_type": "code",
   "execution_count": 18,
   "metadata": {},
   "outputs": [
    {
     "data": {
      "text/plain": [
       "(757563, 24)"
      ]
     },
     "execution_count": 18,
     "metadata": {},
     "output_type": "execute_result"
    }
   ],
   "source": [
    "new_df.shape"
   ]
  },
  {
   "cell_type": "code",
   "execution_count": 19,
   "metadata": {},
   "outputs": [],
   "source": [
    "# initialy select the following columns\n",
    "data = new_df[['created_at','ride_distance', 'ooSuburbanDistance', 'ooCarSearchTime', 'ooCost','pickup_lat','pickup_lon','dropoff_lat','dropoff_lon']] # ,'ooIdleCost'"
   ]
  },
  {
   "cell_type": "code",
   "execution_count": null,
   "metadata": {},
   "outputs": [],
   "source": []
  },
  {
   "cell_type": "code",
   "execution_count": 20,
   "metadata": {},
   "outputs": [
    {
     "data": {
      "text/html": [
       "<div>\n",
       "<style scoped>\n",
       "    .dataframe tbody tr th:only-of-type {\n",
       "        vertical-align: middle;\n",
       "    }\n",
       "\n",
       "    .dataframe tbody tr th {\n",
       "        vertical-align: top;\n",
       "    }\n",
       "\n",
       "    .dataframe thead th {\n",
       "        text-align: right;\n",
       "    }\n",
       "</style>\n",
       "<table border=\"1\" class=\"dataframe\">\n",
       "  <thead>\n",
       "    <tr style=\"text-align: right;\">\n",
       "      <th></th>\n",
       "      <th>created_at</th>\n",
       "      <th>ride_distance</th>\n",
       "      <th>ooSuburbanDistance</th>\n",
       "      <th>ooCarSearchTime</th>\n",
       "      <th>ooCost</th>\n",
       "      <th>pickup_lat</th>\n",
       "      <th>pickup_lon</th>\n",
       "      <th>dropoff_lat</th>\n",
       "      <th>dropoff_lon</th>\n",
       "    </tr>\n",
       "  </thead>\n",
       "  <tbody>\n",
       "    <tr>\n",
       "      <th>110147</th>\n",
       "      <td>2017-10-28 17:35:46.527</td>\n",
       "      <td>4.73</td>\n",
       "      <td>0</td>\n",
       "      <td>12</td>\n",
       "      <td>63.0</td>\n",
       "      <td>50.421890</td>\n",
       "      <td>30.462011</td>\n",
       "      <td>50.453449</td>\n",
       "      <td>30.484613</td>\n",
       "    </tr>\n",
       "    <tr>\n",
       "      <th>2811929</th>\n",
       "      <td>2017-08-01 07:20:58.877</td>\n",
       "      <td>4.32</td>\n",
       "      <td>0</td>\n",
       "      <td>4</td>\n",
       "      <td>49.0</td>\n",
       "      <td>50.515366</td>\n",
       "      <td>30.493513</td>\n",
       "      <td>50.499004</td>\n",
       "      <td>30.519501</td>\n",
       "    </tr>\n",
       "    <tr>\n",
       "      <th>599758</th>\n",
       "      <td>2017-10-13 16:39:32.117</td>\n",
       "      <td>9.93</td>\n",
       "      <td>0</td>\n",
       "      <td>73</td>\n",
       "      <td>108.0</td>\n",
       "      <td>50.429676</td>\n",
       "      <td>30.461479</td>\n",
       "      <td>50.431610</td>\n",
       "      <td>30.357653</td>\n",
       "    </tr>\n",
       "    <tr>\n",
       "      <th>1712542</th>\n",
       "      <td>2017-09-08 11:07:38.283</td>\n",
       "      <td>3.94</td>\n",
       "      <td>0</td>\n",
       "      <td>2</td>\n",
       "      <td>65.0</td>\n",
       "      <td>50.438011</td>\n",
       "      <td>30.537504</td>\n",
       "      <td>50.455177</td>\n",
       "      <td>30.513376</td>\n",
       "    </tr>\n",
       "    <tr>\n",
       "      <th>1289047</th>\n",
       "      <td>2017-09-22 10:06:44.573</td>\n",
       "      <td>12.07</td>\n",
       "      <td>0</td>\n",
       "      <td>8</td>\n",
       "      <td>130.0</td>\n",
       "      <td>50.424110</td>\n",
       "      <td>30.391420</td>\n",
       "      <td>50.427300</td>\n",
       "      <td>30.520100</td>\n",
       "    </tr>\n",
       "  </tbody>\n",
       "</table>\n",
       "</div>"
      ],
      "text/plain": [
       "                     created_at  ride_distance  ooSuburbanDistance  \\\n",
       "110147  2017-10-28 17:35:46.527           4.73                   0   \n",
       "2811929 2017-08-01 07:20:58.877           4.32                   0   \n",
       "599758  2017-10-13 16:39:32.117           9.93                   0   \n",
       "1712542 2017-09-08 11:07:38.283           3.94                   0   \n",
       "1289047 2017-09-22 10:06:44.573          12.07                   0   \n",
       "\n",
       "         ooCarSearchTime  ooCost  pickup_lat  pickup_lon  dropoff_lat  \\\n",
       "110147                12    63.0   50.421890   30.462011    50.453449   \n",
       "2811929                4    49.0   50.515366   30.493513    50.499004   \n",
       "599758                73   108.0   50.429676   30.461479    50.431610   \n",
       "1712542                2    65.0   50.438011   30.537504    50.455177   \n",
       "1289047                8   130.0   50.424110   30.391420    50.427300   \n",
       "\n",
       "         dropoff_lon  \n",
       "110147     30.484613  \n",
       "2811929    30.519501  \n",
       "599758     30.357653  \n",
       "1712542    30.513376  \n",
       "1289047    30.520100  "
      ]
     },
     "execution_count": 20,
     "metadata": {},
     "output_type": "execute_result"
    }
   ],
   "source": [
    "data.head()"
   ]
  },
  {
   "cell_type": "code",
   "execution_count": 21,
   "metadata": {},
   "outputs": [
    {
     "data": {
      "text/plain": [
       "created_at            0\n",
       "ride_distance         0\n",
       "ooSuburbanDistance    0\n",
       "ooCarSearchTime       0\n",
       "ooCost                0\n",
       "pickup_lat            0\n",
       "pickup_lon            0\n",
       "dropoff_lat           0\n",
       "dropoff_lon           0\n",
       "dtype: int64"
      ]
     },
     "execution_count": 21,
     "metadata": {},
     "output_type": "execute_result"
    }
   ],
   "source": [
    "# count the NaN values in a columns\n",
    "data.isnull().sum()"
   ]
  },
  {
   "cell_type": "code",
   "execution_count": 22,
   "metadata": {},
   "outputs": [
    {
     "name": "stderr",
     "output_type": "stream",
     "text": [
      "/home/temenid/.local/lib/python3.5/site-packages/ipykernel_launcher.py:3: SettingWithCopyWarning: \n",
      "A value is trying to be set on a copy of a slice from a DataFrame.\n",
      "Try using .loc[row_indexer,col_indexer] = value instead\n",
      "\n",
      "See the caveats in the documentation: http://pandas.pydata.org/pandas-docs/stable/indexing.html#indexing-view-versus-copy\n",
      "  This is separate from the ipykernel package so we can avoid doing imports until\n",
      "/home/temenid/.local/lib/python3.5/site-packages/ipykernel_launcher.py:4: SettingWithCopyWarning: \n",
      "A value is trying to be set on a copy of a slice from a DataFrame.\n",
      "Try using .loc[row_indexer,col_indexer] = value instead\n",
      "\n",
      "See the caveats in the documentation: http://pandas.pydata.org/pandas-docs/stable/indexing.html#indexing-view-versus-copy\n",
      "  after removing the cwd from sys.path.\n",
      "/home/temenid/.local/lib/python3.5/site-packages/ipykernel_launcher.py:5: SettingWithCopyWarning: \n",
      "A value is trying to be set on a copy of a slice from a DataFrame.\n",
      "Try using .loc[row_indexer,col_indexer] = value instead\n",
      "\n",
      "See the caveats in the documentation: http://pandas.pydata.org/pandas-docs/stable/indexing.html#indexing-view-versus-copy\n",
      "  \"\"\"\n",
      "/home/temenid/.local/lib/python3.5/site-packages/ipykernel_launcher.py:6: SettingWithCopyWarning: \n",
      "A value is trying to be set on a copy of a slice from a DataFrame.\n",
      "Try using .loc[row_indexer,col_indexer] = value instead\n",
      "\n",
      "See the caveats in the documentation: http://pandas.pydata.org/pandas-docs/stable/indexing.html#indexing-view-versus-copy\n",
      "  \n",
      "/home/temenid/.local/lib/python3.5/site-packages/ipykernel_launcher.py:7: SettingWithCopyWarning: \n",
      "A value is trying to be set on a copy of a slice from a DataFrame.\n",
      "Try using .loc[row_indexer,col_indexer] = value instead\n",
      "\n",
      "See the caveats in the documentation: http://pandas.pydata.org/pandas-docs/stable/indexing.html#indexing-view-versus-copy\n",
      "  import sys\n",
      "/home/temenid/.local/lib/python3.5/site-packages/ipykernel_launcher.py:8: SettingWithCopyWarning: \n",
      "A value is trying to be set on a copy of a slice from a DataFrame.\n",
      "Try using .loc[row_indexer,col_indexer] = value instead\n",
      "\n",
      "See the caveats in the documentation: http://pandas.pydata.org/pandas-docs/stable/indexing.html#indexing-view-versus-copy\n",
      "  \n"
     ]
    }
   ],
   "source": [
    "# some simple feature engineering with date\n",
    "# as categorical\n",
    "data['quarter'] = data['created_at'].dt.quarter.astype(str)\n",
    "data['month'] = data['created_at'].dt.month.astype(str)\n",
    "data['day'] = data['created_at'].dt.day.astype(str)\n",
    "data['dayofweek'] = data['created_at'].dt.dayofweek.astype(str)\n",
    "data['hour'] = data['created_at'].dt.hour.astype(str)\n",
    "data['date'] = data['created_at'].dt.strftime('%Y-%m-%d')"
   ]
  },
  {
   "cell_type": "code",
   "execution_count": 23,
   "metadata": {},
   "outputs": [
    {
     "name": "stderr",
     "output_type": "stream",
     "text": [
      "/home/temenid/.local/lib/python3.5/site-packages/ipykernel_launcher.py:2: SettingWithCopyWarning: \n",
      "A value is trying to be set on a copy of a slice from a DataFrame.\n",
      "Try using .loc[row_indexer,col_indexer] = value instead\n",
      "\n",
      "See the caveats in the documentation: http://pandas.pydata.org/pandas-docs/stable/indexing.html#indexing-view-versus-copy\n",
      "  \n",
      "/home/temenid/.local/lib/python3.5/site-packages/ipykernel_launcher.py:3: SettingWithCopyWarning: \n",
      "A value is trying to be set on a copy of a slice from a DataFrame.\n",
      "Try using .loc[row_indexer,col_indexer] = value instead\n",
      "\n",
      "See the caveats in the documentation: http://pandas.pydata.org/pandas-docs/stable/indexing.html#indexing-view-versus-copy\n",
      "  This is separate from the ipykernel package so we can avoid doing imports until\n",
      "/home/temenid/.local/lib/python3.5/site-packages/ipykernel_launcher.py:4: SettingWithCopyWarning: \n",
      "A value is trying to be set on a copy of a slice from a DataFrame.\n",
      "Try using .loc[row_indexer,col_indexer] = value instead\n",
      "\n",
      "See the caveats in the documentation: http://pandas.pydata.org/pandas-docs/stable/indexing.html#indexing-view-versus-copy\n",
      "  after removing the cwd from sys.path.\n",
      "/home/temenid/.local/lib/python3.5/site-packages/ipykernel_launcher.py:5: SettingWithCopyWarning: \n",
      "A value is trying to be set on a copy of a slice from a DataFrame.\n",
      "Try using .loc[row_indexer,col_indexer] = value instead\n",
      "\n",
      "See the caveats in the documentation: http://pandas.pydata.org/pandas-docs/stable/indexing.html#indexing-view-versus-copy\n",
      "  \"\"\"\n",
      "/home/temenid/.local/lib/python3.5/site-packages/ipykernel_launcher.py:6: SettingWithCopyWarning: \n",
      "A value is trying to be set on a copy of a slice from a DataFrame.\n",
      "Try using .loc[row_indexer,col_indexer] = value instead\n",
      "\n",
      "See the caveats in the documentation: http://pandas.pydata.org/pandas-docs/stable/indexing.html#indexing-view-versus-copy\n",
      "  \n"
     ]
    }
   ],
   "source": [
    "# as categorical\n",
    "data['quarter_int'] = data['created_at'].dt.quarter.astype(int)\n",
    "data['month_int'] = data['created_at'].dt.month.astype(int)\n",
    "data['day_int'] = data['created_at'].dt.day.astype(int)\n",
    "data['dayofweek_int'] = data['created_at'].dt.dayofweek.astype(int)\n",
    "data['hour_int'] = data['created_at'].dt.hour.astype(int)"
   ]
  },
  {
   "cell_type": "code",
   "execution_count": 24,
   "metadata": {},
   "outputs": [],
   "source": [
    "dt = {'date': ['2017-08-24', '2017-10-14'], \n",
    "        'isHolidays': [1, 1]}\n",
    "holidays = pd.DataFrame(dt, columns = ['date', 'isHolidays'])"
   ]
  },
  {
   "cell_type": "code",
   "execution_count": 25,
   "metadata": {},
   "outputs": [],
   "source": [
    "data = pd.merge(data, holidays, on='date', how='left')"
   ]
  },
  {
   "cell_type": "code",
   "execution_count": 26,
   "metadata": {},
   "outputs": [],
   "source": [
    "data['isHolidays'].fillna(value=0, inplace=True)"
   ]
  },
  {
   "cell_type": "code",
   "execution_count": 27,
   "metadata": {},
   "outputs": [
    {
     "data": {
      "text/plain": [
       "(757563, 21)"
      ]
     },
     "execution_count": 27,
     "metadata": {},
     "output_type": "execute_result"
    }
   ],
   "source": [
    "data.shape"
   ]
  },
  {
   "cell_type": "markdown",
   "metadata": {},
   "source": [
    "### Clusterization"
   ]
  },
  {
   "cell_type": "code",
   "execution_count": 28,
   "metadata": {},
   "outputs": [],
   "source": [
    "pickup_coords = data.loc[:,['pickup_lat','pickup_lon']]\n",
    "dropoff_coords = data.loc[:,['dropoff_lat','dropoff_lon']]"
   ]
  },
  {
   "cell_type": "code",
   "execution_count": 29,
   "metadata": {},
   "outputs": [],
   "source": [
    "num_pickup_clusters = 7\n",
    "num_dropoff_clusters = 7"
   ]
  },
  {
   "cell_type": "code",
   "execution_count": 30,
   "metadata": {},
   "outputs": [],
   "source": [
    "pickup_kmeans = KMeans(n_clusters=num_pickup_clusters, random_state=1).fit(pickup_coords)"
   ]
  },
  {
   "cell_type": "code",
   "execution_count": 31,
   "metadata": {},
   "outputs": [],
   "source": [
    "dropoff_kmeans = KMeans(n_clusters=num_dropoff_clusters, random_state=1).fit(dropoff_coords)"
   ]
  },
  {
   "cell_type": "code",
   "execution_count": 32,
   "metadata": {},
   "outputs": [],
   "source": [
    "id_pickup_label=pickup_kmeans.labels_\n",
    "id_dropoff_label=dropoff_kmeans.labels_"
   ]
  },
  {
   "cell_type": "code",
   "execution_count": 33,
   "metadata": {},
   "outputs": [
    {
     "data": {
      "text/plain": [
       "((757563,), (757563,))"
      ]
     },
     "execution_count": 33,
     "metadata": {},
     "output_type": "execute_result"
    }
   ],
   "source": [
    "id_pickup_label.shape, id_dropoff_label.shape"
   ]
  },
  {
   "cell_type": "code",
   "execution_count": 34,
   "metadata": {},
   "outputs": [],
   "source": [
    "data['pickup_cluster'] = id_pickup_label.astype(str)\n",
    "data['dropoff_cluster'] = id_dropoff_label.astype(str)"
   ]
  },
  {
   "cell_type": "code",
   "execution_count": 35,
   "metadata": {},
   "outputs": [
    {
     "data": {
      "text/html": [
       "<div>\n",
       "<style scoped>\n",
       "    .dataframe tbody tr th:only-of-type {\n",
       "        vertical-align: middle;\n",
       "    }\n",
       "\n",
       "    .dataframe tbody tr th {\n",
       "        vertical-align: top;\n",
       "    }\n",
       "\n",
       "    .dataframe thead th {\n",
       "        text-align: right;\n",
       "    }\n",
       "</style>\n",
       "<table border=\"1\" class=\"dataframe\">\n",
       "  <thead>\n",
       "    <tr style=\"text-align: right;\">\n",
       "      <th></th>\n",
       "      <th>created_at</th>\n",
       "      <th>ride_distance</th>\n",
       "      <th>ooSuburbanDistance</th>\n",
       "      <th>ooCarSearchTime</th>\n",
       "      <th>ooCost</th>\n",
       "      <th>pickup_lat</th>\n",
       "      <th>pickup_lon</th>\n",
       "      <th>dropoff_lat</th>\n",
       "      <th>dropoff_lon</th>\n",
       "      <th>quarter</th>\n",
       "      <th>...</th>\n",
       "      <th>hour</th>\n",
       "      <th>date</th>\n",
       "      <th>quarter_int</th>\n",
       "      <th>month_int</th>\n",
       "      <th>day_int</th>\n",
       "      <th>dayofweek_int</th>\n",
       "      <th>hour_int</th>\n",
       "      <th>isHolidays</th>\n",
       "      <th>pickup_cluster</th>\n",
       "      <th>dropoff_cluster</th>\n",
       "    </tr>\n",
       "  </thead>\n",
       "  <tbody>\n",
       "    <tr>\n",
       "      <th>0</th>\n",
       "      <td>2017-10-28 17:35:46.527</td>\n",
       "      <td>4.73</td>\n",
       "      <td>0</td>\n",
       "      <td>12</td>\n",
       "      <td>63.0</td>\n",
       "      <td>50.421890</td>\n",
       "      <td>30.462011</td>\n",
       "      <td>50.453449</td>\n",
       "      <td>30.484613</td>\n",
       "      <td>4</td>\n",
       "      <td>...</td>\n",
       "      <td>17</td>\n",
       "      <td>2017-10-28</td>\n",
       "      <td>4</td>\n",
       "      <td>10</td>\n",
       "      <td>28</td>\n",
       "      <td>5</td>\n",
       "      <td>17</td>\n",
       "      <td>0.0</td>\n",
       "      <td>4</td>\n",
       "      <td>1</td>\n",
       "    </tr>\n",
       "    <tr>\n",
       "      <th>1</th>\n",
       "      <td>2017-08-01 07:20:58.877</td>\n",
       "      <td>4.32</td>\n",
       "      <td>0</td>\n",
       "      <td>4</td>\n",
       "      <td>49.0</td>\n",
       "      <td>50.515366</td>\n",
       "      <td>30.493513</td>\n",
       "      <td>50.499004</td>\n",
       "      <td>30.519501</td>\n",
       "      <td>3</td>\n",
       "      <td>...</td>\n",
       "      <td>7</td>\n",
       "      <td>2017-08-01</td>\n",
       "      <td>3</td>\n",
       "      <td>8</td>\n",
       "      <td>1</td>\n",
       "      <td>1</td>\n",
       "      <td>7</td>\n",
       "      <td>0.0</td>\n",
       "      <td>2</td>\n",
       "      <td>2</td>\n",
       "    </tr>\n",
       "    <tr>\n",
       "      <th>2</th>\n",
       "      <td>2017-10-13 16:39:32.117</td>\n",
       "      <td>9.93</td>\n",
       "      <td>0</td>\n",
       "      <td>73</td>\n",
       "      <td>108.0</td>\n",
       "      <td>50.429676</td>\n",
       "      <td>30.461479</td>\n",
       "      <td>50.431610</td>\n",
       "      <td>30.357653</td>\n",
       "      <td>4</td>\n",
       "      <td>...</td>\n",
       "      <td>16</td>\n",
       "      <td>2017-10-13</td>\n",
       "      <td>4</td>\n",
       "      <td>10</td>\n",
       "      <td>13</td>\n",
       "      <td>4</td>\n",
       "      <td>16</td>\n",
       "      <td>0.0</td>\n",
       "      <td>4</td>\n",
       "      <td>4</td>\n",
       "    </tr>\n",
       "    <tr>\n",
       "      <th>3</th>\n",
       "      <td>2017-09-08 11:07:38.283</td>\n",
       "      <td>3.94</td>\n",
       "      <td>0</td>\n",
       "      <td>2</td>\n",
       "      <td>65.0</td>\n",
       "      <td>50.438011</td>\n",
       "      <td>30.537504</td>\n",
       "      <td>50.455177</td>\n",
       "      <td>30.513376</td>\n",
       "      <td>3</td>\n",
       "      <td>...</td>\n",
       "      <td>11</td>\n",
       "      <td>2017-09-08</td>\n",
       "      <td>3</td>\n",
       "      <td>9</td>\n",
       "      <td>8</td>\n",
       "      <td>4</td>\n",
       "      <td>11</td>\n",
       "      <td>0.0</td>\n",
       "      <td>1</td>\n",
       "      <td>1</td>\n",
       "    </tr>\n",
       "    <tr>\n",
       "      <th>4</th>\n",
       "      <td>2017-09-22 10:06:44.573</td>\n",
       "      <td>12.07</td>\n",
       "      <td>0</td>\n",
       "      <td>8</td>\n",
       "      <td>130.0</td>\n",
       "      <td>50.424110</td>\n",
       "      <td>30.391420</td>\n",
       "      <td>50.427300</td>\n",
       "      <td>30.520100</td>\n",
       "      <td>3</td>\n",
       "      <td>...</td>\n",
       "      <td>10</td>\n",
       "      <td>2017-09-22</td>\n",
       "      <td>3</td>\n",
       "      <td>9</td>\n",
       "      <td>22</td>\n",
       "      <td>4</td>\n",
       "      <td>10</td>\n",
       "      <td>0.0</td>\n",
       "      <td>0</td>\n",
       "      <td>1</td>\n",
       "    </tr>\n",
       "  </tbody>\n",
       "</table>\n",
       "<p>5 rows × 23 columns</p>\n",
       "</div>"
      ],
      "text/plain": [
       "               created_at  ride_distance  ooSuburbanDistance  ooCarSearchTime  \\\n",
       "0 2017-10-28 17:35:46.527           4.73                   0               12   \n",
       "1 2017-08-01 07:20:58.877           4.32                   0                4   \n",
       "2 2017-10-13 16:39:32.117           9.93                   0               73   \n",
       "3 2017-09-08 11:07:38.283           3.94                   0                2   \n",
       "4 2017-09-22 10:06:44.573          12.07                   0                8   \n",
       "\n",
       "   ooCost  pickup_lat  pickup_lon  dropoff_lat  dropoff_lon quarter  \\\n",
       "0    63.0   50.421890   30.462011    50.453449    30.484613       4   \n",
       "1    49.0   50.515366   30.493513    50.499004    30.519501       3   \n",
       "2   108.0   50.429676   30.461479    50.431610    30.357653       4   \n",
       "3    65.0   50.438011   30.537504    50.455177    30.513376       3   \n",
       "4   130.0   50.424110   30.391420    50.427300    30.520100       3   \n",
       "\n",
       "        ...        hour        date quarter_int month_int day_int  \\\n",
       "0       ...          17  2017-10-28           4        10      28   \n",
       "1       ...           7  2017-08-01           3         8       1   \n",
       "2       ...          16  2017-10-13           4        10      13   \n",
       "3       ...          11  2017-09-08           3         9       8   \n",
       "4       ...          10  2017-09-22           3         9      22   \n",
       "\n",
       "   dayofweek_int  hour_int  isHolidays  pickup_cluster  dropoff_cluster  \n",
       "0              5        17         0.0               4                1  \n",
       "1              1         7         0.0               2                2  \n",
       "2              4        16         0.0               4                4  \n",
       "3              4        11         0.0               1                1  \n",
       "4              4        10         0.0               0                1  \n",
       "\n",
       "[5 rows x 23 columns]"
      ]
     },
     "execution_count": 35,
     "metadata": {},
     "output_type": "execute_result"
    }
   ],
   "source": [
    "data.head()"
   ]
  },
  {
   "cell_type": "code",
   "execution_count": 36,
   "metadata": {},
   "outputs": [
    {
     "data": {
      "text/html": [
       "<div>\n",
       "<style scoped>\n",
       "    .dataframe tbody tr th:only-of-type {\n",
       "        vertical-align: middle;\n",
       "    }\n",
       "\n",
       "    .dataframe tbody tr th {\n",
       "        vertical-align: top;\n",
       "    }\n",
       "\n",
       "    .dataframe thead th {\n",
       "        text-align: right;\n",
       "    }\n",
       "</style>\n",
       "<table border=\"1\" class=\"dataframe\">\n",
       "  <thead>\n",
       "    <tr style=\"text-align: right;\">\n",
       "      <th></th>\n",
       "      <th>created_at</th>\n",
       "      <th>ride_distance</th>\n",
       "      <th>ooSuburbanDistance</th>\n",
       "      <th>ooCarSearchTime</th>\n",
       "      <th>ooCost</th>\n",
       "      <th>pickup_lat</th>\n",
       "      <th>pickup_lon</th>\n",
       "      <th>dropoff_lat</th>\n",
       "      <th>dropoff_lon</th>\n",
       "      <th>quarter</th>\n",
       "      <th>...</th>\n",
       "      <th>hour</th>\n",
       "      <th>date</th>\n",
       "      <th>quarter_int</th>\n",
       "      <th>month_int</th>\n",
       "      <th>day_int</th>\n",
       "      <th>dayofweek_int</th>\n",
       "      <th>hour_int</th>\n",
       "      <th>isHolidays</th>\n",
       "      <th>pickup_cluster</th>\n",
       "      <th>dropoff_cluster</th>\n",
       "    </tr>\n",
       "  </thead>\n",
       "  <tbody>\n",
       "    <tr>\n",
       "      <th>757558</th>\n",
       "      <td>2017-10-21 02:45:54.357</td>\n",
       "      <td>7.69</td>\n",
       "      <td>0</td>\n",
       "      <td>8</td>\n",
       "      <td>133.0</td>\n",
       "      <td>50.395298</td>\n",
       "      <td>30.617357</td>\n",
       "      <td>50.411171</td>\n",
       "      <td>30.613655</td>\n",
       "      <td>4</td>\n",
       "      <td>...</td>\n",
       "      <td>2</td>\n",
       "      <td>2017-10-21</td>\n",
       "      <td>4</td>\n",
       "      <td>10</td>\n",
       "      <td>21</td>\n",
       "      <td>5</td>\n",
       "      <td>2</td>\n",
       "      <td>0.0</td>\n",
       "      <td>3</td>\n",
       "      <td>0</td>\n",
       "    </tr>\n",
       "    <tr>\n",
       "      <th>757559</th>\n",
       "      <td>2017-10-25 15:52:13.993</td>\n",
       "      <td>4.97</td>\n",
       "      <td>0</td>\n",
       "      <td>6</td>\n",
       "      <td>80.0</td>\n",
       "      <td>50.446938</td>\n",
       "      <td>30.486086</td>\n",
       "      <td>50.435230</td>\n",
       "      <td>30.544340</td>\n",
       "      <td>4</td>\n",
       "      <td>...</td>\n",
       "      <td>15</td>\n",
       "      <td>2017-10-25</td>\n",
       "      <td>4</td>\n",
       "      <td>10</td>\n",
       "      <td>25</td>\n",
       "      <td>2</td>\n",
       "      <td>15</td>\n",
       "      <td>0.0</td>\n",
       "      <td>1</td>\n",
       "      <td>1</td>\n",
       "    </tr>\n",
       "    <tr>\n",
       "      <th>757560</th>\n",
       "      <td>2017-10-12 22:02:50.240</td>\n",
       "      <td>11.04</td>\n",
       "      <td>0</td>\n",
       "      <td>0</td>\n",
       "      <td>98.0</td>\n",
       "      <td>50.441100</td>\n",
       "      <td>30.499100</td>\n",
       "      <td>50.494167</td>\n",
       "      <td>30.507942</td>\n",
       "      <td>4</td>\n",
       "      <td>...</td>\n",
       "      <td>22</td>\n",
       "      <td>2017-10-12</td>\n",
       "      <td>4</td>\n",
       "      <td>10</td>\n",
       "      <td>12</td>\n",
       "      <td>3</td>\n",
       "      <td>22</td>\n",
       "      <td>0.0</td>\n",
       "      <td>1</td>\n",
       "      <td>2</td>\n",
       "    </tr>\n",
       "    <tr>\n",
       "      <th>757561</th>\n",
       "      <td>2017-09-24 03:26:59.570</td>\n",
       "      <td>4.38</td>\n",
       "      <td>0</td>\n",
       "      <td>7</td>\n",
       "      <td>58.0</td>\n",
       "      <td>50.412315</td>\n",
       "      <td>30.485027</td>\n",
       "      <td>50.424526</td>\n",
       "      <td>30.452545</td>\n",
       "      <td>3</td>\n",
       "      <td>...</td>\n",
       "      <td>3</td>\n",
       "      <td>2017-09-24</td>\n",
       "      <td>3</td>\n",
       "      <td>9</td>\n",
       "      <td>24</td>\n",
       "      <td>6</td>\n",
       "      <td>3</td>\n",
       "      <td>0.0</td>\n",
       "      <td>4</td>\n",
       "      <td>3</td>\n",
       "    </tr>\n",
       "    <tr>\n",
       "      <th>757562</th>\n",
       "      <td>2017-08-18 20:51:59.613</td>\n",
       "      <td>6.56</td>\n",
       "      <td>0</td>\n",
       "      <td>19</td>\n",
       "      <td>66.0</td>\n",
       "      <td>50.439140</td>\n",
       "      <td>30.507288</td>\n",
       "      <td>50.463055</td>\n",
       "      <td>30.442432</td>\n",
       "      <td>3</td>\n",
       "      <td>...</td>\n",
       "      <td>20</td>\n",
       "      <td>2017-08-18</td>\n",
       "      <td>3</td>\n",
       "      <td>8</td>\n",
       "      <td>18</td>\n",
       "      <td>4</td>\n",
       "      <td>20</td>\n",
       "      <td>0.0</td>\n",
       "      <td>1</td>\n",
       "      <td>3</td>\n",
       "    </tr>\n",
       "  </tbody>\n",
       "</table>\n",
       "<p>5 rows × 23 columns</p>\n",
       "</div>"
      ],
      "text/plain": [
       "                    created_at  ride_distance  ooSuburbanDistance  \\\n",
       "757558 2017-10-21 02:45:54.357           7.69                   0   \n",
       "757559 2017-10-25 15:52:13.993           4.97                   0   \n",
       "757560 2017-10-12 22:02:50.240          11.04                   0   \n",
       "757561 2017-09-24 03:26:59.570           4.38                   0   \n",
       "757562 2017-08-18 20:51:59.613           6.56                   0   \n",
       "\n",
       "        ooCarSearchTime  ooCost  pickup_lat  pickup_lon  dropoff_lat  \\\n",
       "757558                8   133.0   50.395298   30.617357    50.411171   \n",
       "757559                6    80.0   50.446938   30.486086    50.435230   \n",
       "757560                0    98.0   50.441100   30.499100    50.494167   \n",
       "757561                7    58.0   50.412315   30.485027    50.424526   \n",
       "757562               19    66.0   50.439140   30.507288    50.463055   \n",
       "\n",
       "        dropoff_lon quarter       ...        hour        date quarter_int  \\\n",
       "757558    30.613655       4       ...           2  2017-10-21           4   \n",
       "757559    30.544340       4       ...          15  2017-10-25           4   \n",
       "757560    30.507942       4       ...          22  2017-10-12           4   \n",
       "757561    30.452545       3       ...           3  2017-09-24           3   \n",
       "757562    30.442432       3       ...          20  2017-08-18           3   \n",
       "\n",
       "       month_int day_int  dayofweek_int  hour_int  isHolidays  pickup_cluster  \\\n",
       "757558        10      21              5         2         0.0               3   \n",
       "757559        10      25              2        15         0.0               1   \n",
       "757560        10      12              3        22         0.0               1   \n",
       "757561         9      24              6         3         0.0               4   \n",
       "757562         8      18              4        20         0.0               1   \n",
       "\n",
       "        dropoff_cluster  \n",
       "757558                0  \n",
       "757559                1  \n",
       "757560                2  \n",
       "757561                3  \n",
       "757562                3  \n",
       "\n",
       "[5 rows x 23 columns]"
      ]
     },
     "execution_count": 36,
     "metadata": {},
     "output_type": "execute_result"
    }
   ],
   "source": [
    "data.tail()"
   ]
  },
  {
   "cell_type": "code",
   "execution_count": 37,
   "metadata": {},
   "outputs": [
    {
     "data": {
      "text/plain": [
       "(757563, 23)"
      ]
     },
     "execution_count": 37,
     "metadata": {},
     "output_type": "execute_result"
    }
   ],
   "source": [
    "data.shape"
   ]
  },
  {
   "cell_type": "code",
   "execution_count": 38,
   "metadata": {},
   "outputs": [
    {
     "data": {
      "text/html": [
       "<div>\n",
       "<style scoped>\n",
       "    .dataframe tbody tr th:only-of-type {\n",
       "        vertical-align: middle;\n",
       "    }\n",
       "\n",
       "    .dataframe tbody tr th {\n",
       "        vertical-align: top;\n",
       "    }\n",
       "\n",
       "    .dataframe thead th {\n",
       "        text-align: right;\n",
       "    }\n",
       "</style>\n",
       "<table border=\"1\" class=\"dataframe\">\n",
       "  <thead>\n",
       "    <tr style=\"text-align: right;\">\n",
       "      <th></th>\n",
       "      <th>ride_distance</th>\n",
       "      <th>ooSuburbanDistance</th>\n",
       "      <th>ooCarSearchTime</th>\n",
       "      <th>ooCost</th>\n",
       "      <th>pickup_lat</th>\n",
       "      <th>pickup_lon</th>\n",
       "      <th>dropoff_lat</th>\n",
       "      <th>dropoff_lon</th>\n",
       "      <th>quarter_int</th>\n",
       "      <th>month_int</th>\n",
       "      <th>day_int</th>\n",
       "      <th>dayofweek_int</th>\n",
       "      <th>hour_int</th>\n",
       "      <th>isHolidays</th>\n",
       "    </tr>\n",
       "  </thead>\n",
       "  <tbody>\n",
       "    <tr>\n",
       "      <th>count</th>\n",
       "      <td>757563.000000</td>\n",
       "      <td>757563.0</td>\n",
       "      <td>757563.000000</td>\n",
       "      <td>757563.000000</td>\n",
       "      <td>757563.000000</td>\n",
       "      <td>757563.000000</td>\n",
       "      <td>757563.000000</td>\n",
       "      <td>757563.000000</td>\n",
       "      <td>757563.000000</td>\n",
       "      <td>757563.000000</td>\n",
       "      <td>757563.000000</td>\n",
       "      <td>757563.000000</td>\n",
       "      <td>757563.000000</td>\n",
       "      <td>757563.000000</td>\n",
       "    </tr>\n",
       "    <tr>\n",
       "      <th>mean</th>\n",
       "      <td>11.033578</td>\n",
       "      <td>0.0</td>\n",
       "      <td>19.064550</td>\n",
       "      <td>105.260633</td>\n",
       "      <td>50.446252</td>\n",
       "      <td>30.513727</td>\n",
       "      <td>50.446129</td>\n",
       "      <td>30.513913</td>\n",
       "      <td>3.362024</td>\n",
       "      <td>9.049987</td>\n",
       "      <td>15.862060</td>\n",
       "      <td>3.010894</td>\n",
       "      <td>13.335803</td>\n",
       "      <td>0.021611</td>\n",
       "    </tr>\n",
       "    <tr>\n",
       "      <th>std</th>\n",
       "      <td>7.238301</td>\n",
       "      <td>0.0</td>\n",
       "      <td>30.833056</td>\n",
       "      <td>50.090880</td>\n",
       "      <td>0.038569</td>\n",
       "      <td>0.082846</td>\n",
       "      <td>0.040718</td>\n",
       "      <td>0.088872</td>\n",
       "      <td>0.480586</td>\n",
       "      <td>0.819490</td>\n",
       "      <td>8.867154</td>\n",
       "      <td>1.953505</td>\n",
       "      <td>6.557230</td>\n",
       "      <td>0.145411</td>\n",
       "    </tr>\n",
       "    <tr>\n",
       "      <th>min</th>\n",
       "      <td>0.000000</td>\n",
       "      <td>0.0</td>\n",
       "      <td>-3515.000000</td>\n",
       "      <td>40.000000</td>\n",
       "      <td>50.084835</td>\n",
       "      <td>29.879665</td>\n",
       "      <td>50.064350</td>\n",
       "      <td>29.884018</td>\n",
       "      <td>3.000000</td>\n",
       "      <td>8.000000</td>\n",
       "      <td>1.000000</td>\n",
       "      <td>0.000000</td>\n",
       "      <td>0.000000</td>\n",
       "      <td>0.000000</td>\n",
       "    </tr>\n",
       "    <tr>\n",
       "      <th>25%</th>\n",
       "      <td>5.590000</td>\n",
       "      <td>0.0</td>\n",
       "      <td>5.000000</td>\n",
       "      <td>70.000000</td>\n",
       "      <td>50.422943</td>\n",
       "      <td>30.466900</td>\n",
       "      <td>50.421642</td>\n",
       "      <td>30.464384</td>\n",
       "      <td>3.000000</td>\n",
       "      <td>8.000000</td>\n",
       "      <td>8.000000</td>\n",
       "      <td>1.000000</td>\n",
       "      <td>9.000000</td>\n",
       "      <td>0.000000</td>\n",
       "    </tr>\n",
       "    <tr>\n",
       "      <th>50%</th>\n",
       "      <td>9.940000</td>\n",
       "      <td>0.0</td>\n",
       "      <td>9.000000</td>\n",
       "      <td>100.000000</td>\n",
       "      <td>50.442627</td>\n",
       "      <td>30.510630</td>\n",
       "      <td>50.442272</td>\n",
       "      <td>30.508970</td>\n",
       "      <td>3.000000</td>\n",
       "      <td>9.000000</td>\n",
       "      <td>16.000000</td>\n",
       "      <td>3.000000</td>\n",
       "      <td>14.000000</td>\n",
       "      <td>0.000000</td>\n",
       "    </tr>\n",
       "    <tr>\n",
       "      <th>75%</th>\n",
       "      <td>14.490000</td>\n",
       "      <td>0.0</td>\n",
       "      <td>23.000000</td>\n",
       "      <td>125.000000</td>\n",
       "      <td>50.465700</td>\n",
       "      <td>30.546301</td>\n",
       "      <td>50.467243</td>\n",
       "      <td>30.554310</td>\n",
       "      <td>4.000000</td>\n",
       "      <td>10.000000</td>\n",
       "      <td>23.000000</td>\n",
       "      <td>5.000000</td>\n",
       "      <td>19.000000</td>\n",
       "      <td>0.000000</td>\n",
       "    </tr>\n",
       "    <tr>\n",
       "      <th>max</th>\n",
       "      <td>121.070000</td>\n",
       "      <td>0.0</td>\n",
       "      <td>4042.000000</td>\n",
       "      <td>4062.000000</td>\n",
       "      <td>50.812706</td>\n",
       "      <td>30.988241</td>\n",
       "      <td>50.812706</td>\n",
       "      <td>30.990492</td>\n",
       "      <td>4.000000</td>\n",
       "      <td>10.000000</td>\n",
       "      <td>31.000000</td>\n",
       "      <td>6.000000</td>\n",
       "      <td>23.000000</td>\n",
       "      <td>1.000000</td>\n",
       "    </tr>\n",
       "  </tbody>\n",
       "</table>\n",
       "</div>"
      ],
      "text/plain": [
       "       ride_distance  ooSuburbanDistance  ooCarSearchTime         ooCost  \\\n",
       "count  757563.000000            757563.0    757563.000000  757563.000000   \n",
       "mean       11.033578                 0.0        19.064550     105.260633   \n",
       "std         7.238301                 0.0        30.833056      50.090880   \n",
       "min         0.000000                 0.0     -3515.000000      40.000000   \n",
       "25%         5.590000                 0.0         5.000000      70.000000   \n",
       "50%         9.940000                 0.0         9.000000     100.000000   \n",
       "75%        14.490000                 0.0        23.000000     125.000000   \n",
       "max       121.070000                 0.0      4042.000000    4062.000000   \n",
       "\n",
       "          pickup_lat     pickup_lon    dropoff_lat    dropoff_lon  \\\n",
       "count  757563.000000  757563.000000  757563.000000  757563.000000   \n",
       "mean       50.446252      30.513727      50.446129      30.513913   \n",
       "std         0.038569       0.082846       0.040718       0.088872   \n",
       "min        50.084835      29.879665      50.064350      29.884018   \n",
       "25%        50.422943      30.466900      50.421642      30.464384   \n",
       "50%        50.442627      30.510630      50.442272      30.508970   \n",
       "75%        50.465700      30.546301      50.467243      30.554310   \n",
       "max        50.812706      30.988241      50.812706      30.990492   \n",
       "\n",
       "         quarter_int      month_int        day_int  dayofweek_int  \\\n",
       "count  757563.000000  757563.000000  757563.000000  757563.000000   \n",
       "mean        3.362024       9.049987      15.862060       3.010894   \n",
       "std         0.480586       0.819490       8.867154       1.953505   \n",
       "min         3.000000       8.000000       1.000000       0.000000   \n",
       "25%         3.000000       8.000000       8.000000       1.000000   \n",
       "50%         3.000000       9.000000      16.000000       3.000000   \n",
       "75%         4.000000      10.000000      23.000000       5.000000   \n",
       "max         4.000000      10.000000      31.000000       6.000000   \n",
       "\n",
       "            hour_int     isHolidays  \n",
       "count  757563.000000  757563.000000  \n",
       "mean       13.335803       0.021611  \n",
       "std         6.557230       0.145411  \n",
       "min         0.000000       0.000000  \n",
       "25%         9.000000       0.000000  \n",
       "50%        14.000000       0.000000  \n",
       "75%        19.000000       0.000000  \n",
       "max        23.000000       1.000000  "
      ]
     },
     "execution_count": 38,
     "metadata": {},
     "output_type": "execute_result"
    }
   ],
   "source": [
    "data.describe()"
   ]
  },
  {
   "cell_type": "code",
   "execution_count": 39,
   "metadata": {},
   "outputs": [],
   "source": [
    "# In our dataset, we have both categorical and numeric data. select them for different processing"
   ]
  },
  {
   "cell_type": "code",
   "execution_count": 40,
   "metadata": {},
   "outputs": [],
   "source": [
    "# CATEGORICAL (for the moment only these)\n",
    "catFeatures = ['quarter','month','day','dayofweek', 'pickup_cluster', 'dropoff_cluster']"
   ]
  },
  {
   "cell_type": "code",
   "execution_count": 41,
   "metadata": {},
   "outputs": [],
   "source": [
    "# Convert categorical variable into dummy/indicator variables\n",
    "df_cat = pd.get_dummies(data[catFeatures])"
   ]
  },
  {
   "cell_type": "code",
   "execution_count": 42,
   "metadata": {},
   "outputs": [
    {
     "data": {
      "text/html": [
       "<div>\n",
       "<style scoped>\n",
       "    .dataframe tbody tr th:only-of-type {\n",
       "        vertical-align: middle;\n",
       "    }\n",
       "\n",
       "    .dataframe tbody tr th {\n",
       "        vertical-align: top;\n",
       "    }\n",
       "\n",
       "    .dataframe thead th {\n",
       "        text-align: right;\n",
       "    }\n",
       "</style>\n",
       "<table border=\"1\" class=\"dataframe\">\n",
       "  <thead>\n",
       "    <tr style=\"text-align: right;\">\n",
       "      <th></th>\n",
       "      <th>quarter_3</th>\n",
       "      <th>quarter_4</th>\n",
       "      <th>month_10</th>\n",
       "      <th>month_8</th>\n",
       "      <th>month_9</th>\n",
       "      <th>day_1</th>\n",
       "      <th>day_10</th>\n",
       "      <th>day_11</th>\n",
       "      <th>day_12</th>\n",
       "      <th>day_13</th>\n",
       "      <th>...</th>\n",
       "      <th>pickup_cluster_4</th>\n",
       "      <th>pickup_cluster_5</th>\n",
       "      <th>pickup_cluster_6</th>\n",
       "      <th>dropoff_cluster_0</th>\n",
       "      <th>dropoff_cluster_1</th>\n",
       "      <th>dropoff_cluster_2</th>\n",
       "      <th>dropoff_cluster_3</th>\n",
       "      <th>dropoff_cluster_4</th>\n",
       "      <th>dropoff_cluster_5</th>\n",
       "      <th>dropoff_cluster_6</th>\n",
       "    </tr>\n",
       "  </thead>\n",
       "  <tbody>\n",
       "    <tr>\n",
       "      <th>0</th>\n",
       "      <td>0</td>\n",
       "      <td>1</td>\n",
       "      <td>1</td>\n",
       "      <td>0</td>\n",
       "      <td>0</td>\n",
       "      <td>0</td>\n",
       "      <td>0</td>\n",
       "      <td>0</td>\n",
       "      <td>0</td>\n",
       "      <td>0</td>\n",
       "      <td>...</td>\n",
       "      <td>1</td>\n",
       "      <td>0</td>\n",
       "      <td>0</td>\n",
       "      <td>0</td>\n",
       "      <td>1</td>\n",
       "      <td>0</td>\n",
       "      <td>0</td>\n",
       "      <td>0</td>\n",
       "      <td>0</td>\n",
       "      <td>0</td>\n",
       "    </tr>\n",
       "    <tr>\n",
       "      <th>1</th>\n",
       "      <td>1</td>\n",
       "      <td>0</td>\n",
       "      <td>0</td>\n",
       "      <td>1</td>\n",
       "      <td>0</td>\n",
       "      <td>1</td>\n",
       "      <td>0</td>\n",
       "      <td>0</td>\n",
       "      <td>0</td>\n",
       "      <td>0</td>\n",
       "      <td>...</td>\n",
       "      <td>0</td>\n",
       "      <td>0</td>\n",
       "      <td>0</td>\n",
       "      <td>0</td>\n",
       "      <td>0</td>\n",
       "      <td>1</td>\n",
       "      <td>0</td>\n",
       "      <td>0</td>\n",
       "      <td>0</td>\n",
       "      <td>0</td>\n",
       "    </tr>\n",
       "    <tr>\n",
       "      <th>2</th>\n",
       "      <td>0</td>\n",
       "      <td>1</td>\n",
       "      <td>1</td>\n",
       "      <td>0</td>\n",
       "      <td>0</td>\n",
       "      <td>0</td>\n",
       "      <td>0</td>\n",
       "      <td>0</td>\n",
       "      <td>0</td>\n",
       "      <td>1</td>\n",
       "      <td>...</td>\n",
       "      <td>1</td>\n",
       "      <td>0</td>\n",
       "      <td>0</td>\n",
       "      <td>0</td>\n",
       "      <td>0</td>\n",
       "      <td>0</td>\n",
       "      <td>0</td>\n",
       "      <td>1</td>\n",
       "      <td>0</td>\n",
       "      <td>0</td>\n",
       "    </tr>\n",
       "    <tr>\n",
       "      <th>3</th>\n",
       "      <td>1</td>\n",
       "      <td>0</td>\n",
       "      <td>0</td>\n",
       "      <td>0</td>\n",
       "      <td>1</td>\n",
       "      <td>0</td>\n",
       "      <td>0</td>\n",
       "      <td>0</td>\n",
       "      <td>0</td>\n",
       "      <td>0</td>\n",
       "      <td>...</td>\n",
       "      <td>0</td>\n",
       "      <td>0</td>\n",
       "      <td>0</td>\n",
       "      <td>0</td>\n",
       "      <td>1</td>\n",
       "      <td>0</td>\n",
       "      <td>0</td>\n",
       "      <td>0</td>\n",
       "      <td>0</td>\n",
       "      <td>0</td>\n",
       "    </tr>\n",
       "    <tr>\n",
       "      <th>4</th>\n",
       "      <td>1</td>\n",
       "      <td>0</td>\n",
       "      <td>0</td>\n",
       "      <td>0</td>\n",
       "      <td>1</td>\n",
       "      <td>0</td>\n",
       "      <td>0</td>\n",
       "      <td>0</td>\n",
       "      <td>0</td>\n",
       "      <td>0</td>\n",
       "      <td>...</td>\n",
       "      <td>0</td>\n",
       "      <td>0</td>\n",
       "      <td>0</td>\n",
       "      <td>0</td>\n",
       "      <td>1</td>\n",
       "      <td>0</td>\n",
       "      <td>0</td>\n",
       "      <td>0</td>\n",
       "      <td>0</td>\n",
       "      <td>0</td>\n",
       "    </tr>\n",
       "  </tbody>\n",
       "</table>\n",
       "<p>5 rows × 57 columns</p>\n",
       "</div>"
      ],
      "text/plain": [
       "   quarter_3  quarter_4  month_10  month_8  month_9  day_1  day_10  day_11  \\\n",
       "0          0          1         1        0        0      0       0       0   \n",
       "1          1          0         0        1        0      1       0       0   \n",
       "2          0          1         1        0        0      0       0       0   \n",
       "3          1          0         0        0        1      0       0       0   \n",
       "4          1          0         0        0        1      0       0       0   \n",
       "\n",
       "   day_12  day_13        ...          pickup_cluster_4  pickup_cluster_5  \\\n",
       "0       0       0        ...                         1                 0   \n",
       "1       0       0        ...                         0                 0   \n",
       "2       0       1        ...                         1                 0   \n",
       "3       0       0        ...                         0                 0   \n",
       "4       0       0        ...                         0                 0   \n",
       "\n",
       "   pickup_cluster_6  dropoff_cluster_0  dropoff_cluster_1  dropoff_cluster_2  \\\n",
       "0                 0                  0                  1                  0   \n",
       "1                 0                  0                  0                  1   \n",
       "2                 0                  0                  0                  0   \n",
       "3                 0                  0                  1                  0   \n",
       "4                 0                  0                  1                  0   \n",
       "\n",
       "   dropoff_cluster_3  dropoff_cluster_4  dropoff_cluster_5  dropoff_cluster_6  \n",
       "0                  0                  0                  0                  0  \n",
       "1                  0                  0                  0                  0  \n",
       "2                  0                  1                  0                  0  \n",
       "3                  0                  0                  0                  0  \n",
       "4                  0                  0                  0                  0  \n",
       "\n",
       "[5 rows x 57 columns]"
      ]
     },
     "execution_count": 42,
     "metadata": {},
     "output_type": "execute_result"
    }
   ],
   "source": [
    "# let's check\n",
    "df_cat.head()"
   ]
  },
  {
   "cell_type": "code",
   "execution_count": 43,
   "metadata": {},
   "outputs": [],
   "source": [
    "# concat dummy/indicator variables to dataframe\n",
    "data = pd.concat([data, df_cat], axis=1)"
   ]
  },
  {
   "cell_type": "code",
   "execution_count": 44,
   "metadata": {},
   "outputs": [
    {
     "data": {
      "text/html": [
       "<div>\n",
       "<style scoped>\n",
       "    .dataframe tbody tr th:only-of-type {\n",
       "        vertical-align: middle;\n",
       "    }\n",
       "\n",
       "    .dataframe tbody tr th {\n",
       "        vertical-align: top;\n",
       "    }\n",
       "\n",
       "    .dataframe thead th {\n",
       "        text-align: right;\n",
       "    }\n",
       "</style>\n",
       "<table border=\"1\" class=\"dataframe\">\n",
       "  <thead>\n",
       "    <tr style=\"text-align: right;\">\n",
       "      <th></th>\n",
       "      <th>created_at</th>\n",
       "      <th>ride_distance</th>\n",
       "      <th>ooSuburbanDistance</th>\n",
       "      <th>ooCarSearchTime</th>\n",
       "      <th>ooCost</th>\n",
       "      <th>pickup_lat</th>\n",
       "      <th>pickup_lon</th>\n",
       "      <th>dropoff_lat</th>\n",
       "      <th>dropoff_lon</th>\n",
       "      <th>quarter</th>\n",
       "      <th>...</th>\n",
       "      <th>pickup_cluster_4</th>\n",
       "      <th>pickup_cluster_5</th>\n",
       "      <th>pickup_cluster_6</th>\n",
       "      <th>dropoff_cluster_0</th>\n",
       "      <th>dropoff_cluster_1</th>\n",
       "      <th>dropoff_cluster_2</th>\n",
       "      <th>dropoff_cluster_3</th>\n",
       "      <th>dropoff_cluster_4</th>\n",
       "      <th>dropoff_cluster_5</th>\n",
       "      <th>dropoff_cluster_6</th>\n",
       "    </tr>\n",
       "  </thead>\n",
       "  <tbody>\n",
       "    <tr>\n",
       "      <th>0</th>\n",
       "      <td>2017-10-28 17:35:46.527</td>\n",
       "      <td>4.73</td>\n",
       "      <td>0</td>\n",
       "      <td>12</td>\n",
       "      <td>63.0</td>\n",
       "      <td>50.421890</td>\n",
       "      <td>30.462011</td>\n",
       "      <td>50.453449</td>\n",
       "      <td>30.484613</td>\n",
       "      <td>4</td>\n",
       "      <td>...</td>\n",
       "      <td>1</td>\n",
       "      <td>0</td>\n",
       "      <td>0</td>\n",
       "      <td>0</td>\n",
       "      <td>1</td>\n",
       "      <td>0</td>\n",
       "      <td>0</td>\n",
       "      <td>0</td>\n",
       "      <td>0</td>\n",
       "      <td>0</td>\n",
       "    </tr>\n",
       "    <tr>\n",
       "      <th>1</th>\n",
       "      <td>2017-08-01 07:20:58.877</td>\n",
       "      <td>4.32</td>\n",
       "      <td>0</td>\n",
       "      <td>4</td>\n",
       "      <td>49.0</td>\n",
       "      <td>50.515366</td>\n",
       "      <td>30.493513</td>\n",
       "      <td>50.499004</td>\n",
       "      <td>30.519501</td>\n",
       "      <td>3</td>\n",
       "      <td>...</td>\n",
       "      <td>0</td>\n",
       "      <td>0</td>\n",
       "      <td>0</td>\n",
       "      <td>0</td>\n",
       "      <td>0</td>\n",
       "      <td>1</td>\n",
       "      <td>0</td>\n",
       "      <td>0</td>\n",
       "      <td>0</td>\n",
       "      <td>0</td>\n",
       "    </tr>\n",
       "    <tr>\n",
       "      <th>2</th>\n",
       "      <td>2017-10-13 16:39:32.117</td>\n",
       "      <td>9.93</td>\n",
       "      <td>0</td>\n",
       "      <td>73</td>\n",
       "      <td>108.0</td>\n",
       "      <td>50.429676</td>\n",
       "      <td>30.461479</td>\n",
       "      <td>50.431610</td>\n",
       "      <td>30.357653</td>\n",
       "      <td>4</td>\n",
       "      <td>...</td>\n",
       "      <td>1</td>\n",
       "      <td>0</td>\n",
       "      <td>0</td>\n",
       "      <td>0</td>\n",
       "      <td>0</td>\n",
       "      <td>0</td>\n",
       "      <td>0</td>\n",
       "      <td>1</td>\n",
       "      <td>0</td>\n",
       "      <td>0</td>\n",
       "    </tr>\n",
       "    <tr>\n",
       "      <th>3</th>\n",
       "      <td>2017-09-08 11:07:38.283</td>\n",
       "      <td>3.94</td>\n",
       "      <td>0</td>\n",
       "      <td>2</td>\n",
       "      <td>65.0</td>\n",
       "      <td>50.438011</td>\n",
       "      <td>30.537504</td>\n",
       "      <td>50.455177</td>\n",
       "      <td>30.513376</td>\n",
       "      <td>3</td>\n",
       "      <td>...</td>\n",
       "      <td>0</td>\n",
       "      <td>0</td>\n",
       "      <td>0</td>\n",
       "      <td>0</td>\n",
       "      <td>1</td>\n",
       "      <td>0</td>\n",
       "      <td>0</td>\n",
       "      <td>0</td>\n",
       "      <td>0</td>\n",
       "      <td>0</td>\n",
       "    </tr>\n",
       "    <tr>\n",
       "      <th>4</th>\n",
       "      <td>2017-09-22 10:06:44.573</td>\n",
       "      <td>12.07</td>\n",
       "      <td>0</td>\n",
       "      <td>8</td>\n",
       "      <td>130.0</td>\n",
       "      <td>50.424110</td>\n",
       "      <td>30.391420</td>\n",
       "      <td>50.427300</td>\n",
       "      <td>30.520100</td>\n",
       "      <td>3</td>\n",
       "      <td>...</td>\n",
       "      <td>0</td>\n",
       "      <td>0</td>\n",
       "      <td>0</td>\n",
       "      <td>0</td>\n",
       "      <td>1</td>\n",
       "      <td>0</td>\n",
       "      <td>0</td>\n",
       "      <td>0</td>\n",
       "      <td>0</td>\n",
       "      <td>0</td>\n",
       "    </tr>\n",
       "  </tbody>\n",
       "</table>\n",
       "<p>5 rows × 80 columns</p>\n",
       "</div>"
      ],
      "text/plain": [
       "               created_at  ride_distance  ooSuburbanDistance  ooCarSearchTime  \\\n",
       "0 2017-10-28 17:35:46.527           4.73                   0               12   \n",
       "1 2017-08-01 07:20:58.877           4.32                   0                4   \n",
       "2 2017-10-13 16:39:32.117           9.93                   0               73   \n",
       "3 2017-09-08 11:07:38.283           3.94                   0                2   \n",
       "4 2017-09-22 10:06:44.573          12.07                   0                8   \n",
       "\n",
       "   ooCost  pickup_lat  pickup_lon  dropoff_lat  dropoff_lon quarter  \\\n",
       "0    63.0   50.421890   30.462011    50.453449    30.484613       4   \n",
       "1    49.0   50.515366   30.493513    50.499004    30.519501       3   \n",
       "2   108.0   50.429676   30.461479    50.431610    30.357653       4   \n",
       "3    65.0   50.438011   30.537504    50.455177    30.513376       3   \n",
       "4   130.0   50.424110   30.391420    50.427300    30.520100       3   \n",
       "\n",
       "         ...         pickup_cluster_4 pickup_cluster_5 pickup_cluster_6  \\\n",
       "0        ...                        1                0                0   \n",
       "1        ...                        0                0                0   \n",
       "2        ...                        1                0                0   \n",
       "3        ...                        0                0                0   \n",
       "4        ...                        0                0                0   \n",
       "\n",
       "  dropoff_cluster_0 dropoff_cluster_1  dropoff_cluster_2  dropoff_cluster_3  \\\n",
       "0                 0                 1                  0                  0   \n",
       "1                 0                 0                  1                  0   \n",
       "2                 0                 0                  0                  0   \n",
       "3                 0                 1                  0                  0   \n",
       "4                 0                 1                  0                  0   \n",
       "\n",
       "   dropoff_cluster_4  dropoff_cluster_5  dropoff_cluster_6  \n",
       "0                  0                  0                  0  \n",
       "1                  0                  0                  0  \n",
       "2                  1                  0                  0  \n",
       "3                  0                  0                  0  \n",
       "4                  0                  0                  0  \n",
       "\n",
       "[5 rows x 80 columns]"
      ]
     },
     "execution_count": 44,
     "metadata": {},
     "output_type": "execute_result"
    }
   ],
   "source": [
    "data.head()"
   ]
  },
  {
   "cell_type": "code",
   "execution_count": 45,
   "metadata": {},
   "outputs": [],
   "source": [
    "# drop useless categorical column (because we have dummy/indicator variables)\n",
    "data.drop(catFeatures, axis=1,inplace=True)"
   ]
  },
  {
   "cell_type": "code",
   "execution_count": 46,
   "metadata": {},
   "outputs": [
    {
     "data": {
      "text/html": [
       "<div>\n",
       "<style scoped>\n",
       "    .dataframe tbody tr th:only-of-type {\n",
       "        vertical-align: middle;\n",
       "    }\n",
       "\n",
       "    .dataframe tbody tr th {\n",
       "        vertical-align: top;\n",
       "    }\n",
       "\n",
       "    .dataframe thead th {\n",
       "        text-align: right;\n",
       "    }\n",
       "</style>\n",
       "<table border=\"1\" class=\"dataframe\">\n",
       "  <thead>\n",
       "    <tr style=\"text-align: right;\">\n",
       "      <th></th>\n",
       "      <th>created_at</th>\n",
       "      <th>ride_distance</th>\n",
       "      <th>ooSuburbanDistance</th>\n",
       "      <th>ooCarSearchTime</th>\n",
       "      <th>ooCost</th>\n",
       "      <th>pickup_lat</th>\n",
       "      <th>pickup_lon</th>\n",
       "      <th>dropoff_lat</th>\n",
       "      <th>dropoff_lon</th>\n",
       "      <th>hour</th>\n",
       "      <th>...</th>\n",
       "      <th>pickup_cluster_4</th>\n",
       "      <th>pickup_cluster_5</th>\n",
       "      <th>pickup_cluster_6</th>\n",
       "      <th>dropoff_cluster_0</th>\n",
       "      <th>dropoff_cluster_1</th>\n",
       "      <th>dropoff_cluster_2</th>\n",
       "      <th>dropoff_cluster_3</th>\n",
       "      <th>dropoff_cluster_4</th>\n",
       "      <th>dropoff_cluster_5</th>\n",
       "      <th>dropoff_cluster_6</th>\n",
       "    </tr>\n",
       "  </thead>\n",
       "  <tbody>\n",
       "    <tr>\n",
       "      <th>0</th>\n",
       "      <td>2017-10-28 17:35:46.527</td>\n",
       "      <td>4.73</td>\n",
       "      <td>0</td>\n",
       "      <td>12</td>\n",
       "      <td>63.0</td>\n",
       "      <td>50.421890</td>\n",
       "      <td>30.462011</td>\n",
       "      <td>50.453449</td>\n",
       "      <td>30.484613</td>\n",
       "      <td>17</td>\n",
       "      <td>...</td>\n",
       "      <td>1</td>\n",
       "      <td>0</td>\n",
       "      <td>0</td>\n",
       "      <td>0</td>\n",
       "      <td>1</td>\n",
       "      <td>0</td>\n",
       "      <td>0</td>\n",
       "      <td>0</td>\n",
       "      <td>0</td>\n",
       "      <td>0</td>\n",
       "    </tr>\n",
       "    <tr>\n",
       "      <th>1</th>\n",
       "      <td>2017-08-01 07:20:58.877</td>\n",
       "      <td>4.32</td>\n",
       "      <td>0</td>\n",
       "      <td>4</td>\n",
       "      <td>49.0</td>\n",
       "      <td>50.515366</td>\n",
       "      <td>30.493513</td>\n",
       "      <td>50.499004</td>\n",
       "      <td>30.519501</td>\n",
       "      <td>7</td>\n",
       "      <td>...</td>\n",
       "      <td>0</td>\n",
       "      <td>0</td>\n",
       "      <td>0</td>\n",
       "      <td>0</td>\n",
       "      <td>0</td>\n",
       "      <td>1</td>\n",
       "      <td>0</td>\n",
       "      <td>0</td>\n",
       "      <td>0</td>\n",
       "      <td>0</td>\n",
       "    </tr>\n",
       "    <tr>\n",
       "      <th>2</th>\n",
       "      <td>2017-10-13 16:39:32.117</td>\n",
       "      <td>9.93</td>\n",
       "      <td>0</td>\n",
       "      <td>73</td>\n",
       "      <td>108.0</td>\n",
       "      <td>50.429676</td>\n",
       "      <td>30.461479</td>\n",
       "      <td>50.431610</td>\n",
       "      <td>30.357653</td>\n",
       "      <td>16</td>\n",
       "      <td>...</td>\n",
       "      <td>1</td>\n",
       "      <td>0</td>\n",
       "      <td>0</td>\n",
       "      <td>0</td>\n",
       "      <td>0</td>\n",
       "      <td>0</td>\n",
       "      <td>0</td>\n",
       "      <td>1</td>\n",
       "      <td>0</td>\n",
       "      <td>0</td>\n",
       "    </tr>\n",
       "    <tr>\n",
       "      <th>3</th>\n",
       "      <td>2017-09-08 11:07:38.283</td>\n",
       "      <td>3.94</td>\n",
       "      <td>0</td>\n",
       "      <td>2</td>\n",
       "      <td>65.0</td>\n",
       "      <td>50.438011</td>\n",
       "      <td>30.537504</td>\n",
       "      <td>50.455177</td>\n",
       "      <td>30.513376</td>\n",
       "      <td>11</td>\n",
       "      <td>...</td>\n",
       "      <td>0</td>\n",
       "      <td>0</td>\n",
       "      <td>0</td>\n",
       "      <td>0</td>\n",
       "      <td>1</td>\n",
       "      <td>0</td>\n",
       "      <td>0</td>\n",
       "      <td>0</td>\n",
       "      <td>0</td>\n",
       "      <td>0</td>\n",
       "    </tr>\n",
       "    <tr>\n",
       "      <th>4</th>\n",
       "      <td>2017-09-22 10:06:44.573</td>\n",
       "      <td>12.07</td>\n",
       "      <td>0</td>\n",
       "      <td>8</td>\n",
       "      <td>130.0</td>\n",
       "      <td>50.424110</td>\n",
       "      <td>30.391420</td>\n",
       "      <td>50.427300</td>\n",
       "      <td>30.520100</td>\n",
       "      <td>10</td>\n",
       "      <td>...</td>\n",
       "      <td>0</td>\n",
       "      <td>0</td>\n",
       "      <td>0</td>\n",
       "      <td>0</td>\n",
       "      <td>1</td>\n",
       "      <td>0</td>\n",
       "      <td>0</td>\n",
       "      <td>0</td>\n",
       "      <td>0</td>\n",
       "      <td>0</td>\n",
       "    </tr>\n",
       "  </tbody>\n",
       "</table>\n",
       "<p>5 rows × 74 columns</p>\n",
       "</div>"
      ],
      "text/plain": [
       "               created_at  ride_distance  ooSuburbanDistance  ooCarSearchTime  \\\n",
       "0 2017-10-28 17:35:46.527           4.73                   0               12   \n",
       "1 2017-08-01 07:20:58.877           4.32                   0                4   \n",
       "2 2017-10-13 16:39:32.117           9.93                   0               73   \n",
       "3 2017-09-08 11:07:38.283           3.94                   0                2   \n",
       "4 2017-09-22 10:06:44.573          12.07                   0                8   \n",
       "\n",
       "   ooCost  pickup_lat  pickup_lon  dropoff_lat  dropoff_lon hour  \\\n",
       "0    63.0   50.421890   30.462011    50.453449    30.484613   17   \n",
       "1    49.0   50.515366   30.493513    50.499004    30.519501    7   \n",
       "2   108.0   50.429676   30.461479    50.431610    30.357653   16   \n",
       "3    65.0   50.438011   30.537504    50.455177    30.513376   11   \n",
       "4   130.0   50.424110   30.391420    50.427300    30.520100   10   \n",
       "\n",
       "         ...         pickup_cluster_4  pickup_cluster_5  pickup_cluster_6  \\\n",
       "0        ...                        1                 0                 0   \n",
       "1        ...                        0                 0                 0   \n",
       "2        ...                        1                 0                 0   \n",
       "3        ...                        0                 0                 0   \n",
       "4        ...                        0                 0                 0   \n",
       "\n",
       "   dropoff_cluster_0  dropoff_cluster_1  dropoff_cluster_2  dropoff_cluster_3  \\\n",
       "0                  0                  1                  0                  0   \n",
       "1                  0                  0                  1                  0   \n",
       "2                  0                  0                  0                  0   \n",
       "3                  0                  1                  0                  0   \n",
       "4                  0                  1                  0                  0   \n",
       "\n",
       "   dropoff_cluster_4  dropoff_cluster_5  dropoff_cluster_6  \n",
       "0                  0                  0                  0  \n",
       "1                  0                  0                  0  \n",
       "2                  1                  0                  0  \n",
       "3                  0                  0                  0  \n",
       "4                  0                  0                  0  \n",
       "\n",
       "[5 rows x 74 columns]"
      ]
     },
     "execution_count": 46,
     "metadata": {},
     "output_type": "execute_result"
    }
   ],
   "source": [
    "data.head()"
   ]
  },
  {
   "cell_type": "code",
   "execution_count": 47,
   "metadata": {},
   "outputs": [],
   "source": [
    "#INTEGER\n",
    "intFeatures = ['ride_distance','ooSuburbanDistance','ooCarSearchTime','quarter_int','month_int','day_int','dayofweek_int']"
   ]
  },
  {
   "cell_type": "code",
   "execution_count": 48,
   "metadata": {},
   "outputs": [],
   "source": [
    "# integer features scaling\n",
    "scaler = MinMaxScaler()\n",
    "data[intFeatures] = scaler.fit_transform(data[intFeatures])"
   ]
  },
  {
   "cell_type": "code",
   "execution_count": 49,
   "metadata": {},
   "outputs": [],
   "source": [
    "# split features and target\n",
    "dfX = data.drop(['pickup_lat','pickup_lon','dropoff_lat','dropoff_lon','created_at','date','ooCost'], axis=1)\n",
    "dfY = data['ooCost']"
   ]
  },
  {
   "cell_type": "code",
   "execution_count": 50,
   "metadata": {},
   "outputs": [
    {
     "data": {
      "text/html": [
       "<div>\n",
       "<style scoped>\n",
       "    .dataframe tbody tr th:only-of-type {\n",
       "        vertical-align: middle;\n",
       "    }\n",
       "\n",
       "    .dataframe tbody tr th {\n",
       "        vertical-align: top;\n",
       "    }\n",
       "\n",
       "    .dataframe thead th {\n",
       "        text-align: right;\n",
       "    }\n",
       "</style>\n",
       "<table border=\"1\" class=\"dataframe\">\n",
       "  <thead>\n",
       "    <tr style=\"text-align: right;\">\n",
       "      <th></th>\n",
       "      <th>ride_distance</th>\n",
       "      <th>ooSuburbanDistance</th>\n",
       "      <th>ooCarSearchTime</th>\n",
       "      <th>hour</th>\n",
       "      <th>quarter_int</th>\n",
       "      <th>month_int</th>\n",
       "      <th>day_int</th>\n",
       "      <th>dayofweek_int</th>\n",
       "      <th>hour_int</th>\n",
       "      <th>isHolidays</th>\n",
       "      <th>...</th>\n",
       "      <th>pickup_cluster_4</th>\n",
       "      <th>pickup_cluster_5</th>\n",
       "      <th>pickup_cluster_6</th>\n",
       "      <th>dropoff_cluster_0</th>\n",
       "      <th>dropoff_cluster_1</th>\n",
       "      <th>dropoff_cluster_2</th>\n",
       "      <th>dropoff_cluster_3</th>\n",
       "      <th>dropoff_cluster_4</th>\n",
       "      <th>dropoff_cluster_5</th>\n",
       "      <th>dropoff_cluster_6</th>\n",
       "    </tr>\n",
       "  </thead>\n",
       "  <tbody>\n",
       "    <tr>\n",
       "      <th>0</th>\n",
       "      <td>0.039068</td>\n",
       "      <td>0.0</td>\n",
       "      <td>0.466720</td>\n",
       "      <td>17</td>\n",
       "      <td>1.0</td>\n",
       "      <td>1.0</td>\n",
       "      <td>0.900000</td>\n",
       "      <td>0.833333</td>\n",
       "      <td>17</td>\n",
       "      <td>0.0</td>\n",
       "      <td>...</td>\n",
       "      <td>1</td>\n",
       "      <td>0</td>\n",
       "      <td>0</td>\n",
       "      <td>0</td>\n",
       "      <td>1</td>\n",
       "      <td>0</td>\n",
       "      <td>0</td>\n",
       "      <td>0</td>\n",
       "      <td>0</td>\n",
       "      <td>0</td>\n",
       "    </tr>\n",
       "    <tr>\n",
       "      <th>1</th>\n",
       "      <td>0.035682</td>\n",
       "      <td>0.0</td>\n",
       "      <td>0.465661</td>\n",
       "      <td>7</td>\n",
       "      <td>0.0</td>\n",
       "      <td>0.0</td>\n",
       "      <td>0.000000</td>\n",
       "      <td>0.166667</td>\n",
       "      <td>7</td>\n",
       "      <td>0.0</td>\n",
       "      <td>...</td>\n",
       "      <td>0</td>\n",
       "      <td>0</td>\n",
       "      <td>0</td>\n",
       "      <td>0</td>\n",
       "      <td>0</td>\n",
       "      <td>1</td>\n",
       "      <td>0</td>\n",
       "      <td>0</td>\n",
       "      <td>0</td>\n",
       "      <td>0</td>\n",
       "    </tr>\n",
       "    <tr>\n",
       "      <th>2</th>\n",
       "      <td>0.082019</td>\n",
       "      <td>0.0</td>\n",
       "      <td>0.474792</td>\n",
       "      <td>16</td>\n",
       "      <td>1.0</td>\n",
       "      <td>1.0</td>\n",
       "      <td>0.400000</td>\n",
       "      <td>0.666667</td>\n",
       "      <td>16</td>\n",
       "      <td>0.0</td>\n",
       "      <td>...</td>\n",
       "      <td>1</td>\n",
       "      <td>0</td>\n",
       "      <td>0</td>\n",
       "      <td>0</td>\n",
       "      <td>0</td>\n",
       "      <td>0</td>\n",
       "      <td>0</td>\n",
       "      <td>1</td>\n",
       "      <td>0</td>\n",
       "      <td>0</td>\n",
       "    </tr>\n",
       "    <tr>\n",
       "      <th>3</th>\n",
       "      <td>0.032543</td>\n",
       "      <td>0.0</td>\n",
       "      <td>0.465396</td>\n",
       "      <td>11</td>\n",
       "      <td>0.0</td>\n",
       "      <td>0.5</td>\n",
       "      <td>0.233333</td>\n",
       "      <td>0.666667</td>\n",
       "      <td>11</td>\n",
       "      <td>0.0</td>\n",
       "      <td>...</td>\n",
       "      <td>0</td>\n",
       "      <td>0</td>\n",
       "      <td>0</td>\n",
       "      <td>0</td>\n",
       "      <td>1</td>\n",
       "      <td>0</td>\n",
       "      <td>0</td>\n",
       "      <td>0</td>\n",
       "      <td>0</td>\n",
       "      <td>0</td>\n",
       "    </tr>\n",
       "    <tr>\n",
       "      <th>4</th>\n",
       "      <td>0.099694</td>\n",
       "      <td>0.0</td>\n",
       "      <td>0.466190</td>\n",
       "      <td>10</td>\n",
       "      <td>0.0</td>\n",
       "      <td>0.5</td>\n",
       "      <td>0.700000</td>\n",
       "      <td>0.666667</td>\n",
       "      <td>10</td>\n",
       "      <td>0.0</td>\n",
       "      <td>...</td>\n",
       "      <td>0</td>\n",
       "      <td>0</td>\n",
       "      <td>0</td>\n",
       "      <td>0</td>\n",
       "      <td>1</td>\n",
       "      <td>0</td>\n",
       "      <td>0</td>\n",
       "      <td>0</td>\n",
       "      <td>0</td>\n",
       "      <td>0</td>\n",
       "    </tr>\n",
       "  </tbody>\n",
       "</table>\n",
       "<p>5 rows × 67 columns</p>\n",
       "</div>"
      ],
      "text/plain": [
       "   ride_distance  ooSuburbanDistance  ooCarSearchTime hour  quarter_int  \\\n",
       "0       0.039068                 0.0         0.466720   17          1.0   \n",
       "1       0.035682                 0.0         0.465661    7          0.0   \n",
       "2       0.082019                 0.0         0.474792   16          1.0   \n",
       "3       0.032543                 0.0         0.465396   11          0.0   \n",
       "4       0.099694                 0.0         0.466190   10          0.0   \n",
       "\n",
       "   month_int   day_int  dayofweek_int  hour_int  isHolidays  \\\n",
       "0        1.0  0.900000       0.833333        17         0.0   \n",
       "1        0.0  0.000000       0.166667         7         0.0   \n",
       "2        1.0  0.400000       0.666667        16         0.0   \n",
       "3        0.5  0.233333       0.666667        11         0.0   \n",
       "4        0.5  0.700000       0.666667        10         0.0   \n",
       "\n",
       "         ...          pickup_cluster_4  pickup_cluster_5  pickup_cluster_6  \\\n",
       "0        ...                         1                 0                 0   \n",
       "1        ...                         0                 0                 0   \n",
       "2        ...                         1                 0                 0   \n",
       "3        ...                         0                 0                 0   \n",
       "4        ...                         0                 0                 0   \n",
       "\n",
       "   dropoff_cluster_0  dropoff_cluster_1  dropoff_cluster_2  dropoff_cluster_3  \\\n",
       "0                  0                  1                  0                  0   \n",
       "1                  0                  0                  1                  0   \n",
       "2                  0                  0                  0                  0   \n",
       "3                  0                  1                  0                  0   \n",
       "4                  0                  1                  0                  0   \n",
       "\n",
       "   dropoff_cluster_4  dropoff_cluster_5  dropoff_cluster_6  \n",
       "0                  0                  0                  0  \n",
       "1                  0                  0                  0  \n",
       "2                  1                  0                  0  \n",
       "3                  0                  0                  0  \n",
       "4                  0                  0                  0  \n",
       "\n",
       "[5 rows x 67 columns]"
      ]
     },
     "execution_count": 50,
     "metadata": {},
     "output_type": "execute_result"
    }
   ],
   "source": [
    "dfX.head()"
   ]
  },
  {
   "cell_type": "code",
   "execution_count": 51,
   "metadata": {},
   "outputs": [
    {
     "data": {
      "text/plain": [
       "0     63.0\n",
       "1     49.0\n",
       "2    108.0\n",
       "3     65.0\n",
       "4    130.0\n",
       "Name: ooCost, dtype: float64"
      ]
     },
     "execution_count": 51,
     "metadata": {},
     "output_type": "execute_result"
    }
   ],
   "source": [
    "dfY.head()"
   ]
  },
  {
   "cell_type": "code",
   "execution_count": 52,
   "metadata": {},
   "outputs": [],
   "source": [
    "# get features names\n",
    "fNames = dfX.columns"
   ]
  },
  {
   "cell_type": "code",
   "execution_count": 53,
   "metadata": {},
   "outputs": [
    {
     "data": {
      "text/plain": [
       "Index(['ride_distance', 'ooSuburbanDistance', 'ooCarSearchTime', 'hour',\n",
       "       'quarter_int', 'month_int', 'day_int', 'dayofweek_int', 'hour_int',\n",
       "       'isHolidays', 'quarter_3', 'quarter_4', 'month_10', 'month_8',\n",
       "       'month_9', 'day_1', 'day_10', 'day_11', 'day_12', 'day_13', 'day_14',\n",
       "       'day_15', 'day_16', 'day_17', 'day_18', 'day_19', 'day_2', 'day_20',\n",
       "       'day_21', 'day_22', 'day_23', 'day_24', 'day_25', 'day_26', 'day_27',\n",
       "       'day_28', 'day_29', 'day_3', 'day_30', 'day_31', 'day_4', 'day_5',\n",
       "       'day_6', 'day_7', 'day_8', 'day_9', 'dayofweek_0', 'dayofweek_1',\n",
       "       'dayofweek_2', 'dayofweek_3', 'dayofweek_4', 'dayofweek_5',\n",
       "       'dayofweek_6', 'pickup_cluster_0', 'pickup_cluster_1',\n",
       "       'pickup_cluster_2', 'pickup_cluster_3', 'pickup_cluster_4',\n",
       "       'pickup_cluster_5', 'pickup_cluster_6', 'dropoff_cluster_0',\n",
       "       'dropoff_cluster_1', 'dropoff_cluster_2', 'dropoff_cluster_3',\n",
       "       'dropoff_cluster_4', 'dropoff_cluster_5', 'dropoff_cluster_6'],\n",
       "      dtype='object')"
      ]
     },
     "execution_count": 53,
     "metadata": {},
     "output_type": "execute_result"
    }
   ],
   "source": [
    "fNames"
   ]
  },
  {
   "cell_type": "code",
   "execution_count": 54,
   "metadata": {},
   "outputs": [],
   "source": [
    "# Get values\n",
    "# features\n",
    "X = dfX[fNames].values\n",
    "# targets\n",
    "y = dfY.values"
   ]
  },
  {
   "cell_type": "code",
   "execution_count": 55,
   "metadata": {},
   "outputs": [
    {
     "data": {
      "text/plain": [
       "((757563, 67), (757563,))"
      ]
     },
     "execution_count": 55,
     "metadata": {},
     "output_type": "execute_result"
    }
   ],
   "source": [
    "X.shape, y.shape"
   ]
  },
  {
   "cell_type": "code",
   "execution_count": 56,
   "metadata": {},
   "outputs": [],
   "source": [
    "# Split our data into random train and test subsets with specific proportion\n",
    "X_train, X_test, y_train, y_test = train_test_split(X, y, test_size=0.25, random_state=1)"
   ]
  },
  {
   "cell_type": "code",
   "execution_count": 57,
   "metadata": {},
   "outputs": [
    {
     "data": {
      "text/plain": [
       "((568172, 67), (568172,))"
      ]
     },
     "execution_count": 57,
     "metadata": {},
     "output_type": "execute_result"
    }
   ],
   "source": [
    "X_train.shape, y_train.shape"
   ]
  },
  {
   "cell_type": "markdown",
   "metadata": {},
   "source": [
    "### simple linear regression"
   ]
  },
  {
   "cell_type": "code",
   "execution_count": 58,
   "metadata": {},
   "outputs": [],
   "source": [
    "# Create linear regression object\n",
    "regr = linear_model.LinearRegression()"
   ]
  },
  {
   "cell_type": "code",
   "execution_count": 59,
   "metadata": {},
   "outputs": [
    {
     "data": {
      "text/plain": [
       "LinearRegression(copy_X=True, fit_intercept=True, n_jobs=1, normalize=False)"
      ]
     },
     "execution_count": 59,
     "metadata": {},
     "output_type": "execute_result"
    }
   ],
   "source": [
    "# Train the model using the training sets\n",
    "regr.fit(X_train, y_train)"
   ]
  },
  {
   "cell_type": "code",
   "execution_count": 60,
   "metadata": {},
   "outputs": [],
   "source": [
    "# Make predictions using the testing set\n",
    "y_pred = regr.predict(X_test)"
   ]
  },
  {
   "cell_type": "code",
   "execution_count": 61,
   "metadata": {},
   "outputs": [
    {
     "name": "stdout",
     "output_type": "stream",
     "text": [
      "Mean squared error: 335.72\n"
     ]
    }
   ],
   "source": [
    "# The mean squared error\n",
    "print(\"Mean squared error: %.2f\"\n",
    "      % mean_squared_error(y_test, y_pred))"
   ]
  },
  {
   "cell_type": "code",
   "execution_count": 62,
   "metadata": {},
   "outputs": [],
   "source": [
    "def mean_absolute_percentage_error(y_true, y_pred): \n",
    "    return np.mean(np.abs((y_true - y_pred) / y_true)) * 100"
   ]
  },
  {
   "cell_type": "code",
   "execution_count": 63,
   "metadata": {},
   "outputs": [
    {
     "data": {
      "text/plain": [
       "10.844619901538225"
      ]
     },
     "execution_count": 63,
     "metadata": {},
     "output_type": "execute_result"
    }
   ],
   "source": [
    "mean_absolute_percentage_error(y_test, y_pred)"
   ]
  },
  {
   "cell_type": "markdown",
   "metadata": {},
   "source": [
    "### RandomForestRegressor"
   ]
  },
  {
   "cell_type": "code",
   "execution_count": 64,
   "metadata": {},
   "outputs": [
    {
     "data": {
      "text/plain": [
       "RandomForestRegressor(bootstrap=True, criterion='mse', max_depth=None,\n",
       "           max_features='auto', max_leaf_nodes=None,\n",
       "           min_impurity_decrease=0.0, min_impurity_split=None,\n",
       "           min_samples_leaf=1, min_samples_split=2,\n",
       "           min_weight_fraction_leaf=0.0, n_estimators=100, n_jobs=1,\n",
       "           oob_score=False, random_state=1, verbose=0, warm_start=False)"
      ]
     },
     "execution_count": 64,
     "metadata": {},
     "output_type": "execute_result"
    }
   ],
   "source": [
    "rf = RandomForestRegressor(n_estimators=100, random_state=1)\n",
    "rf.fit(X_train, y_train)"
   ]
  },
  {
   "cell_type": "code",
   "execution_count": 65,
   "metadata": {},
   "outputs": [],
   "source": [
    "# Make predictions using the testing set\n",
    "y_pred = rf.predict(X_test)"
   ]
  },
  {
   "cell_type": "code",
   "execution_count": 66,
   "metadata": {},
   "outputs": [
    {
     "name": "stdout",
     "output_type": "stream",
     "text": [
      "Mean squared error: 326.63\n"
     ]
    }
   ],
   "source": [
    "# The mean squared error\n",
    "print(\"Mean squared error: %.2f\"\n",
    "      % mean_squared_error(y_test, y_pred))"
   ]
  },
  {
   "cell_type": "code",
   "execution_count": 67,
   "metadata": {},
   "outputs": [
    {
     "data": {
      "text/plain": [
       "10.568618387615366"
      ]
     },
     "execution_count": 67,
     "metadata": {},
     "output_type": "execute_result"
    }
   ],
   "source": [
    "mean_absolute_percentage_error(y_test, y_pred)"
   ]
  },
  {
   "cell_type": "markdown",
   "metadata": {},
   "source": [
    "### xgboost"
   ]
  },
  {
   "cell_type": "code",
   "execution_count": 68,
   "metadata": {},
   "outputs": [],
   "source": [
    "xgb_model = xgb.XGBRegressor(random_state=1)"
   ]
  },
  {
   "cell_type": "code",
   "execution_count": 69,
   "metadata": {},
   "outputs": [
    {
     "data": {
      "text/plain": [
       "XGBRegressor(base_score=0.5, booster='gbtree', colsample_bylevel=1,\n",
       "       colsample_bytree=1, gamma=0, learning_rate=0.1, max_delta_step=0,\n",
       "       max_depth=3, min_child_weight=1, missing=None, n_estimators=100,\n",
       "       n_jobs=1, nthread=None, objective='reg:linear', random_state=1,\n",
       "       reg_alpha=0, reg_lambda=1, scale_pos_weight=1, seed=None,\n",
       "       silent=True, subsample=1)"
      ]
     },
     "execution_count": 69,
     "metadata": {},
     "output_type": "execute_result"
    }
   ],
   "source": [
    "xgb_model.fit(X_train, y_train)"
   ]
  },
  {
   "cell_type": "code",
   "execution_count": 70,
   "metadata": {},
   "outputs": [],
   "source": [
    "y_pred = xgb_model.predict(X_test)"
   ]
  },
  {
   "cell_type": "code",
   "execution_count": 71,
   "metadata": {},
   "outputs": [
    {
     "name": "stdout",
     "output_type": "stream",
     "text": [
      "Mean squared error: 317.99\n"
     ]
    }
   ],
   "source": [
    "# The mean squared error\n",
    "print(\"Mean squared error: %.2f\"\n",
    "      % mean_squared_error(y_test, y_pred))"
   ]
  },
  {
   "cell_type": "code",
   "execution_count": 72,
   "metadata": {},
   "outputs": [
    {
     "data": {
      "text/plain": [
       "10.601501644760237"
      ]
     },
     "execution_count": 72,
     "metadata": {},
     "output_type": "execute_result"
    }
   ],
   "source": [
    "mean_absolute_percentage_error(y_test, y_pred)"
   ]
  },
  {
   "cell_type": "markdown",
   "metadata": {},
   "source": [
    "### LightGBM"
   ]
  },
  {
   "cell_type": "code",
   "execution_count": 73,
   "metadata": {},
   "outputs": [],
   "source": [
    "lgb_model = lgb.LGBMRegressor(objective='mape',n_estimators=400, learning_rate=0.2, num_leaves=75, random_state=1)"
   ]
  },
  {
   "cell_type": "code",
   "execution_count": 74,
   "metadata": {},
   "outputs": [
    {
     "data": {
      "text/plain": [
       "LGBMRegressor(boosting_type='gbdt', class_weight=None, colsample_bytree=1.0,\n",
       "       learning_rate=0.2, max_depth=-1, min_child_samples=20,\n",
       "       min_child_weight=0.001, min_split_gain=0.0, n_estimators=400,\n",
       "       n_jobs=-1, num_leaves=75, objective='mape', random_state=1,\n",
       "       reg_alpha=0.0, reg_lambda=0.0, silent=True, subsample=1.0,\n",
       "       subsample_for_bin=200000, subsample_freq=1)"
      ]
     },
     "execution_count": 74,
     "metadata": {},
     "output_type": "execute_result"
    }
   ],
   "source": [
    "lgb_model.fit(X_train, y_train)"
   ]
  },
  {
   "cell_type": "code",
   "execution_count": 75,
   "metadata": {},
   "outputs": [],
   "source": [
    "y_pred = lgb_model.predict(X_test)"
   ]
  },
  {
   "cell_type": "code",
   "execution_count": 76,
   "metadata": {},
   "outputs": [
    {
     "name": "stdout",
     "output_type": "stream",
     "text": [
      "Mean squared error: 364.41\n"
     ]
    }
   ],
   "source": [
    "# The mean squared error\n",
    "print(\"Mean squared error: %.2f\"\n",
    "      % mean_squared_error(y_test, y_pred))"
   ]
  },
  {
   "cell_type": "code",
   "execution_count": 77,
   "metadata": {},
   "outputs": [
    {
     "data": {
      "text/plain": [
       "8.07735918914794"
      ]
     },
     "execution_count": 77,
     "metadata": {},
     "output_type": "execute_result"
    }
   ],
   "source": [
    "mean_absolute_percentage_error(y_test, y_pred)"
   ]
  },
  {
   "cell_type": "code",
   "execution_count": 78,
   "metadata": {},
   "outputs": [],
   "source": [
    "feature_importances = lgb_model.feature_importances_"
   ]
  },
  {
   "cell_type": "code",
   "execution_count": 79,
   "metadata": {},
   "outputs": [
    {
     "data": {
      "image/png": "[encoded data removed]",
      "text/plain": [
       "<Figure size 432x288 with 1 Axes>"
      ]
     },
     "metadata": {},
     "output_type": "display_data"
    }
   ],
   "source": [
    "# Sort feature importances in descending order\n",
    "indices = np.argsort(feature_importances)[::-1]\n",
    "\n",
    "\n",
    "# Create plot\n",
    "plt.figure()\n",
    "plt.title(\"Feature Importance\")\n",
    "\n",
    "# Add bars\n",
    "plt.bar(range(len(fNames)), feature_importances[indices], color = 'dimgray')\n",
    "\n",
    "# Add feature names as x-axis labels\n",
    "plt.xticks(range(len(fNames)), fNames[indices], rotation=90)\n",
    "    \n",
    "for spine in plt.gca().spines.values():\n",
    "    spine.set_visible(False)\n",
    "    \n",
    "plt.show()"
   ]
  },
  {
   "cell_type": "code",
   "execution_count": 80,
   "metadata": {},
   "outputs": [],
   "source": [
    "feats = {} # a dict to hold feature_name: feature_importance\n",
    "for feature, importance in zip(fNames, feature_importances):\n",
    "    feats[feature] = importance #add the name/value pair \n",
    "\n",
    "# create DataFrame\n",
    "importances = pd.DataFrame.from_dict(feats, orient='index').rename(columns={0: 'feature importances'})"
   ]
  },
  {
   "cell_type": "code",
   "execution_count": 81,
   "metadata": {},
   "outputs": [
    {
     "data": {
      "image/png": "[encoded data removed]",
      "text/plain": [
       "<Figure size 432x288 with 1 Axes>"
      ]
     },
     "metadata": {},
     "output_type": "display_data"
    }
   ],
   "source": [
    "ax = importances.sort_values(by='feature importances').tail(20).plot(kind='barh', color = 'dimgray')\n",
    "\n",
    "for p in ax.patches:\n",
    "    ax.annotate(\n",
    "        str(int(p.get_width())),\n",
    "        (p.get_x() + p.get_width(), p.get_y()),\n",
    "        xytext=(5,0),\n",
    "        textcoords='offset points',\n",
    "        horizontalalignment='left',\n",
    "        fontsize=7.5\n",
    ")\n",
    "    \n",
    "for spine in plt.gca().spines.values():\n",
    "    spine.set_visible(False)\n",
    "    \n",
    "plt.title('Feature importances')\n",
    "plt.xlabel('importances')\n",
    "plt.ylabel('Features')\n",
    "plt.legend(loc=\"center right\")\n",
    "plt.show()"
   ]
  },
  {
   "cell_type": "markdown",
   "metadata": {},
   "source": [
    "### ExtraTreesRegressor"
   ]
  },
  {
   "cell_type": "code",
   "execution_count": 82,
   "metadata": {},
   "outputs": [],
   "source": [
    "etr = ExtraTreesRegressor(random_state=1)"
   ]
  },
  {
   "cell_type": "code",
   "execution_count": 83,
   "metadata": {},
   "outputs": [
    {
     "data": {
      "text/plain": [
       "ExtraTreesRegressor(bootstrap=False, criterion='mse', max_depth=None,\n",
       "          max_features='auto', max_leaf_nodes=None,\n",
       "          min_impurity_decrease=0.0, min_impurity_split=None,\n",
       "          min_samples_leaf=1, min_samples_split=2,\n",
       "          min_weight_fraction_leaf=0.0, n_estimators=10, n_jobs=1,\n",
       "          oob_score=False, random_state=1, verbose=0, warm_start=False)"
      ]
     },
     "execution_count": 83,
     "metadata": {},
     "output_type": "execute_result"
    }
   ],
   "source": [
    "etr.fit(X_train, y_train)"
   ]
  },
  {
   "cell_type": "code",
   "execution_count": 84,
   "metadata": {},
   "outputs": [],
   "source": [
    "y_pred = etr.predict(X_test)"
   ]
  },
  {
   "cell_type": "code",
   "execution_count": 85,
   "metadata": {},
   "outputs": [
    {
     "name": "stdout",
     "output_type": "stream",
     "text": [
      "Mean squared error: 386.07\n"
     ]
    }
   ],
   "source": [
    "# The mean squared error\n",
    "print(\"Mean squared error: %.2f\"\n",
    "      % mean_squared_error(y_test, y_pred))"
   ]
  },
  {
   "cell_type": "code",
   "execution_count": 86,
   "metadata": {},
   "outputs": [
    {
     "data": {
      "text/plain": [
       "11.074365394873777"
      ]
     },
     "execution_count": 86,
     "metadata": {},
     "output_type": "execute_result"
    }
   ],
   "source": [
    "mean_absolute_percentage_error(y_test, y_pred)"
   ]
  }
 ],
 "metadata": {
  "kernelspec": {
   "display_name": "Python 3",
   "language": "python",
   "name": "python3"
  },
  "language_info": {
   "codemirror_mode": {
    "name": "ipython",
    "version": 3
   },
   "file_extension": ".py",
   "mimetype": "text/x-python",
   "name": "python",
   "nbconvert_exporter": "python",
   "pygments_lexer": "ipython3",
   "version": "3.5.2"
  }
 },
 "nbformat": 4,
 "nbformat_minor": 2
}
