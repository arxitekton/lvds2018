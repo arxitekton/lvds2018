{
 "cells": [
  {
   "cell_type": "code",
   "execution_count": 33,
   "metadata": {},
   "outputs": [],
   "source": [
    "import pandas as pd\n",
    "import numpy as np"
   ]
  },
  {
   "cell_type": "code",
   "execution_count": 34,
   "metadata": {},
   "outputs": [],
   "source": [
    "filename = \"uklon_sample_3_months.csv\""
   ]
  },
  {
   "cell_type": "code",
   "execution_count": 35,
   "metadata": {},
   "outputs": [],
   "source": [
    "parse_dates = ['created_at']"
   ]
  },
  {
   "cell_type": "code",
   "execution_count": 36,
   "metadata": {},
   "outputs": [
    {
     "name": "stderr",
     "output_type": "stream",
     "text": [
      "/home/temenid/.local/lib/python3.5/site-packages/IPython/core/interactiveshell.py:2785: DtypeWarning: Columns (17,19) have mixed types. Specify dtype option on import or set low_memory=False.\n",
      "  interactivity=interactivity, compiler=compiler, result=result)\n"
     ]
    }
   ],
   "source": [
    "df = pd.read_csv(filename, delimiter=\";\", parse_dates=parse_dates)"
   ]
  },
  {
   "cell_type": "code",
   "execution_count": 37,
   "metadata": {},
   "outputs": [
    {
     "data": {
      "text/html": [
       "<div>\n",
       "<style scoped>\n",
       "    .dataframe tbody tr th:only-of-type {\n",
       "        vertical-align: middle;\n",
       "    }\n",
       "\n",
       "    .dataframe tbody tr th {\n",
       "        vertical-align: top;\n",
       "    }\n",
       "\n",
       "    .dataframe thead th {\n",
       "        text-align: right;\n",
       "    }\n",
       "</style>\n",
       "<table border=\"1\" class=\"dataframe\">\n",
       "  <thead>\n",
       "    <tr style=\"text-align: right;\">\n",
       "      <th></th>\n",
       "      <th>order_id</th>\n",
       "      <th>ride_id</th>\n",
       "      <th>created_at</th>\n",
       "      <th>pickup_lat</th>\n",
       "      <th>pickup_lon</th>\n",
       "      <th>dropoff_lat</th>\n",
       "      <th>dropoff_lon</th>\n",
       "      <th>user_id</th>\n",
       "      <th>driver_id</th>\n",
       "      <th>ride_distance</th>\n",
       "      <th>...</th>\n",
       "      <th>ooExtraCost</th>\n",
       "      <th>ooInitialCost</th>\n",
       "      <th>ooIdleCost</th>\n",
       "      <th>oapAzureMlCost</th>\n",
       "      <th>oapAzureMlCostBid</th>\n",
       "      <th>oapCostProvider</th>\n",
       "      <th>ooSurgeMultiplier</th>\n",
       "      <th>driver_lat</th>\n",
       "      <th>driver_lon</th>\n",
       "      <th>dtTaxiDriver_tdID</th>\n",
       "    </tr>\n",
       "  </thead>\n",
       "  <tbody>\n",
       "    <tr>\n",
       "      <th>0</th>\n",
       "      <td>88314768</td>\n",
       "      <td>764A34A6-5C92-4A0C-90E8-82BDA5A5F9C1</td>\n",
       "      <td>2017-10-31 23:59:59.143</td>\n",
       "      <td>50.448906</td>\n",
       "      <td>30.386448</td>\n",
       "      <td>50.410267</td>\n",
       "      <td>30.412216</td>\n",
       "      <td>420361.0</td>\n",
       "      <td>568114.0</td>\n",
       "      <td>9,1</td>\n",
       "      <td>...</td>\n",
       "      <td>1,00</td>\n",
       "      <td>115,00</td>\n",
       "      <td>0,00</td>\n",
       "      <td>114,00</td>\n",
       "      <td>1.0</td>\n",
       "      <td>AzureML</td>\n",
       "      <td>1,35</td>\n",
       "      <td>50.437012</td>\n",
       "      <td>30.383680</td>\n",
       "      <td>568114.0</td>\n",
       "    </tr>\n",
       "    <tr>\n",
       "      <th>1</th>\n",
       "      <td>88314766</td>\n",
       "      <td>299E8328-8BE6-4097-AF81-4834478B4D51</td>\n",
       "      <td>2017-10-31 23:59:58.577</td>\n",
       "      <td>50.446000</td>\n",
       "      <td>30.576200</td>\n",
       "      <td>50.414604</td>\n",
       "      <td>30.384350</td>\n",
       "      <td>722883.0</td>\n",
       "      <td>553135.0</td>\n",
       "      <td>19,74</td>\n",
       "      <td>...</td>\n",
       "      <td>0,00</td>\n",
       "      <td>146,00</td>\n",
       "      <td>0,00</td>\n",
       "      <td>146,00</td>\n",
       "      <td>0.0</td>\n",
       "      <td>AzureML</td>\n",
       "      <td>1,00</td>\n",
       "      <td>50.449512</td>\n",
       "      <td>30.595537</td>\n",
       "      <td>553135.0</td>\n",
       "    </tr>\n",
       "    <tr>\n",
       "      <th>2</th>\n",
       "      <td>88314765</td>\n",
       "      <td>7AABF746-29E9-47FF-ACE6-20CB27C8D658</td>\n",
       "      <td>2017-10-31 23:59:57.883</td>\n",
       "      <td>50.435800</td>\n",
       "      <td>30.489700</td>\n",
       "      <td>50.513103</td>\n",
       "      <td>30.438412</td>\n",
       "      <td>NaN</td>\n",
       "      <td>NaN</td>\n",
       "      <td>11,16</td>\n",
       "      <td>...</td>\n",
       "      <td>0,00</td>\n",
       "      <td>98,00</td>\n",
       "      <td>0,00</td>\n",
       "      <td>117,00</td>\n",
       "      <td>1.0</td>\n",
       "      <td>Uklon</td>\n",
       "      <td>1,00</td>\n",
       "      <td>NaN</td>\n",
       "      <td>NaN</td>\n",
       "      <td>NaN</td>\n",
       "    </tr>\n",
       "    <tr>\n",
       "      <th>3</th>\n",
       "      <td>88314764</td>\n",
       "      <td>CDB5BFDF-BDF9-40A5-A86A-71651F350242</td>\n",
       "      <td>2017-10-31 23:59:56.403</td>\n",
       "      <td>50.439125</td>\n",
       "      <td>30.519798</td>\n",
       "      <td>50.444698</td>\n",
       "      <td>30.519865</td>\n",
       "      <td>54185.0</td>\n",
       "      <td>NaN</td>\n",
       "      <td>11,07</td>\n",
       "      <td>...</td>\n",
       "      <td>-13,00</td>\n",
       "      <td>100,00</td>\n",
       "      <td>0,00</td>\n",
       "      <td>113,00</td>\n",
       "      <td>1.0</td>\n",
       "      <td>NaN</td>\n",
       "      <td>1,15</td>\n",
       "      <td>NaN</td>\n",
       "      <td>NaN</td>\n",
       "      <td>NaN</td>\n",
       "    </tr>\n",
       "    <tr>\n",
       "      <th>4</th>\n",
       "      <td>88314763</td>\n",
       "      <td>4EDC7FB9-5E34-4132-A2B3-B926F81DB439</td>\n",
       "      <td>2017-10-31 23:59:55.050</td>\n",
       "      <td>50.438610</td>\n",
       "      <td>30.459536</td>\n",
       "      <td>50.439339</td>\n",
       "      <td>30.444427</td>\n",
       "      <td>693323.0</td>\n",
       "      <td>568920.0</td>\n",
       "      <td>11,08</td>\n",
       "      <td>...</td>\n",
       "      <td>-7,00</td>\n",
       "      <td>100,00</td>\n",
       "      <td>0,00</td>\n",
       "      <td>107,00</td>\n",
       "      <td>1.0</td>\n",
       "      <td>AzureML</td>\n",
       "      <td>1,09</td>\n",
       "      <td>50.424972</td>\n",
       "      <td>30.458965</td>\n",
       "      <td>568920.0</td>\n",
       "    </tr>\n",
       "  </tbody>\n",
       "</table>\n",
       "<p>5 rows × 24 columns</p>\n",
       "</div>"
      ],
      "text/plain": [
       "   order_id                               ride_id              created_at  \\\n",
       "0  88314768  764A34A6-5C92-4A0C-90E8-82BDA5A5F9C1 2017-10-31 23:59:59.143   \n",
       "1  88314766  299E8328-8BE6-4097-AF81-4834478B4D51 2017-10-31 23:59:58.577   \n",
       "2  88314765  7AABF746-29E9-47FF-ACE6-20CB27C8D658 2017-10-31 23:59:57.883   \n",
       "3  88314764  CDB5BFDF-BDF9-40A5-A86A-71651F350242 2017-10-31 23:59:56.403   \n",
       "4  88314763  4EDC7FB9-5E34-4132-A2B3-B926F81DB439 2017-10-31 23:59:55.050   \n",
       "\n",
       "   pickup_lat  pickup_lon  dropoff_lat  dropoff_lon   user_id  driver_id  \\\n",
       "0   50.448906   30.386448    50.410267    30.412216  420361.0   568114.0   \n",
       "1   50.446000   30.576200    50.414604    30.384350  722883.0   553135.0   \n",
       "2   50.435800   30.489700    50.513103    30.438412       NaN        NaN   \n",
       "3   50.439125   30.519798    50.444698    30.519865   54185.0        NaN   \n",
       "4   50.438610   30.459536    50.439339    30.444427  693323.0   568920.0   \n",
       "\n",
       "  ride_distance        ...         ooExtraCost  ooInitialCost  ooIdleCost  \\\n",
       "0           9,1        ...                1,00         115,00        0,00   \n",
       "1         19,74        ...                0,00         146,00        0,00   \n",
       "2         11,16        ...                0,00          98,00        0,00   \n",
       "3         11,07        ...              -13,00         100,00        0,00   \n",
       "4         11,08        ...               -7,00         100,00        0,00   \n",
       "\n",
       "  oapAzureMlCost oapAzureMlCostBid oapCostProvider ooSurgeMultiplier  \\\n",
       "0         114,00               1.0         AzureML              1,35   \n",
       "1         146,00               0.0         AzureML              1,00   \n",
       "2         117,00               1.0           Uklon              1,00   \n",
       "3         113,00               1.0             NaN              1,15   \n",
       "4         107,00               1.0         AzureML              1,09   \n",
       "\n",
       "  driver_lat  driver_lon dtTaxiDriver_tdID  \n",
       "0  50.437012   30.383680          568114.0  \n",
       "1  50.449512   30.595537          553135.0  \n",
       "2        NaN         NaN               NaN  \n",
       "3        NaN         NaN               NaN  \n",
       "4  50.424972   30.458965          568920.0  \n",
       "\n",
       "[5 rows x 24 columns]"
      ]
     },
     "execution_count": 37,
     "metadata": {},
     "output_type": "execute_result"
    }
   ],
   "source": [
    "df.head()"
   ]
  },
  {
   "cell_type": "code",
   "execution_count": 38,
   "metadata": {},
   "outputs": [
    {
     "data": {
      "text/plain": [
       "Index(['order_id', 'ride_id', 'created_at', 'pickup_lat', 'pickup_lon',\n",
       "       'dropoff_lat', 'dropoff_lon', 'user_id', 'driver_id', 'ride_distance',\n",
       "       'ooCancelReason', 'ooSuburbanDistance', 'ooCarSearchTime', 'ooCost',\n",
       "       'ooExtraCost', 'ooInitialCost', 'ooIdleCost', 'oapAzureMlCost',\n",
       "       'oapAzureMlCostBid', 'oapCostProvider', 'ooSurgeMultiplier',\n",
       "       'driver_lat', 'driver_lon', 'dtTaxiDriver_tdID'],\n",
       "      dtype='object')"
      ]
     },
     "execution_count": 38,
     "metadata": {},
     "output_type": "execute_result"
    }
   ],
   "source": [
    "df.columns"
   ]
  },
  {
   "cell_type": "code",
   "execution_count": 39,
   "metadata": {},
   "outputs": [
    {
     "data": {
      "text/plain": [
       "order_id                    0\n",
       "ride_id                     0\n",
       "created_at                  0\n",
       "pickup_lat               1326\n",
       "pickup_lon               1326\n",
       "dropoff_lat              1710\n",
       "dropoff_lon              1710\n",
       "user_id                812181\n",
       "driver_id             3629128\n",
       "ride_distance               0\n",
       "ooCancelReason              0\n",
       "ooSuburbanDistance          0\n",
       "ooCarSearchTime             0\n",
       "ooCost                      0\n",
       "ooExtraCost                 0\n",
       "ooInitialCost               0\n",
       "ooIdleCost                  0\n",
       "oapAzureMlCost        3696104\n",
       "oapAzureMlCostBid     3696104\n",
       "oapCostProvider       4176766\n",
       "ooSurgeMultiplier           0\n",
       "driver_lat            4046614\n",
       "driver_lon            4046614\n",
       "dtTaxiDriver_tdID     4046614\n",
       "dtype: int64"
      ]
     },
     "execution_count": 39,
     "metadata": {},
     "output_type": "execute_result"
    }
   ],
   "source": [
    "df.isnull().sum()"
   ]
  },
  {
   "cell_type": "code",
   "execution_count": 40,
   "metadata": {},
   "outputs": [
    {
     "data": {
      "text/plain": [
       "(6444521, 24)"
      ]
     },
     "execution_count": 40,
     "metadata": {},
     "output_type": "execute_result"
    }
   ],
   "source": [
    "df.shape"
   ]
  },
  {
   "cell_type": "code",
   "execution_count": 41,
   "metadata": {},
   "outputs": [],
   "source": [
    "new_df = df.dropna(subset=['driver_id'],inplace=False)"
   ]
  },
  {
   "cell_type": "code",
   "execution_count": 46,
   "metadata": {},
   "outputs": [],
   "source": [
    "data = new_df[['created_at','ride_distance', 'ooSuburbanDistance', 'ooCarSearchTime', 'ooCost']]"
   ]
  },
  {
   "cell_type": "code",
   "execution_count": 47,
   "metadata": {},
   "outputs": [
    {
     "data": {
      "text/html": [
       "<div>\n",
       "<style scoped>\n",
       "    .dataframe tbody tr th:only-of-type {\n",
       "        vertical-align: middle;\n",
       "    }\n",
       "\n",
       "    .dataframe tbody tr th {\n",
       "        vertical-align: top;\n",
       "    }\n",
       "\n",
       "    .dataframe thead th {\n",
       "        text-align: right;\n",
       "    }\n",
       "</style>\n",
       "<table border=\"1\" class=\"dataframe\">\n",
       "  <thead>\n",
       "    <tr style=\"text-align: right;\">\n",
       "      <th></th>\n",
       "      <th>created_at</th>\n",
       "      <th>ride_distance</th>\n",
       "      <th>ooSuburbanDistance</th>\n",
       "      <th>ooCarSearchTime</th>\n",
       "      <th>ooCost</th>\n",
       "    </tr>\n",
       "  </thead>\n",
       "  <tbody>\n",
       "    <tr>\n",
       "      <th>0</th>\n",
       "      <td>2017-10-31 23:59:59.143</td>\n",
       "      <td>9,1</td>\n",
       "      <td>0</td>\n",
       "      <td>13</td>\n",
       "      <td>115,00</td>\n",
       "    </tr>\n",
       "    <tr>\n",
       "      <th>1</th>\n",
       "      <td>2017-10-31 23:59:58.577</td>\n",
       "      <td>19,74</td>\n",
       "      <td>0</td>\n",
       "      <td>7</td>\n",
       "      <td>146,00</td>\n",
       "    </tr>\n",
       "    <tr>\n",
       "      <th>4</th>\n",
       "      <td>2017-10-31 23:59:55.050</td>\n",
       "      <td>11,08</td>\n",
       "      <td>0</td>\n",
       "      <td>1</td>\n",
       "      <td>100,00</td>\n",
       "    </tr>\n",
       "    <tr>\n",
       "      <th>5</th>\n",
       "      <td>2017-10-31 23:59:54.420</td>\n",
       "      <td>9,24</td>\n",
       "      <td>0</td>\n",
       "      <td>69</td>\n",
       "      <td>88,00</td>\n",
       "    </tr>\n",
       "    <tr>\n",
       "      <th>7</th>\n",
       "      <td>2017-10-31 23:59:50.053</td>\n",
       "      <td>3,73</td>\n",
       "      <td>0</td>\n",
       "      <td>4</td>\n",
       "      <td>55,00</td>\n",
       "    </tr>\n",
       "  </tbody>\n",
       "</table>\n",
       "</div>"
      ],
      "text/plain": [
       "               created_at ride_distance  ooSuburbanDistance  ooCarSearchTime  \\\n",
       "0 2017-10-31 23:59:59.143           9,1                   0               13   \n",
       "1 2017-10-31 23:59:58.577         19,74                   0                7   \n",
       "4 2017-10-31 23:59:55.050         11,08                   0                1   \n",
       "5 2017-10-31 23:59:54.420          9,24                   0               69   \n",
       "7 2017-10-31 23:59:50.053          3,73                   0                4   \n",
       "\n",
       "   ooCost  \n",
       "0  115,00  \n",
       "1  146,00  \n",
       "4  100,00  \n",
       "5   88,00  \n",
       "7   55,00  "
      ]
     },
     "execution_count": 47,
     "metadata": {},
     "output_type": "execute_result"
    }
   ],
   "source": [
    "data.head()"
   ]
  },
  {
   "cell_type": "code",
   "execution_count": 48,
   "metadata": {},
   "outputs": [
    {
     "data": {
      "text/plain": [
       "created_at            0\n",
       "ride_distance         0\n",
       "ooSuburbanDistance    0\n",
       "ooCarSearchTime       0\n",
       "ooCost                0\n",
       "dtype: int64"
      ]
     },
     "execution_count": 48,
     "metadata": {},
     "output_type": "execute_result"
    }
   ],
   "source": [
    "data.isnull().sum()"
   ]
  },
  {
   "cell_type": "code",
   "execution_count": 49,
   "metadata": {},
   "outputs": [
    {
     "name": "stderr",
     "output_type": "stream",
     "text": [
      "/home/temenid/.local/lib/python3.5/site-packages/ipykernel_launcher.py:1: SettingWithCopyWarning: \n",
      "A value is trying to be set on a copy of a slice from a DataFrame.\n",
      "Try using .loc[row_indexer,col_indexer] = value instead\n",
      "\n",
      "See the caveats in the documentation: http://pandas.pydata.org/pandas-docs/stable/indexing.html#indexing-view-versus-copy\n",
      "  \"\"\"Entry point for launching an IPython kernel.\n",
      "/home/temenid/.local/lib/python3.5/site-packages/ipykernel_launcher.py:2: SettingWithCopyWarning: \n",
      "A value is trying to be set on a copy of a slice from a DataFrame.\n",
      "Try using .loc[row_indexer,col_indexer] = value instead\n",
      "\n",
      "See the caveats in the documentation: http://pandas.pydata.org/pandas-docs/stable/indexing.html#indexing-view-versus-copy\n",
      "  \n",
      "/home/temenid/.local/lib/python3.5/site-packages/ipykernel_launcher.py:3: SettingWithCopyWarning: \n",
      "A value is trying to be set on a copy of a slice from a DataFrame.\n",
      "Try using .loc[row_indexer,col_indexer] = value instead\n",
      "\n",
      "See the caveats in the documentation: http://pandas.pydata.org/pandas-docs/stable/indexing.html#indexing-view-versus-copy\n",
      "  This is separate from the ipykernel package so we can avoid doing imports until\n",
      "/home/temenid/.local/lib/python3.5/site-packages/ipykernel_launcher.py:4: SettingWithCopyWarning: \n",
      "A value is trying to be set on a copy of a slice from a DataFrame.\n",
      "Try using .loc[row_indexer,col_indexer] = value instead\n",
      "\n",
      "See the caveats in the documentation: http://pandas.pydata.org/pandas-docs/stable/indexing.html#indexing-view-versus-copy\n",
      "  after removing the cwd from sys.path.\n"
     ]
    }
   ],
   "source": [
    "data['quarter'] = data['created_at'].dt.quarter.astype(str)\n",
    "data['month'] = data['created_at'].dt.month.astype(str)\n",
    "data['day'] = data['created_at'].dt.day.astype(str)\n",
    "data['dayofweek'] = data['created_at'].dt.dayofweek.astype(str)"
   ]
  },
  {
   "cell_type": "code",
   "execution_count": 50,
   "metadata": {},
   "outputs": [
    {
     "data": {
      "text/html": [
       "<div>\n",
       "<style scoped>\n",
       "    .dataframe tbody tr th:only-of-type {\n",
       "        vertical-align: middle;\n",
       "    }\n",
       "\n",
       "    .dataframe tbody tr th {\n",
       "        vertical-align: top;\n",
       "    }\n",
       "\n",
       "    .dataframe thead th {\n",
       "        text-align: right;\n",
       "    }\n",
       "</style>\n",
       "<table border=\"1\" class=\"dataframe\">\n",
       "  <thead>\n",
       "    <tr style=\"text-align: right;\">\n",
       "      <th></th>\n",
       "      <th>created_at</th>\n",
       "      <th>ride_distance</th>\n",
       "      <th>ooSuburbanDistance</th>\n",
       "      <th>ooCarSearchTime</th>\n",
       "      <th>ooCost</th>\n",
       "      <th>quarter</th>\n",
       "      <th>month</th>\n",
       "      <th>day</th>\n",
       "      <th>dayofweek</th>\n",
       "    </tr>\n",
       "  </thead>\n",
       "  <tbody>\n",
       "    <tr>\n",
       "      <th>0</th>\n",
       "      <td>2017-10-31 23:59:59.143</td>\n",
       "      <td>9,1</td>\n",
       "      <td>0</td>\n",
       "      <td>13</td>\n",
       "      <td>115,00</td>\n",
       "      <td>4</td>\n",
       "      <td>10</td>\n",
       "      <td>31</td>\n",
       "      <td>1</td>\n",
       "    </tr>\n",
       "    <tr>\n",
       "      <th>1</th>\n",
       "      <td>2017-10-31 23:59:58.577</td>\n",
       "      <td>19,74</td>\n",
       "      <td>0</td>\n",
       "      <td>7</td>\n",
       "      <td>146,00</td>\n",
       "      <td>4</td>\n",
       "      <td>10</td>\n",
       "      <td>31</td>\n",
       "      <td>1</td>\n",
       "    </tr>\n",
       "    <tr>\n",
       "      <th>4</th>\n",
       "      <td>2017-10-31 23:59:55.050</td>\n",
       "      <td>11,08</td>\n",
       "      <td>0</td>\n",
       "      <td>1</td>\n",
       "      <td>100,00</td>\n",
       "      <td>4</td>\n",
       "      <td>10</td>\n",
       "      <td>31</td>\n",
       "      <td>1</td>\n",
       "    </tr>\n",
       "    <tr>\n",
       "      <th>5</th>\n",
       "      <td>2017-10-31 23:59:54.420</td>\n",
       "      <td>9,24</td>\n",
       "      <td>0</td>\n",
       "      <td>69</td>\n",
       "      <td>88,00</td>\n",
       "      <td>4</td>\n",
       "      <td>10</td>\n",
       "      <td>31</td>\n",
       "      <td>1</td>\n",
       "    </tr>\n",
       "    <tr>\n",
       "      <th>7</th>\n",
       "      <td>2017-10-31 23:59:50.053</td>\n",
       "      <td>3,73</td>\n",
       "      <td>0</td>\n",
       "      <td>4</td>\n",
       "      <td>55,00</td>\n",
       "      <td>4</td>\n",
       "      <td>10</td>\n",
       "      <td>31</td>\n",
       "      <td>1</td>\n",
       "    </tr>\n",
       "  </tbody>\n",
       "</table>\n",
       "</div>"
      ],
      "text/plain": [
       "               created_at ride_distance  ooSuburbanDistance  ooCarSearchTime  \\\n",
       "0 2017-10-31 23:59:59.143           9,1                   0               13   \n",
       "1 2017-10-31 23:59:58.577         19,74                   0                7   \n",
       "4 2017-10-31 23:59:55.050         11,08                   0                1   \n",
       "5 2017-10-31 23:59:54.420          9,24                   0               69   \n",
       "7 2017-10-31 23:59:50.053          3,73                   0                4   \n",
       "\n",
       "   ooCost quarter month day dayofweek  \n",
       "0  115,00       4    10  31         1  \n",
       "1  146,00       4    10  31         1  \n",
       "4  100,00       4    10  31         1  \n",
       "5   88,00       4    10  31         1  \n",
       "7   55,00       4    10  31         1  "
      ]
     },
     "execution_count": 50,
     "metadata": {},
     "output_type": "execute_result"
    }
   ],
   "source": [
    "data.head()"
   ]
  },
  {
   "cell_type": "code",
   "execution_count": 51,
   "metadata": {},
   "outputs": [
    {
     "data": {
      "text/plain": [
       "(2815393, 9)"
      ]
     },
     "execution_count": 51,
     "metadata": {},
     "output_type": "execute_result"
    }
   ],
   "source": [
    "data.shape"
   ]
  },
  {
   "cell_type": "code",
   "execution_count": null,
   "metadata": {},
   "outputs": [],
   "source": []
  }
 ],
 "metadata": {
  "kernelspec": {
   "display_name": "Python 3",
   "language": "python",
   "name": "python3"
  },
  "language_info": {
   "codemirror_mode": {
    "name": "ipython",
    "version": 3
   },
   "file_extension": ".py",
   "mimetype": "text/x-python",
   "name": "python",
   "nbconvert_exporter": "python",
   "pygments_lexer": "ipython3",
   "version": "3.5.2"
  }
 },
 "nbformat": 4,
 "nbformat_minor": 2
}
